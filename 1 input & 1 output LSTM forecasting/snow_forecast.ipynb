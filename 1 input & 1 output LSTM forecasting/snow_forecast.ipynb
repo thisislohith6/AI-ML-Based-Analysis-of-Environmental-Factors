{
  "nbformat": 4,
  "nbformat_minor": 0,
  "metadata": {
    "colab": {
      "name": "snow_forecast.ipynb",
      "version": "0.3.2",
      "provenance": []
    },
    "kernelspec": {
      "name": "python3",
      "display_name": "Python 3"
    }
  },
  "cells": [
    {
      "metadata": {
        "id": "8hUrBnbZbwvX",
        "colab_type": "code",
        "colab": {}
      },
      "cell_type": "code",
      "source": [
        ""
      ],
      "execution_count": 0,
      "outputs": []
    },
    {
      "metadata": {
        "id": "kCxeZLCUrIPs",
        "colab_type": "code",
        "outputId": "db503b73-4088-4a66-dd1b-9fbd5aba48cf",
        "colab": {
          "base_uri": "https://localhost:8080/",
          "height": 34
        }
      },
      "cell_type": "code",
      "source": [
        "#https://github.com/kmsravindra/ML-AI-experiments/blob/master/AI/LSTM-time_series/LSTM%20-%20Sine%20wave%20predictor.ipynb\n",
        "#https://towardsdatascience.com/using-lstms-to-forecast-time-series-4ab688386b1f\n",
        "import pandas as pd\n",
        "import numpy as np\n",
        "from keras.layers.core import Dense, Activation, Dropout\n",
        "from keras.layers.recurrent import LSTM\n",
        "from keras.models import Sequential\n",
        "import time\n",
        "from sklearn.metrics import mean_squared_error\n",
        "from matplotlib import pyplot\n",
        "from sklearn.preprocessing import MinMaxScaler\n",
        "from sklearn.preprocessing import StandardScaler"
      ],
      "execution_count": 1,
      "outputs": [
        {
          "output_type": "stream",
          "text": [
            "Using TensorFlow backend.\n"
          ],
          "name": "stderr"
        }
      ]
    },
    {
      "metadata": {
        "id": "d-PrKclWuU5U",
        "colab_type": "code",
        "colab": {}
      },
      "cell_type": "code",
      "source": [
        "series = pd.read_excel('/content/snow only.xlsx', header=None )"
      ],
      "execution_count": 0,
      "outputs": []
    },
    {
      "metadata": {
        "id": "8doRgk-WuX5_",
        "colab_type": "code",
        "outputId": "70dda460-93bb-4311-fc76-70db4e753e9d",
        "colab": {
          "base_uri": "https://localhost:8080/",
          "height": 195
        }
      },
      "cell_type": "code",
      "source": [
        "series.head()"
      ],
      "execution_count": 3,
      "outputs": [
        {
          "output_type": "execute_result",
          "data": {
            "text/html": [
              "<div>\n",
              "<style scoped>\n",
              "    .dataframe tbody tr th:only-of-type {\n",
              "        vertical-align: middle;\n",
              "    }\n",
              "\n",
              "    .dataframe tbody tr th {\n",
              "        vertical-align: top;\n",
              "    }\n",
              "\n",
              "    .dataframe thead th {\n",
              "        text-align: right;\n",
              "    }\n",
              "</style>\n",
              "<table border=\"1\" class=\"dataframe\">\n",
              "  <thead>\n",
              "    <tr style=\"text-align: right;\">\n",
              "      <th></th>\n",
              "      <th>0</th>\n",
              "    </tr>\n",
              "  </thead>\n",
              "  <tbody>\n",
              "    <tr>\n",
              "      <th>0</th>\n",
              "      <td>6790.325</td>\n",
              "    </tr>\n",
              "    <tr>\n",
              "      <th>1</th>\n",
              "      <td>6497.100</td>\n",
              "    </tr>\n",
              "    <tr>\n",
              "      <th>2</th>\n",
              "      <td>6900.650</td>\n",
              "    </tr>\n",
              "    <tr>\n",
              "      <th>3</th>\n",
              "      <td>5850.500</td>\n",
              "    </tr>\n",
              "    <tr>\n",
              "      <th>4</th>\n",
              "      <td>4088.100</td>\n",
              "    </tr>\n",
              "  </tbody>\n",
              "</table>\n",
              "</div>"
            ],
            "text/plain": [
              "          0\n",
              "0  6790.325\n",
              "1  6497.100\n",
              "2  6900.650\n",
              "3  5850.500\n",
              "4  4088.100"
            ]
          },
          "metadata": {
            "tags": []
          },
          "execution_count": 3
        }
      ]
    },
    {
      "metadata": {
        "id": "yRzE49Zkl8JD",
        "colab_type": "code",
        "outputId": "b8b8dcb5-02fd-4814-ec62-b429410f957a",
        "colab": {
          "base_uri": "https://localhost:8080/",
          "height": 34
        }
      },
      "cell_type": "code",
      "source": [
        "series.shape"
      ],
      "execution_count": 4,
      "outputs": [
        {
          "output_type": "execute_result",
          "data": {
            "text/plain": [
              "(204, 1)"
            ]
          },
          "metadata": {
            "tags": []
          },
          "execution_count": 4
        }
      ]
    },
    {
      "metadata": {
        "id": "9QG_1kszvSpg",
        "colab_type": "code",
        "outputId": "8d9dc251-0cae-45e0-cdb6-a5e6c6d457ee",
        "colab": {
          "base_uri": "https://localhost:8080/",
          "height": 398
        }
      },
      "cell_type": "code",
      "source": [
        "pyplot.figure(figsize=(20,6))\n",
        "pyplot.plot(series.values)\n",
        "pyplot.show()"
      ],
      "execution_count": 5,
      "outputs": [
        {
          "output_type": "display_data",
          "data": {
            "image/png": "[encoded data removed]",
            "text/plain": [
              "<Figure size 1440x432 with 1 Axes>"
            ]
          },
          "metadata": {
            "tags": []
          }
        }
      ]
    },
    {
      "metadata": {
        "id": "G48aW9-d053w",
        "colab_type": "code",
        "outputId": "a49b53d0-ebed-4449-8302-462da5bb6b6a",
        "colab": {
          "base_uri": "https://localhost:8080/",
          "height": 398
        }
      },
      "cell_type": "code",
      "source": [
        "pyplot.figure(figsize=(20,6))\n",
        "pyplot.plot(series.values[:12])\n",
        "pyplot.show()"
      ],
      "execution_count": 6,
      "outputs": [
        {
          "output_type": "display_data",
          "data": {
            "image/png": "[encoded data removed]",
            "text/plain": [
              "<Figure size 1440x432 with 1 Axes>"
            ]
          },
          "metadata": {
            "tags": []
          }
        }
      ]
    },
    {
      "metadata": {
        "id": "KWNCG_DM0-SM",
        "colab_type": "code",
        "colab": {}
      },
      "cell_type": "code",
      "source": [
        "scaler = MinMaxScaler(feature_range=(-1, 1))\n",
        "scaled = scaler.fit_transform(series.values)\n",
        "series = pd.DataFrame(scaled)"
      ],
      "execution_count": 0,
      "outputs": []
    },
    {
      "metadata": {
        "id": "MbCUXPFy1B_4",
        "colab_type": "code",
        "colab": {}
      },
      "cell_type": "code",
      "source": [
        "window_size = 12\n",
        "\n",
        "series_s = series.copy()\n",
        "for i in range(window_size):\n",
        "    series = pd.concat([series, series_s.shift(-(i+1))], axis = 1)\n",
        "    \n",
        "series.dropna(axis=0, inplace=True)"
      ],
      "execution_count": 0,
      "outputs": []
    },
    {
      "metadata": {
        "id": "3XIf-l0i1Fva",
        "colab_type": "code",
        "outputId": "a6def2b7-beba-4617-89e3-becd50e1b56a",
        "colab": {
          "base_uri": "https://localhost:8080/",
          "height": 195
        }
      },
      "cell_type": "code",
      "source": [
        "\n",
        "series.head()"
      ],
      "execution_count": 9,
      "outputs": [
        {
          "output_type": "execute_result",
          "data": {
            "text/html": [
              "<div>\n",
              "<style scoped>\n",
              "    .dataframe tbody tr th:only-of-type {\n",
              "        vertical-align: middle;\n",
              "    }\n",
              "\n",
              "    .dataframe tbody tr th {\n",
              "        vertical-align: top;\n",
              "    }\n",
              "\n",
              "    .dataframe thead th {\n",
              "        text-align: right;\n",
              "    }\n",
              "</style>\n",
              "<table border=\"1\" class=\"dataframe\">\n",
              "  <thead>\n",
              "    <tr style=\"text-align: right;\">\n",
              "      <th></th>\n",
              "      <th>0</th>\n",
              "      <th>0</th>\n",
              "      <th>0</th>\n",
              "      <th>0</th>\n",
              "      <th>0</th>\n",
              "      <th>0</th>\n",
              "      <th>0</th>\n",
              "      <th>0</th>\n",
              "      <th>0</th>\n",
              "      <th>0</th>\n",
              "      <th>0</th>\n",
              "      <th>0</th>\n",
              "      <th>0</th>\n",
              "    </tr>\n",
              "  </thead>\n",
              "  <tbody>\n",
              "    <tr>\n",
              "      <th>0</th>\n",
              "      <td>0.596052</td>\n",
              "      <td>0.520988</td>\n",
              "      <td>0.624295</td>\n",
              "      <td>0.355461</td>\n",
              "      <td>-0.095705</td>\n",
              "      <td>-0.504542</td>\n",
              "      <td>-0.900209</td>\n",
              "      <td>-0.976278</td>\n",
              "      <td>-0.789126</td>\n",
              "      <td>-0.624958</td>\n",
              "      <td>0.199144</td>\n",
              "      <td>0.482467</td>\n",
              "      <td>0.834013</td>\n",
              "    </tr>\n",
              "    <tr>\n",
              "      <th>1</th>\n",
              "      <td>0.520988</td>\n",
              "      <td>0.624295</td>\n",
              "      <td>0.355461</td>\n",
              "      <td>-0.095705</td>\n",
              "      <td>-0.504542</td>\n",
              "      <td>-0.900209</td>\n",
              "      <td>-0.976278</td>\n",
              "      <td>-0.789126</td>\n",
              "      <td>-0.624958</td>\n",
              "      <td>0.199144</td>\n",
              "      <td>0.482467</td>\n",
              "      <td>0.834013</td>\n",
              "      <td>0.927675</td>\n",
              "    </tr>\n",
              "    <tr>\n",
              "      <th>2</th>\n",
              "      <td>0.624295</td>\n",
              "      <td>0.355461</td>\n",
              "      <td>-0.095705</td>\n",
              "      <td>-0.504542</td>\n",
              "      <td>-0.900209</td>\n",
              "      <td>-0.976278</td>\n",
              "      <td>-0.789126</td>\n",
              "      <td>-0.624958</td>\n",
              "      <td>0.199144</td>\n",
              "      <td>0.482467</td>\n",
              "      <td>0.834013</td>\n",
              "      <td>0.927675</td>\n",
              "      <td>0.739019</td>\n",
              "    </tr>\n",
              "    <tr>\n",
              "      <th>3</th>\n",
              "      <td>0.355461</td>\n",
              "      <td>-0.095705</td>\n",
              "      <td>-0.504542</td>\n",
              "      <td>-0.900209</td>\n",
              "      <td>-0.976278</td>\n",
              "      <td>-0.789126</td>\n",
              "      <td>-0.624958</td>\n",
              "      <td>0.199144</td>\n",
              "      <td>0.482467</td>\n",
              "      <td>0.834013</td>\n",
              "      <td>0.927675</td>\n",
              "      <td>0.739019</td>\n",
              "      <td>0.486471</td>\n",
              "    </tr>\n",
              "    <tr>\n",
              "      <th>4</th>\n",
              "      <td>-0.095705</td>\n",
              "      <td>-0.504542</td>\n",
              "      <td>-0.900209</td>\n",
              "      <td>-0.976278</td>\n",
              "      <td>-0.789126</td>\n",
              "      <td>-0.624958</td>\n",
              "      <td>0.199144</td>\n",
              "      <td>0.482467</td>\n",
              "      <td>0.834013</td>\n",
              "      <td>0.927675</td>\n",
              "      <td>0.739019</td>\n",
              "      <td>0.486471</td>\n",
              "      <td>0.092637</td>\n",
              "    </tr>\n",
              "  </tbody>\n",
              "</table>\n",
              "</div>"
            ],
            "text/plain": [
              "          0         0         0         0         0         0         0  \\\n",
              "0  0.596052  0.520988  0.624295  0.355461 -0.095705 -0.504542 -0.900209   \n",
              "1  0.520988  0.624295  0.355461 -0.095705 -0.504542 -0.900209 -0.976278   \n",
              "2  0.624295  0.355461 -0.095705 -0.504542 -0.900209 -0.976278 -0.789126   \n",
              "3  0.355461 -0.095705 -0.504542 -0.900209 -0.976278 -0.789126 -0.624958   \n",
              "4 -0.095705 -0.504542 -0.900209 -0.976278 -0.789126 -0.624958  0.199144   \n",
              "\n",
              "          0         0         0         0         0         0  \n",
              "0 -0.976278 -0.789126 -0.624958  0.199144  0.482467  0.834013  \n",
              "1 -0.789126 -0.624958  0.199144  0.482467  0.834013  0.927675  \n",
              "2 -0.624958  0.199144  0.482467  0.834013  0.927675  0.739019  \n",
              "3  0.199144  0.482467  0.834013  0.927675  0.739019  0.486471  \n",
              "4  0.482467  0.834013  0.927675  0.739019  0.486471  0.092637  "
            ]
          },
          "metadata": {
            "tags": []
          },
          "execution_count": 9
        }
      ]
    },
    {
      "metadata": {
        "id": "nJhUXpYm1IxY",
        "colab_type": "code",
        "outputId": "13bbf361-661d-4d1e-fa7f-fe220772a110",
        "colab": {
          "base_uri": "https://localhost:8080/",
          "height": 34
        }
      },
      "cell_type": "code",
      "source": [
        "series.shape"
      ],
      "execution_count": 10,
      "outputs": [
        {
          "output_type": "execute_result",
          "data": {
            "text/plain": [
              "(192, 13)"
            ]
          },
          "metadata": {
            "tags": []
          },
          "execution_count": 10
        }
      ]
    },
    {
      "metadata": {
        "id": "UAc81KzV1N1I",
        "colab_type": "code",
        "colab": {}
      },
      "cell_type": "code",
      "source": [
        "\n",
        "nrow = round(0.75*series.shape[0])"
      ],
      "execution_count": 0,
      "outputs": []
    },
    {
      "metadata": {
        "id": "1N4M-f7Nl7zE",
        "colab_type": "code",
        "outputId": "8658fe37-b867-4018-96ed-947c195db75d",
        "colab": {
          "base_uri": "https://localhost:8080/",
          "height": 34
        }
      },
      "cell_type": "code",
      "source": [
        "nrow"
      ],
      "execution_count": 12,
      "outputs": [
        {
          "output_type": "execute_result",
          "data": {
            "text/plain": [
              "144"
            ]
          },
          "metadata": {
            "tags": []
          },
          "execution_count": 12
        }
      ]
    },
    {
      "metadata": {
        "id": "bN-t579K1Q_x",
        "colab_type": "code",
        "colab": {}
      },
      "cell_type": "code",
      "source": [
        "\n",
        "train = series.iloc[:nrow, :]\n",
        "test = series.iloc[nrow:,:]"
      ],
      "execution_count": 0,
      "outputs": []
    },
    {
      "metadata": {
        "id": "GOogV3OMcnZg",
        "colab_type": "code",
        "outputId": "e2e88ba1-2fe0-4ab0-bd2d-d1ea237a42cf",
        "colab": {
          "base_uri": "https://localhost:8080/",
          "height": 34
        }
      },
      "cell_type": "code",
      "source": [
        "test.shape"
      ],
      "execution_count": 14,
      "outputs": [
        {
          "output_type": "execute_result",
          "data": {
            "text/plain": [
              "(48, 13)"
            ]
          },
          "metadata": {
            "tags": []
          },
          "execution_count": 14
        }
      ]
    },
    {
      "metadata": {
        "id": "7v7LSCvc1UUm",
        "colab_type": "code",
        "colab": {}
      },
      "cell_type": "code",
      "source": [
        "from sklearn.utils import shuffle\n",
        "train = shuffle(train)"
      ],
      "execution_count": 0,
      "outputs": []
    },
    {
      "metadata": {
        "id": "AvqiQttTcyJH",
        "colab_type": "code",
        "outputId": "37c10711-400a-4b84-8753-1983c45d3e8a",
        "colab": {
          "base_uri": "https://localhost:8080/",
          "height": 34
        }
      },
      "cell_type": "code",
      "source": [
        "train.shape"
      ],
      "execution_count": 16,
      "outputs": [
        {
          "output_type": "execute_result",
          "data": {
            "text/plain": [
              "(144, 13)"
            ]
          },
          "metadata": {
            "tags": []
          },
          "execution_count": 16
        }
      ]
    },
    {
      "metadata": {
        "id": "89uUaYUr1WvY",
        "colab_type": "code",
        "colab": {}
      },
      "cell_type": "code",
      "source": [
        "train_X = train.iloc[:,:-1]\n",
        "train_y = train.iloc[:,-1]\n",
        "test_X = test.iloc[:,:-1]\n",
        "test_y = test.iloc[:,-1]"
      ],
      "execution_count": 0,
      "outputs": []
    },
    {
      "metadata": {
        "id": "YvoeD5TS1bIt",
        "colab_type": "code",
        "colab": {}
      },
      "cell_type": "code",
      "source": [
        "train_X = train_X.values\n",
        "train_y = train_y.values\n",
        "test_X = test_X.values\n",
        "test_y = test_y.values"
      ],
      "execution_count": 0,
      "outputs": []
    },
    {
      "metadata": {
        "id": "mLWQUwJR1d-V",
        "colab_type": "code",
        "outputId": "5bd58f79-3aa5-47dd-99ab-bc2d3cd47f5f",
        "colab": {
          "base_uri": "https://localhost:8080/",
          "height": 34
        }
      },
      "cell_type": "code",
      "source": [
        "train_X.shape\n",
        "train_y.shape\n",
        "test_X.shape\n",
        "test_y.shape"
      ],
      "execution_count": 19,
      "outputs": [
        {
          "output_type": "execute_result",
          "data": {
            "text/plain": [
              "(48,)"
            ]
          },
          "metadata": {
            "tags": []
          },
          "execution_count": 19
        }
      ]
    },
    {
      "metadata": {
        "id": "EFLNEKqa1hqE",
        "colab_type": "code",
        "colab": {}
      },
      "cell_type": "code",
      "source": [
        "\n",
        "train_X = train_X.reshape(train_X.shape[0],train_X.shape[1],1)\n",
        "test_X = test_X.reshape(test_X.shape[0],test_X.shape[1],1)\n"
      ],
      "execution_count": 0,
      "outputs": []
    },
    {
      "metadata": {
        "id": "TYNBHUN-1l7A",
        "colab_type": "code",
        "outputId": "2eadb53e-0919-436c-b220-9423072b5237",
        "colab": {
          "base_uri": "https://localhost:8080/",
          "height": 34
        }
      },
      "cell_type": "code",
      "source": [
        "train_X.shape\n",
        "train_y.shape\n",
        "test_X.shape\n",
        "test_y.shape"
      ],
      "execution_count": 21,
      "outputs": [
        {
          "output_type": "execute_result",
          "data": {
            "text/plain": [
              "(48,)"
            ]
          },
          "metadata": {
            "tags": []
          },
          "execution_count": 21
        }
      ]
    },
    {
      "metadata": {
        "id": "N0WKeLdM1ogZ",
        "colab_type": "code",
        "outputId": "d42329be-10c9-438b-bdda-5c7b7117d267",
        "colab": {
          "base_uri": "https://localhost:8080/",
          "height": 390
        }
      },
      "cell_type": "code",
      "source": [
        "model = Sequential()\n",
        "model.add(LSTM(input_shape = (12,1), output_dim= 12, return_sequences = True))\n",
        "model.add(Dropout(0.5))\n",
        "model.add(LSTM(90))\n",
        "model.add(Dropout(0.5))\n",
        "model.add(Dense(1))\n",
        "model.add(Activation(\"linear\"))\n",
        "model.compile(loss=\"mse\", optimizer=\"adam\")\n",
        "model.summary()"
      ],
      "execution_count": 52,
      "outputs": [
        {
          "output_type": "stream",
          "text": [
            "/usr/local/lib/python3.6/dist-packages/ipykernel_launcher.py:2: UserWarning: Update your `LSTM` call to the Keras 2 API: `LSTM(input_shape=(12, 1), return_sequences=True, units=12)`\n",
            "  \n"
          ],
          "name": "stderr"
        },
        {
          "output_type": "stream",
          "text": [
            "_________________________________________________________________\n",
            "Layer (type)                 Output Shape              Param #   \n",
            "=================================================================\n",
            "lstm_5 (LSTM)                (None, 12, 12)            672       \n",
            "_________________________________________________________________\n",
            "dropout_5 (Dropout)          (None, 12, 12)            0         \n",
            "_________________________________________________________________\n",
            "lstm_6 (LSTM)                (None, 90)                37080     \n",
            "_________________________________________________________________\n",
            "dropout_6 (Dropout)          (None, 90)                0         \n",
            "_________________________________________________________________\n",
            "dense_3 (Dense)              (None, 1)                 91        \n",
            "_________________________________________________________________\n",
            "activation_3 (Activation)    (None, 1)                 0         \n",
            "=================================================================\n",
            "Total params: 37,843\n",
            "Trainable params: 37,843\n",
            "Non-trainable params: 0\n",
            "_________________________________________________________________\n"
          ],
          "name": "stdout"
        }
      ]
    },
    {
      "metadata": {
        "id": "grekihHh1r_h",
        "colab_type": "code",
        "outputId": "fceb0b76-ea06-4b91-9ff0-352aa2c1ff7f",
        "colab": {
          "base_uri": "https://localhost:8080/",
          "height": 3444
        }
      },
      "cell_type": "code",
      "source": [
        "start = time.time()\n",
        "model.fit(train_X,train_y,batch_size=15,nb_epoch=100,validation_split=0.1)\n",
        "print(\"> Compilation Time : \", time.time() - start)"
      ],
      "execution_count": 53,
      "outputs": [
        {
          "output_type": "stream",
          "text": [
            "/usr/local/lib/python3.6/dist-packages/ipykernel_launcher.py:2: UserWarning: The `nb_epoch` argument in `fit` has been renamed `epochs`.\n",
            "  \n"
          ],
          "name": "stderr"
        },
        {
          "output_type": "stream",
          "text": [
            "Train on 129 samples, validate on 15 samples\n",
            "Epoch 1/100\n",
            "129/129 [==============================] - 2s 13ms/step - loss: 0.3125 - val_loss: 0.4233\n",
            "Epoch 2/100\n",
            "129/129 [==============================] - 0s 1ms/step - loss: 0.2868 - val_loss: 0.3738\n",
            "Epoch 3/100\n",
            "129/129 [==============================] - 0s 1ms/step - loss: 0.2386 - val_loss: 0.2673\n",
            "Epoch 4/100\n",
            "129/129 [==============================] - 0s 1ms/step - loss: 0.1505 - val_loss: 0.0789\n",
            "Epoch 5/100\n",
            "129/129 [==============================] - 0s 1ms/step - loss: 0.0956 - val_loss: 0.1312\n",
            "Epoch 6/100\n",
            "129/129 [==============================] - 0s 1ms/step - loss: 0.1066 - val_loss: 0.0739\n",
            "Epoch 7/100\n",
            "129/129 [==============================] - 0s 1ms/step - loss: 0.0973 - val_loss: 0.0883\n",
            "Epoch 8/100\n",
            "129/129 [==============================] - 0s 1ms/step - loss: 0.1011 - val_loss: 0.0832\n",
            "Epoch 9/100\n",
            "129/129 [==============================] - 0s 1ms/step - loss: 0.0877 - val_loss: 0.0728\n",
            "Epoch 10/100\n",
            "129/129 [==============================] - 0s 1ms/step - loss: 0.0760 - val_loss: 0.0665\n",
            "Epoch 11/100\n",
            "129/129 [==============================] - 0s 1ms/step - loss: 0.0813 - val_loss: 0.0805\n",
            "Epoch 12/100\n",
            "129/129 [==============================] - 0s 1ms/step - loss: 0.0907 - val_loss: 0.0683\n",
            "Epoch 13/100\n",
            "129/129 [==============================] - 0s 1ms/step - loss: 0.0940 - val_loss: 0.0914\n",
            "Epoch 14/100\n",
            "129/129 [==============================] - 0s 1ms/step - loss: 0.0805 - val_loss: 0.0635\n",
            "Epoch 15/100\n",
            "129/129 [==============================] - 0s 1ms/step - loss: 0.0736 - val_loss: 0.0779\n",
            "Epoch 16/100\n",
            "129/129 [==============================] - 0s 1ms/step - loss: 0.0673 - val_loss: 0.0663\n",
            "Epoch 17/100\n",
            "129/129 [==============================] - 0s 1ms/step - loss: 0.0744 - val_loss: 0.0668\n",
            "Epoch 18/100\n",
            "129/129 [==============================] - 0s 1ms/step - loss: 0.0807 - val_loss: 0.0658\n",
            "Epoch 19/100\n",
            "129/129 [==============================] - 0s 1ms/step - loss: 0.0816 - val_loss: 0.0658\n",
            "Epoch 20/100\n",
            "129/129 [==============================] - 0s 1ms/step - loss: 0.0721 - val_loss: 0.0711\n",
            "Epoch 21/100\n",
            "129/129 [==============================] - 0s 1ms/step - loss: 0.0673 - val_loss: 0.0593\n",
            "Epoch 22/100\n",
            "129/129 [==============================] - 0s 1ms/step - loss: 0.0734 - val_loss: 0.0720\n",
            "Epoch 23/100\n",
            "129/129 [==============================] - 0s 1ms/step - loss: 0.0749 - val_loss: 0.0606\n",
            "Epoch 24/100\n",
            "129/129 [==============================] - 0s 1ms/step - loss: 0.0690 - val_loss: 0.0572\n",
            "Epoch 25/100\n",
            "129/129 [==============================] - 0s 1ms/step - loss: 0.0640 - val_loss: 0.0627\n",
            "Epoch 26/100\n",
            "129/129 [==============================] - 0s 1ms/step - loss: 0.0722 - val_loss: 0.0717\n",
            "Epoch 27/100\n",
            "129/129 [==============================] - 0s 1ms/step - loss: 0.0651 - val_loss: 0.0549\n",
            "Epoch 28/100\n",
            "129/129 [==============================] - 0s 1ms/step - loss: 0.0640 - val_loss: 0.0711\n",
            "Epoch 29/100\n",
            "129/129 [==============================] - 0s 1ms/step - loss: 0.0714 - val_loss: 0.0548\n",
            "Epoch 30/100\n",
            "129/129 [==============================] - 0s 1ms/step - loss: 0.0711 - val_loss: 0.0586\n",
            "Epoch 31/100\n",
            "129/129 [==============================] - 0s 1ms/step - loss: 0.0640 - val_loss: 0.0607\n",
            "Epoch 32/100\n",
            "129/129 [==============================] - 0s 1ms/step - loss: 0.0618 - val_loss: 0.0673\n",
            "Epoch 33/100\n",
            "129/129 [==============================] - 0s 1ms/step - loss: 0.0709 - val_loss: 0.0640\n",
            "Epoch 34/100\n",
            "129/129 [==============================] - 0s 1ms/step - loss: 0.0698 - val_loss: 0.0570\n",
            "Epoch 35/100\n",
            "129/129 [==============================] - 0s 1ms/step - loss: 0.0667 - val_loss: 0.0752\n",
            "Epoch 36/100\n",
            "129/129 [==============================] - 0s 1ms/step - loss: 0.0659 - val_loss: 0.0503\n",
            "Epoch 37/100\n",
            "129/129 [==============================] - 0s 1ms/step - loss: 0.0694 - val_loss: 0.0674\n",
            "Epoch 38/100\n",
            "129/129 [==============================] - 0s 1ms/step - loss: 0.0630 - val_loss: 0.0550\n",
            "Epoch 39/100\n",
            "129/129 [==============================] - 0s 1ms/step - loss: 0.0610 - val_loss: 0.0545\n",
            "Epoch 40/100\n",
            "129/129 [==============================] - 0s 1ms/step - loss: 0.0681 - val_loss: 0.0647\n",
            "Epoch 41/100\n",
            "129/129 [==============================] - 0s 1ms/step - loss: 0.0561 - val_loss: 0.0558\n",
            "Epoch 42/100\n",
            "129/129 [==============================] - 0s 1ms/step - loss: 0.0691 - val_loss: 0.0611\n",
            "Epoch 43/100\n",
            "129/129 [==============================] - 0s 1ms/step - loss: 0.0723 - val_loss: 0.0698\n",
            "Epoch 44/100\n",
            "129/129 [==============================] - 0s 1ms/step - loss: 0.0669 - val_loss: 0.0579\n",
            "Epoch 45/100\n",
            "129/129 [==============================] - 0s 1ms/step - loss: 0.0643 - val_loss: 0.0681\n",
            "Epoch 46/100\n",
            "129/129 [==============================] - 0s 1ms/step - loss: 0.0675 - val_loss: 0.0523\n",
            "Epoch 47/100\n",
            "129/129 [==============================] - 0s 1ms/step - loss: 0.0646 - val_loss: 0.0684\n",
            "Epoch 48/100\n",
            "129/129 [==============================] - 0s 1ms/step - loss: 0.0646 - val_loss: 0.0572\n",
            "Epoch 49/100\n",
            "129/129 [==============================] - 0s 1ms/step - loss: 0.0641 - val_loss: 0.0592\n",
            "Epoch 50/100\n",
            "129/129 [==============================] - 0s 1ms/step - loss: 0.0661 - val_loss: 0.0536\n",
            "Epoch 51/100\n",
            "129/129 [==============================] - 0s 1ms/step - loss: 0.0647 - val_loss: 0.0551\n",
            "Epoch 52/100\n",
            "129/129 [==============================] - 0s 1ms/step - loss: 0.0664 - val_loss: 0.0556\n",
            "Epoch 53/100\n",
            "129/129 [==============================] - 0s 1ms/step - loss: 0.0632 - val_loss: 0.0641\n",
            "Epoch 54/100\n",
            "129/129 [==============================] - 0s 1ms/step - loss: 0.0616 - val_loss: 0.0607\n",
            "Epoch 55/100\n",
            "129/129 [==============================] - 0s 1ms/step - loss: 0.0641 - val_loss: 0.0634\n",
            "Epoch 56/100\n",
            "129/129 [==============================] - 0s 1ms/step - loss: 0.0645 - val_loss: 0.0496\n",
            "Epoch 57/100\n",
            "129/129 [==============================] - 0s 1ms/step - loss: 0.0659 - val_loss: 0.0643\n",
            "Epoch 58/100\n",
            "129/129 [==============================] - 0s 1ms/step - loss: 0.0547 - val_loss: 0.0627\n",
            "Epoch 59/100\n",
            "129/129 [==============================] - 0s 1ms/step - loss: 0.0716 - val_loss: 0.0595\n",
            "Epoch 60/100\n",
            "129/129 [==============================] - 0s 1ms/step - loss: 0.0538 - val_loss: 0.0609\n",
            "Epoch 61/100\n",
            "129/129 [==============================] - 0s 1ms/step - loss: 0.0627 - val_loss: 0.0673\n",
            "Epoch 62/100\n",
            "129/129 [==============================] - 0s 1ms/step - loss: 0.0642 - val_loss: 0.0510\n",
            "Epoch 63/100\n",
            "129/129 [==============================] - 0s 1ms/step - loss: 0.0606 - val_loss: 0.0589\n",
            "Epoch 64/100\n",
            "129/129 [==============================] - 0s 1ms/step - loss: 0.0655 - val_loss: 0.0635\n",
            "Epoch 65/100\n",
            "129/129 [==============================] - 0s 1ms/step - loss: 0.0572 - val_loss: 0.0553\n",
            "Epoch 66/100\n",
            "129/129 [==============================] - 0s 1ms/step - loss: 0.0632 - val_loss: 0.0546\n",
            "Epoch 67/100\n",
            "129/129 [==============================] - 0s 1ms/step - loss: 0.0678 - val_loss: 0.0678\n",
            "Epoch 68/100\n",
            "129/129 [==============================] - 0s 1ms/step - loss: 0.0664 - val_loss: 0.0553\n",
            "Epoch 69/100\n",
            "129/129 [==============================] - 0s 1ms/step - loss: 0.0618 - val_loss: 0.0646\n",
            "Epoch 70/100\n",
            "129/129 [==============================] - 0s 1ms/step - loss: 0.0607 - val_loss: 0.0514\n",
            "Epoch 71/100\n",
            "129/129 [==============================] - 0s 1ms/step - loss: 0.0657 - val_loss: 0.0654\n",
            "Epoch 72/100\n",
            "129/129 [==============================] - 0s 1ms/step - loss: 0.0584 - val_loss: 0.0560\n",
            "Epoch 73/100\n",
            "129/129 [==============================] - 0s 1ms/step - loss: 0.0657 - val_loss: 0.0530\n",
            "Epoch 74/100\n",
            "129/129 [==============================] - 0s 1ms/step - loss: 0.0621 - val_loss: 0.0635\n",
            "Epoch 75/100\n",
            "129/129 [==============================] - 0s 1ms/step - loss: 0.0588 - val_loss: 0.0595\n",
            "Epoch 76/100\n",
            "129/129 [==============================] - 0s 1ms/step - loss: 0.0622 - val_loss: 0.0501\n",
            "Epoch 77/100\n",
            "129/129 [==============================] - 0s 1ms/step - loss: 0.0613 - val_loss: 0.0581\n",
            "Epoch 78/100\n",
            "129/129 [==============================] - 0s 1ms/step - loss: 0.0572 - val_loss: 0.0626\n",
            "Epoch 79/100\n",
            "129/129 [==============================] - 0s 1ms/step - loss: 0.0598 - val_loss: 0.0538\n",
            "Epoch 80/100\n",
            "129/129 [==============================] - 0s 1ms/step - loss: 0.0625 - val_loss: 0.0612\n",
            "Epoch 81/100\n",
            "129/129 [==============================] - 0s 1ms/step - loss: 0.0624 - val_loss: 0.0473\n",
            "Epoch 82/100\n",
            "129/129 [==============================] - 0s 1ms/step - loss: 0.0630 - val_loss: 0.0584\n",
            "Epoch 83/100\n",
            "129/129 [==============================] - 0s 1ms/step - loss: 0.0608 - val_loss: 0.0498\n",
            "Epoch 84/100\n",
            "129/129 [==============================] - 0s 1ms/step - loss: 0.0555 - val_loss: 0.0578\n",
            "Epoch 85/100\n",
            "129/129 [==============================] - 0s 1ms/step - loss: 0.0580 - val_loss: 0.0526\n",
            "Epoch 86/100\n",
            "129/129 [==============================] - 0s 1ms/step - loss: 0.0559 - val_loss: 0.0486\n",
            "Epoch 87/100\n",
            "129/129 [==============================] - 0s 1ms/step - loss: 0.0551 - val_loss: 0.0593\n",
            "Epoch 88/100\n",
            "129/129 [==============================] - 0s 1ms/step - loss: 0.0509 - val_loss: 0.0518\n",
            "Epoch 89/100\n",
            "129/129 [==============================] - 0s 1ms/step - loss: 0.0589 - val_loss: 0.0588\n",
            "Epoch 90/100\n",
            "129/129 [==============================] - 0s 1ms/step - loss: 0.0637 - val_loss: 0.0476\n",
            "Epoch 91/100\n",
            "129/129 [==============================] - 0s 1ms/step - loss: 0.0504 - val_loss: 0.0485\n",
            "Epoch 92/100\n",
            "129/129 [==============================] - 0s 1ms/step - loss: 0.0693 - val_loss: 0.0562\n",
            "Epoch 93/100\n",
            "129/129 [==============================] - 0s 1ms/step - loss: 0.0540 - val_loss: 0.0604\n",
            "Epoch 94/100\n",
            "129/129 [==============================] - 0s 1ms/step - loss: 0.0508 - val_loss: 0.0469\n",
            "Epoch 95/100\n",
            "129/129 [==============================] - 0s 1ms/step - loss: 0.0587 - val_loss: 0.0531\n",
            "Epoch 96/100\n",
            "129/129 [==============================] - 0s 1ms/step - loss: 0.0566 - val_loss: 0.0529\n",
            "Epoch 97/100\n",
            "129/129 [==============================] - 0s 1ms/step - loss: 0.0506 - val_loss: 0.0507\n",
            "Epoch 98/100\n",
            "129/129 [==============================] - 0s 1ms/step - loss: 0.0570 - val_loss: 0.0603\n",
            "Epoch 99/100\n",
            "129/129 [==============================] - 0s 1ms/step - loss: 0.0545 - val_loss: 0.0499\n",
            "Epoch 100/100\n",
            "129/129 [==============================] - 0s 1ms/step - loss: 0.0560 - val_loss: 0.0515\n",
            "> Compilation Time :  19.062193155288696\n"
          ],
          "name": "stdout"
        }
      ]
    },
    {
      "metadata": {
        "id": "xATFekmJ1xqs",
        "colab_type": "code",
        "colab": {}
      },
      "cell_type": "code",
      "source": [
        "preds = model.predict(test_X)"
      ],
      "execution_count": 0,
      "outputs": []
    },
    {
      "metadata": {
        "id": "or7NRYyl12F9",
        "colab_type": "code",
        "colab": {}
      },
      "cell_type": "code",
      "source": [
        "preds = scaler.inverse_transform(preds)"
      ],
      "execution_count": 0,
      "outputs": []
    },
    {
      "metadata": {
        "id": "gx_5tunxPcls",
        "colab_type": "code",
        "outputId": "63cc01b9-ad47-4369-968a-b35324bac0d3",
        "colab": {
          "base_uri": "https://localhost:8080/",
          "height": 34
        }
      },
      "cell_type": "code",
      "source": [
        "preds.shape"
      ],
      "execution_count": 56,
      "outputs": [
        {
          "output_type": "execute_result",
          "data": {
            "text/plain": [
              "(48, 1)"
            ]
          },
          "metadata": {
            "tags": []
          },
          "execution_count": 56
        }
      ]
    },
    {
      "metadata": {
        "id": "3ieW0dj615qC",
        "colab_type": "code",
        "colab": {}
      },
      "cell_type": "code",
      "source": [
        "teest=np.asmatrix(test_y)\n",
        "teest\n",
        "actuals = scaler.inverse_transform(teest)"
      ],
      "execution_count": 0,
      "outputs": []
    },
    {
      "metadata": {
        "id": "rBjwt3J419JH",
        "colab_type": "code",
        "colab": {}
      },
      "cell_type": "code",
      "source": [
        "#mean_squared_error(actuals,preds)"
      ],
      "execution_count": 0,
      "outputs": []
    },
    {
      "metadata": {
        "id": "I5M6puktSme3",
        "colab_type": "code",
        "outputId": "ee6483d3-c3fd-4b74-8307-171c28c2a7a9",
        "colab": {
          "base_uri": "https://localhost:8080/",
          "height": 269
        }
      },
      "cell_type": "code",
      "source": [
        "pyplot.plot(actuals)\n",
        "pyplot.plot(preds)\n",
        "pyplot.show()"
      ],
      "execution_count": 59,
      "outputs": [
        {
          "output_type": "display_data",
          "data": {
            "image/png": "[encoded data removed]",
            "text/plain": [
              "<Figure size 432x288 with 1 Axes>"
            ]
          },
          "metadata": {
            "tags": []
          }
        }
      ]
    },
    {
      "metadata": {
        "id": "at577nrJSrH_",
        "colab_type": "code",
        "outputId": "056d5b3b-18cb-44de-9a44-3c0042f59936",
        "colab": {
          "base_uri": "https://localhost:8080/",
          "height": 269
        }
      },
      "cell_type": "code",
      "source": [
        "pyplot.plot(preds)\n",
        "pyplot.show()"
      ],
      "execution_count": 60,
      "outputs": [
        {
          "output_type": "display_data",
          "data": {
            "image/png": "[encoded data removed]",
            "text/plain": [
              "<Figure size 432x288 with 1 Axes>"
            ]
          },
          "metadata": {
            "tags": []
          }
        }
      ]
    },
    {
      "metadata": {
        "id": "2NvMRYlaSx6k",
        "colab_type": "code",
        "colab": {}
      },
      "cell_type": "code",
      "source": [
        "def moving_test_window_preds(n_future_preds):\n",
        "\n",
        "    ''' n_future_preds - Represents the number of future predictions we want to make\n",
        "                         This coincides with the number of windows that we will move forward\n",
        "                         on the test data\n",
        "    '''\n",
        "    preds_moving = []                                    # Use this to store the prediction made on each test window\n",
        "    moving_test_window = [test_X[0,:].tolist()]          # Creating the first test window\n",
        "    moving_test_window = np.array(moving_test_window)    # Making it an numpy array\n",
        "    \n",
        "    for i in range(n_future_preds):\n",
        "        preds_one_step = model.predict(moving_test_window) # Note that this is already a scaled prediction so no need to rescale this\n",
        "        preds_moving.append(preds_one_step[0,0]) # get the value from the numpy 2D array and append to predictions\n",
        "        preds_one_step = preds_one_step.reshape(1,1,1) # Reshaping the prediction to 3D array for concatenation with moving test window\n",
        "        moving_test_window = np.concatenate((moving_test_window[:,1:,:], preds_one_step), axis=1) # This is the new moving test window, where the first element from the window has been removed and the prediction  has been appended to the end\n",
        "      \n",
        "    preds_moving=np.asmatrix(preds_moving)\n",
        "    \n",
        "    preds_moving = scaler.inverse_transform(preds_moving)\n",
        "    \n",
        "    return preds_moving"
      ],
      "execution_count": 0,
      "outputs": []
    },
    {
      "metadata": {
        "id": "RxcGaMnyS9gU",
        "colab_type": "code",
        "outputId": "4b9993c6-35ae-469c-ada2-d6890eb03e98",
        "colab": {
          "base_uri": "https://localhost:8080/",
          "height": 302
        }
      },
      "cell_type": "code",
      "source": [
        "\n",
        "preds_moving = moving_test_window_preds(98)\n",
        "preds_moving"
      ],
      "execution_count": 62,
      "outputs": [
        {
          "output_type": "execute_result",
          "data": {
            "text/plain": [
              "array([[6263.599 , 7107.3374, 7151.841 , 6326.3604, 4882.6514, 3039.7302,\n",
              "        1411.3475,  884.7601, 1596.8606, 2965.802 , 4300.4014, 5386.861 ,\n",
              "        6383.073 , 7037.3506, 7035.426 , 6200.9243, 4686.7847, 2939.945 ,\n",
              "        1549.7188, 1097.8002, 1808.1207, 3107.7136, 4350.303 , 5456.294 ,\n",
              "        6408.826 , 6997.4653, 6928.627 , 6050.8926, 4535.443 , 2875.2334,\n",
              "        1608.5837, 1244.4562, 1984.2665, 3247.0205, 4454.203 , 5532.168 ,\n",
              "        6441.4897, 6967.436 , 6831.5244, 5909.301 , 4400.469 , 2803.1577,\n",
              "        1628.9552, 1361.9548, 2145.7124, 3382.9907, 4557.7124, 5607.799 ,\n",
              "        6477.195 , 6943.314 , 6741.6865, 5774.322 , 4268.398 , 2721.7073,\n",
              "        1632.6974, 1465.5347, 2295.304 , 3511.6772, 4658.3804, 5683.5186,\n",
              "        6514.7227, 6922.328 , 6655.3477, 5641.7793, 4135.6367, 2634.8684,\n",
              "        1629.5333, 1561.2697, 2435.2234, 3634.1577, 4757.0366, 5759.2876,\n",
              "        6552.939 , 6902.223 , 6569.6553, 5509.367 , 4001.9553, 2545.8252,\n",
              "        1624.0654, 1652.6212, 2567.9363, 3751.9746, 4854.1953, 5834.801 ,\n",
              "        6590.7705, 6881.2705, 6482.7495, 5376.029 , 3867.8413, 2456.626 ,\n",
              "        1618.992 , 1742.0598, 2695.4512, 3866.2263, 4950.093 , 5909.678 ,\n",
              "        6627.291 , 6858.178 ]], dtype=float32)"
            ]
          },
          "metadata": {
            "tags": []
          },
          "execution_count": 62
        }
      ]
    },
    {
      "metadata": {
        "id": "TuW2uE-FerKW",
        "colab_type": "code",
        "outputId": "82a8349a-c1a9-4448-cd0c-c4ec54878af9",
        "colab": {
          "base_uri": "https://localhost:8080/",
          "height": 218
        }
      },
      "cell_type": "code",
      "source": [
        "actuals"
      ],
      "execution_count": 63,
      "outputs": [
        {
          "output_type": "execute_result",
          "data": {
            "text/plain": [
              "array([[7571.25      , 7262.175     , 7403.6       , 6891.80000026,\n",
              "        5800.325     , 3722.85833333, 1671.75833333, 1107.2166666 ,\n",
              "        1373.725     , 2746.575     , 3518.375     , 6518.925     ,\n",
              "        7693.075     , 7672.5       , 7286.4       , 6705.60000063,\n",
              "        5459.        , 3687.45      , 1700.175     ,  969.39999996,\n",
              "        2027.225     , 3590.225     , 5685.3       , 6327.45      ,\n",
              "        6437.575     , 7440.59999967, 6530.95      , 6084.20000037,\n",
              "        4318.575     , 2039.05      ,  702.1       ,  555.63333337,\n",
              "        1127.6       , 1338.825     , 1387.275     , 2680.25      ,\n",
              "        7572.15      , 7176.825     , 7221.15      , 6487.40000044,\n",
              "        5481.075     , 4591.575     , 3267.6       , 2219.76666667,\n",
              "        2977.425     , 3291.925     , 4468.9000003 , 6779.725     ]])"
            ]
          },
          "metadata": {
            "tags": []
          },
          "execution_count": 63
        }
      ]
    },
    {
      "metadata": {
        "id": "R_5ygmGqfrLy",
        "colab_type": "code",
        "colab": {}
      },
      "cell_type": "code",
      "source": [
        "predicted=[6263.599 , 7107.3374, 7151.841 , 6326.3604, 4882.6514, 3039.7302,\n",
        "        1411.3475,  884.7601, 1596.8606, 2965.802 , 4300.4014, 5386.861 ,\n",
        "        6383.073 , 7037.3506, 7035.426 , 6200.9243, 4686.7847, 2939.945 ,\n",
        "        1549.7188, 1097.8002, 1808.1207, 3107.7136, 4350.303 , 5456.294 ,\n",
        "        6408.826 , 6997.4653, 6928.627 , 6050.8926, 4535.443 , 2875.2334,\n",
        "        1608.5837, 1244.4562, 1984.2665, 3247.0205, 4454.203 , 5532.168 ,\n",
        "        6441.4897, 6967.436 , 6831.5244, 5909.301 , 4400.469 , 2803.1577,\n",
        "        1628.9552, 1361.9548, 2145.7124, 3382.9907, 4557.7124, 5607.799 ,\n",
        "        6477.195 , 6943.314 , 6741.6865, 5774.322 , 4268.398 , 2721.7073,\n",
        "        1632.6974, 1465.5347, 2295.304 , 3511.6772, 4658.3804, 5683.5186,\n",
        "        6514.7227, 6922.328 , 6655.3477, 5641.7793, 4135.6367, 2634.8684,\n",
        "        1629.5333, 1561.2697, 2435.2234, 3634.1577, 4757.0366, 5759.2876,\n",
        "        6552.939 , 6902.223 , 6569.6553, 5509.367 , 4001.9553, 2545.8252,\n",
        "        1624.0654, 1652.6212, 2567.9363, 3751.9746, 4854.1953, 5834.801 ,\n",
        "        6590.7705, 6881.2705, 6482.7495, 5376.029 , 3867.8413, 2456.626 ,\n",
        "        1618.992 , 1742.0598, 2695.4512, 3866.2263, 4950.093 , 5909.678 ,\n",
        "        6627.291 , 6858.178 ]\n",
        "actual=[7571.25      , 7262.175     , 7403.6       , 6891.80000026,\n",
        "        5800.325     , 3722.85833333, 1671.75833333, 1107.2166666 ,\n",
        "        1373.725     , 2746.575     , 3518.375     , 6518.925     ,\n",
        "        7693.075     , 7672.5       , 7286.4       , 6705.60000063,\n",
        "        5459.        , 3687.45      , 1700.175     ,  969.39999996,\n",
        "        2027.225     , 3590.225     , 5685.3       , 6327.45      ,\n",
        "        6437.575     , 7440.59999967, 6530.95      , 6084.20000037,\n",
        "        4318.575     , 2039.05      ,  702.1       ,  555.63333337,\n",
        "        1127.6       , 1338.825     , 1387.275     , 2680.25      ,\n",
        "        7572.15      , 7176.825     , 7221.15      , 6487.40000044,\n",
        "        5481.075     , 4591.575     , 3267.6       , 2219.76666667,\n",
        "        2977.425     , 3291.925     , 4468.9000003 , 6779.725     ]"
      ],
      "execution_count": 0,
      "outputs": []
    },
    {
      "metadata": {
        "id": "yaEW0M6HTODu",
        "colab_type": "code",
        "outputId": "c376663c-4ac3-4abe-e96f-a12c102621df",
        "colab": {
          "base_uri": "https://localhost:8080/",
          "height": 269
        }
      },
      "cell_type": "code",
      "source": [
        "pyplot.plot(actual)\n",
        "pyplot.plot(predicted)\n",
        "pyplot.title(\"LSTM's Forecasting\")\n",
        "pyplot.xlabel('Forecasting')\n",
        "pyplot.ylabel('Snow cover')\n",
        "pyplot.show()"
      ],
      "execution_count": 65,
      "outputs": [
        {
          "output_type": "display_data",
          "data": {
            "image/png": "[encoded data removed]",
            "text/plain": [
              "<Figure size 432x288 with 1 Axes>"
            ]
          },
          "metadata": {
            "tags": []
          }
        }
      ]
    },
    {
      "metadata": {
        "id": "48bGcNfmeVHY",
        "colab_type": "code",
        "colab": {}
      },
      "cell_type": "code",
      "source": [
        ""
      ],
      "execution_count": 0,
      "outputs": []
    }
  ]
}