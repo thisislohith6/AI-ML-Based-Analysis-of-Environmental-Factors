{
  "nbformat": 4,
  "nbformat_minor": 0,
  "metadata": {
    "colab": {
      "name": "temp_forecast.ipynb",
      "version": "0.3.2",
      "provenance": []
    },
    "kernelspec": {
      "name": "python3",
      "display_name": "Python 3"
    }
  },
  "cells": [
    {
      "metadata": {
        "id": "kCxeZLCUrIPs",
        "colab_type": "code",
        "outputId": "a483881e-2601-4962-9243-b48f9d4712b7",
        "colab": {
          "base_uri": "https://localhost:8080/",
          "height": 34
        }
      },
      "cell_type": "code",
      "source": [
        "#https://github.com/kmsravindra/ML-AI-experiments/blob/master/AI/LSTM-time_series/LSTM%20-%20Sine%20wave%20predictor.ipynb\n",
        "#https://towardsdatascience.com/using-lstms-to-forecast-time-series-4ab688386b1f\n",
        "import pandas as pd\n",
        "import numpy as np\n",
        "from keras.layers.core import Dense, Activation, Dropout\n",
        "from keras.layers.recurrent import LSTM\n",
        "from keras.models import Sequential\n",
        "import time\n",
        "from sklearn.metrics import mean_squared_error\n",
        "from matplotlib import pyplot\n",
        "from sklearn.preprocessing import MinMaxScaler\n",
        "from sklearn.preprocessing import StandardScaler"
      ],
      "execution_count": 1,
      "outputs": [
        {
          "output_type": "stream",
          "text": [
            "Using TensorFlow backend.\n"
          ],
          "name": "stderr"
        }
      ]
    },
    {
      "metadata": {
        "id": "d-PrKclWuU5U",
        "colab_type": "code",
        "colab": {}
      },
      "cell_type": "code",
      "source": [
        "series = pd.read_excel('/content/temp only.xlsx', header=None )"
      ],
      "execution_count": 0,
      "outputs": []
    },
    {
      "metadata": {
        "id": "8doRgk-WuX5_",
        "colab_type": "code",
        "outputId": "4c4f3e0f-a669-4b89-858e-1550a081c914",
        "colab": {
          "base_uri": "https://localhost:8080/",
          "height": 195
        }
      },
      "cell_type": "code",
      "source": [
        "series.head()"
      ],
      "execution_count": 3,
      "outputs": [
        {
          "output_type": "execute_result",
          "data": {
            "text/html": [
              "<div>\n",
              "<style scoped>\n",
              "    .dataframe tbody tr th:only-of-type {\n",
              "        vertical-align: middle;\n",
              "    }\n",
              "\n",
              "    .dataframe tbody tr th {\n",
              "        vertical-align: top;\n",
              "    }\n",
              "\n",
              "    .dataframe thead th {\n",
              "        text-align: right;\n",
              "    }\n",
              "</style>\n",
              "<table border=\"1\" class=\"dataframe\">\n",
              "  <thead>\n",
              "    <tr style=\"text-align: right;\">\n",
              "      <th></th>\n",
              "      <th>0</th>\n",
              "    </tr>\n",
              "  </thead>\n",
              "  <tbody>\n",
              "    <tr>\n",
              "      <th>0</th>\n",
              "      <td>271.344059</td>\n",
              "    </tr>\n",
              "    <tr>\n",
              "      <th>1</th>\n",
              "      <td>273.913663</td>\n",
              "    </tr>\n",
              "    <tr>\n",
              "      <th>2</th>\n",
              "      <td>277.316851</td>\n",
              "    </tr>\n",
              "    <tr>\n",
              "      <th>3</th>\n",
              "      <td>283.796798</td>\n",
              "    </tr>\n",
              "    <tr>\n",
              "      <th>4</th>\n",
              "      <td>290.649088</td>\n",
              "    </tr>\n",
              "  </tbody>\n",
              "</table>\n",
              "</div>"
            ],
            "text/plain": [
              "            0\n",
              "0  271.344059\n",
              "1  273.913663\n",
              "2  277.316851\n",
              "3  283.796798\n",
              "4  290.649088"
            ]
          },
          "metadata": {
            "tags": []
          },
          "execution_count": 3
        }
      ]
    },
    {
      "metadata": {
        "id": "yRzE49Zkl8JD",
        "colab_type": "code",
        "outputId": "dbba2ec6-ba9d-4021-faf0-375e9d01a2b8",
        "colab": {
          "base_uri": "https://localhost:8080/",
          "height": 34
        }
      },
      "cell_type": "code",
      "source": [
        "series.shape"
      ],
      "execution_count": 4,
      "outputs": [
        {
          "output_type": "execute_result",
          "data": {
            "text/plain": [
              "(204, 1)"
            ]
          },
          "metadata": {
            "tags": []
          },
          "execution_count": 4
        }
      ]
    },
    {
      "metadata": {
        "id": "9QG_1kszvSpg",
        "colab_type": "code",
        "outputId": "70391fee-6a8e-451b-c949-a3f325b40138",
        "colab": {
          "base_uri": "https://localhost:8080/",
          "height": 398
        }
      },
      "cell_type": "code",
      "source": [
        "pyplot.figure(figsize=(20,6))\n",
        "pyplot.plot(series.values)\n",
        "pyplot.show()"
      ],
      "execution_count": 5,
      "outputs": [
        {
          "output_type": "display_data",
          "data": {
            "image/png": "[encoded data removed]",
            "text/plain": [
              "<Figure size 1440x432 with 1 Axes>"
            ]
          },
          "metadata": {
            "tags": []
          }
        }
      ]
    },
    {
      "metadata": {
        "id": "G48aW9-d053w",
        "colab_type": "code",
        "outputId": "e7cd2b77-55c8-4cdd-911e-e5a3d6eb24cc",
        "colab": {
          "base_uri": "https://localhost:8080/",
          "height": 398
        }
      },
      "cell_type": "code",
      "source": [
        "pyplot.figure(figsize=(20,6))\n",
        "pyplot.plot(series.values[:12])\n",
        "pyplot.show()"
      ],
      "execution_count": 6,
      "outputs": [
        {
          "output_type": "display_data",
          "data": {
            "image/png": "[encoded data removed]",
            "text/plain": [
              "<Figure size 1440x432 with 1 Axes>"
            ]
          },
          "metadata": {
            "tags": []
          }
        }
      ]
    },
    {
      "metadata": {
        "id": "KWNCG_DM0-SM",
        "colab_type": "code",
        "colab": {}
      },
      "cell_type": "code",
      "source": [
        "scaler = MinMaxScaler(feature_range=(-1, 1))\n",
        "scaled = scaler.fit_transform(series.values)\n",
        "series = pd.DataFrame(scaled)"
      ],
      "execution_count": 0,
      "outputs": []
    },
    {
      "metadata": {
        "id": "MbCUXPFy1B_4",
        "colab_type": "code",
        "colab": {}
      },
      "cell_type": "code",
      "source": [
        "window_size = 12\n",
        "\n",
        "series_s = series.copy()\n",
        "for i in range(window_size):\n",
        "    series = pd.concat([series, series_s.shift(-(i+1))], axis = 1)\n",
        "    \n",
        "series.dropna(axis=0, inplace=True)"
      ],
      "execution_count": 0,
      "outputs": []
    },
    {
      "metadata": {
        "id": "3XIf-l0i1Fva",
        "colab_type": "code",
        "outputId": "808230ba-4259-4292-abc8-ab390b693e0b",
        "colab": {
          "base_uri": "https://localhost:8080/",
          "height": 195
        }
      },
      "cell_type": "code",
      "source": [
        "\n",
        "series.head()"
      ],
      "execution_count": 9,
      "outputs": [
        {
          "output_type": "execute_result",
          "data": {
            "text/html": [
              "<div>\n",
              "<style scoped>\n",
              "    .dataframe tbody tr th:only-of-type {\n",
              "        vertical-align: middle;\n",
              "    }\n",
              "\n",
              "    .dataframe tbody tr th {\n",
              "        vertical-align: top;\n",
              "    }\n",
              "\n",
              "    .dataframe thead th {\n",
              "        text-align: right;\n",
              "    }\n",
              "</style>\n",
              "<table border=\"1\" class=\"dataframe\">\n",
              "  <thead>\n",
              "    <tr style=\"text-align: right;\">\n",
              "      <th></th>\n",
              "      <th>0</th>\n",
              "      <th>0</th>\n",
              "      <th>0</th>\n",
              "      <th>0</th>\n",
              "      <th>0</th>\n",
              "      <th>0</th>\n",
              "      <th>0</th>\n",
              "      <th>0</th>\n",
              "      <th>0</th>\n",
              "      <th>0</th>\n",
              "      <th>0</th>\n",
              "      <th>0</th>\n",
              "      <th>0</th>\n",
              "    </tr>\n",
              "  </thead>\n",
              "  <tbody>\n",
              "    <tr>\n",
              "      <th>0</th>\n",
              "      <td>-0.537277</td>\n",
              "      <td>-0.362509</td>\n",
              "      <td>-0.131045</td>\n",
              "      <td>0.309681</td>\n",
              "      <td>0.775731</td>\n",
              "      <td>0.782923</td>\n",
              "      <td>0.815312</td>\n",
              "      <td>0.749845</td>\n",
              "      <td>0.863853</td>\n",
              "      <td>0.593630</td>\n",
              "      <td>-0.012929</td>\n",
              "      <td>-0.640609</td>\n",
              "      <td>-0.758799</td>\n",
              "    </tr>\n",
              "    <tr>\n",
              "      <th>1</th>\n",
              "      <td>-0.362509</td>\n",
              "      <td>-0.131045</td>\n",
              "      <td>0.309681</td>\n",
              "      <td>0.775731</td>\n",
              "      <td>0.782923</td>\n",
              "      <td>0.815312</td>\n",
              "      <td>0.749845</td>\n",
              "      <td>0.863853</td>\n",
              "      <td>0.593630</td>\n",
              "      <td>-0.012929</td>\n",
              "      <td>-0.640609</td>\n",
              "      <td>-0.758799</td>\n",
              "      <td>-0.782559</td>\n",
              "    </tr>\n",
              "    <tr>\n",
              "      <th>2</th>\n",
              "      <td>-0.131045</td>\n",
              "      <td>0.309681</td>\n",
              "      <td>0.775731</td>\n",
              "      <td>0.782923</td>\n",
              "      <td>0.815312</td>\n",
              "      <td>0.749845</td>\n",
              "      <td>0.863853</td>\n",
              "      <td>0.593630</td>\n",
              "      <td>-0.012929</td>\n",
              "      <td>-0.640609</td>\n",
              "      <td>-0.758799</td>\n",
              "      <td>-0.782559</td>\n",
              "      <td>-0.154159</td>\n",
              "    </tr>\n",
              "    <tr>\n",
              "      <th>3</th>\n",
              "      <td>0.309681</td>\n",
              "      <td>0.775731</td>\n",
              "      <td>0.782923</td>\n",
              "      <td>0.815312</td>\n",
              "      <td>0.749845</td>\n",
              "      <td>0.863853</td>\n",
              "      <td>0.593630</td>\n",
              "      <td>-0.012929</td>\n",
              "      <td>-0.640609</td>\n",
              "      <td>-0.758799</td>\n",
              "      <td>-0.782559</td>\n",
              "      <td>-0.154159</td>\n",
              "      <td>0.227303</td>\n",
              "    </tr>\n",
              "    <tr>\n",
              "      <th>4</th>\n",
              "      <td>0.775731</td>\n",
              "      <td>0.782923</td>\n",
              "      <td>0.815312</td>\n",
              "      <td>0.749845</td>\n",
              "      <td>0.863853</td>\n",
              "      <td>0.593630</td>\n",
              "      <td>-0.012929</td>\n",
              "      <td>-0.640609</td>\n",
              "      <td>-0.758799</td>\n",
              "      <td>-0.782559</td>\n",
              "      <td>-0.154159</td>\n",
              "      <td>0.227303</td>\n",
              "      <td>0.648805</td>\n",
              "    </tr>\n",
              "  </tbody>\n",
              "</table>\n",
              "</div>"
            ],
            "text/plain": [
              "          0         0         0         0         0         0         0  \\\n",
              "0 -0.537277 -0.362509 -0.131045  0.309681  0.775731  0.782923  0.815312   \n",
              "1 -0.362509 -0.131045  0.309681  0.775731  0.782923  0.815312  0.749845   \n",
              "2 -0.131045  0.309681  0.775731  0.782923  0.815312  0.749845  0.863853   \n",
              "3  0.309681  0.775731  0.782923  0.815312  0.749845  0.863853  0.593630   \n",
              "4  0.775731  0.782923  0.815312  0.749845  0.863853  0.593630 -0.012929   \n",
              "\n",
              "          0         0         0         0         0         0  \n",
              "0  0.749845  0.863853  0.593630 -0.012929 -0.640609 -0.758799  \n",
              "1  0.863853  0.593630 -0.012929 -0.640609 -0.758799 -0.782559  \n",
              "2  0.593630 -0.012929 -0.640609 -0.758799 -0.782559 -0.154159  \n",
              "3 -0.012929 -0.640609 -0.758799 -0.782559 -0.154159  0.227303  \n",
              "4 -0.640609 -0.758799 -0.782559 -0.154159  0.227303  0.648805  "
            ]
          },
          "metadata": {
            "tags": []
          },
          "execution_count": 9
        }
      ]
    },
    {
      "metadata": {
        "id": "nJhUXpYm1IxY",
        "colab_type": "code",
        "outputId": "f0ba9c46-d8f3-4dd7-c154-b27b97526a10",
        "colab": {
          "base_uri": "https://localhost:8080/",
          "height": 34
        }
      },
      "cell_type": "code",
      "source": [
        "series.shape"
      ],
      "execution_count": 10,
      "outputs": [
        {
          "output_type": "execute_result",
          "data": {
            "text/plain": [
              "(192, 13)"
            ]
          },
          "metadata": {
            "tags": []
          },
          "execution_count": 10
        }
      ]
    },
    {
      "metadata": {
        "id": "UAc81KzV1N1I",
        "colab_type": "code",
        "colab": {}
      },
      "cell_type": "code",
      "source": [
        "\n",
        "nrow = round(0.75*series.shape[0])"
      ],
      "execution_count": 0,
      "outputs": []
    },
    {
      "metadata": {
        "id": "1N4M-f7Nl7zE",
        "colab_type": "code",
        "outputId": "95357310-2917-48bc-8983-046654d35365",
        "colab": {
          "base_uri": "https://localhost:8080/",
          "height": 34
        }
      },
      "cell_type": "code",
      "source": [
        "nrow"
      ],
      "execution_count": 12,
      "outputs": [
        {
          "output_type": "execute_result",
          "data": {
            "text/plain": [
              "144"
            ]
          },
          "metadata": {
            "tags": []
          },
          "execution_count": 12
        }
      ]
    },
    {
      "metadata": {
        "id": "bN-t579K1Q_x",
        "colab_type": "code",
        "colab": {}
      },
      "cell_type": "code",
      "source": [
        "\n",
        "train = series.iloc[:nrow, :]\n",
        "test = series.iloc[nrow:,:]"
      ],
      "execution_count": 0,
      "outputs": []
    },
    {
      "metadata": {
        "id": "GOogV3OMcnZg",
        "colab_type": "code",
        "outputId": "4332cc89-3b1f-469a-e1ca-d2b6089a9147",
        "colab": {
          "base_uri": "https://localhost:8080/",
          "height": 34
        }
      },
      "cell_type": "code",
      "source": [
        "test.shape"
      ],
      "execution_count": 14,
      "outputs": [
        {
          "output_type": "execute_result",
          "data": {
            "text/plain": [
              "(48, 13)"
            ]
          },
          "metadata": {
            "tags": []
          },
          "execution_count": 14
        }
      ]
    },
    {
      "metadata": {
        "id": "7v7LSCvc1UUm",
        "colab_type": "code",
        "colab": {}
      },
      "cell_type": "code",
      "source": [
        "from sklearn.utils import shuffle\n",
        "train = shuffle(train)"
      ],
      "execution_count": 0,
      "outputs": []
    },
    {
      "metadata": {
        "id": "AvqiQttTcyJH",
        "colab_type": "code",
        "outputId": "8e7a9cb1-88db-4a34-e1bc-0180a09dbf82",
        "colab": {
          "base_uri": "https://localhost:8080/",
          "height": 34
        }
      },
      "cell_type": "code",
      "source": [
        "train.shape"
      ],
      "execution_count": 16,
      "outputs": [
        {
          "output_type": "execute_result",
          "data": {
            "text/plain": [
              "(144, 13)"
            ]
          },
          "metadata": {
            "tags": []
          },
          "execution_count": 16
        }
      ]
    },
    {
      "metadata": {
        "id": "89uUaYUr1WvY",
        "colab_type": "code",
        "colab": {}
      },
      "cell_type": "code",
      "source": [
        "train_X = train.iloc[:,:-1]\n",
        "train_y = train.iloc[:,-1]\n",
        "test_X = test.iloc[:,:-1]\n",
        "test_y = test.iloc[:,-1]"
      ],
      "execution_count": 0,
      "outputs": []
    },
    {
      "metadata": {
        "id": "YvoeD5TS1bIt",
        "colab_type": "code",
        "colab": {}
      },
      "cell_type": "code",
      "source": [
        "train_X = train_X.values\n",
        "train_y = train_y.values\n",
        "test_X = test_X.values\n",
        "test_y = test_y.values"
      ],
      "execution_count": 0,
      "outputs": []
    },
    {
      "metadata": {
        "id": "mLWQUwJR1d-V",
        "colab_type": "code",
        "outputId": "f9457db5-659e-43e8-eff1-43381f9d6ea1",
        "colab": {
          "base_uri": "https://localhost:8080/",
          "height": 34
        }
      },
      "cell_type": "code",
      "source": [
        "train_X.shape\n",
        "train_y.shape\n",
        "test_X.shape\n",
        "test_y.shape"
      ],
      "execution_count": 19,
      "outputs": [
        {
          "output_type": "execute_result",
          "data": {
            "text/plain": [
              "(48,)"
            ]
          },
          "metadata": {
            "tags": []
          },
          "execution_count": 19
        }
      ]
    },
    {
      "metadata": {
        "id": "EFLNEKqa1hqE",
        "colab_type": "code",
        "colab": {}
      },
      "cell_type": "code",
      "source": [
        "\n",
        "train_X = train_X.reshape(train_X.shape[0],train_X.shape[1],1)\n",
        "test_X = test_X.reshape(test_X.shape[0],test_X.shape[1],1)\n"
      ],
      "execution_count": 0,
      "outputs": []
    },
    {
      "metadata": {
        "id": "TYNBHUN-1l7A",
        "colab_type": "code",
        "outputId": "a730fbfe-e402-4aa6-a71f-315cf3e9f549",
        "colab": {
          "base_uri": "https://localhost:8080/",
          "height": 34
        }
      },
      "cell_type": "code",
      "source": [
        "train_X.shape\n",
        "train_y.shape\n",
        "test_X.shape\n",
        "test_y.shape"
      ],
      "execution_count": 21,
      "outputs": [
        {
          "output_type": "execute_result",
          "data": {
            "text/plain": [
              "(48,)"
            ]
          },
          "metadata": {
            "tags": []
          },
          "execution_count": 21
        }
      ]
    },
    {
      "metadata": {
        "id": "N0WKeLdM1ogZ",
        "colab_type": "code",
        "outputId": "e3d1c990-1907-445b-faef-3f6959f4b5b9",
        "colab": {
          "base_uri": "https://localhost:8080/",
          "height": 490
        }
      },
      "cell_type": "code",
      "source": [
        "model = Sequential()\n",
        "model.add(LSTM(input_shape = (12,1), output_dim= 12, return_sequences = True))\n",
        "model.add(Dropout(0.5))\n",
        "model.add(LSTM(40))\n",
        "model.add(Dropout(0.5))\n",
        "model.add(Dense(1))\n",
        "model.add(Activation(\"linear\"))\n",
        "model.compile(loss=\"mse\", optimizer=\"adam\")\n",
        "model.summary()"
      ],
      "execution_count": 22,
      "outputs": [
        {
          "output_type": "stream",
          "text": [
            "WARNING:tensorflow:From /usr/local/lib/python3.6/dist-packages/tensorflow/python/framework/op_def_library.py:263: colocate_with (from tensorflow.python.framework.ops) is deprecated and will be removed in a future version.\n",
            "Instructions for updating:\n",
            "Colocations handled automatically by placer.\n"
          ],
          "name": "stdout"
        },
        {
          "output_type": "stream",
          "text": [
            "/usr/local/lib/python3.6/dist-packages/ipykernel_launcher.py:2: UserWarning: Update your `LSTM` call to the Keras 2 API: `LSTM(input_shape=(12, 1), return_sequences=True, units=12)`\n",
            "  \n"
          ],
          "name": "stderr"
        },
        {
          "output_type": "stream",
          "text": [
            "WARNING:tensorflow:From /usr/local/lib/python3.6/dist-packages/keras/backend/tensorflow_backend.py:3445: calling dropout (from tensorflow.python.ops.nn_ops) with keep_prob is deprecated and will be removed in a future version.\n",
            "Instructions for updating:\n",
            "Please use `rate` instead of `keep_prob`. Rate should be set to `rate = 1 - keep_prob`.\n",
            "_________________________________________________________________\n",
            "Layer (type)                 Output Shape              Param #   \n",
            "=================================================================\n",
            "lstm_1 (LSTM)                (None, 12, 12)            672       \n",
            "_________________________________________________________________\n",
            "dropout_1 (Dropout)          (None, 12, 12)            0         \n",
            "_________________________________________________________________\n",
            "lstm_2 (LSTM)                (None, 40)                8480      \n",
            "_________________________________________________________________\n",
            "dropout_2 (Dropout)          (None, 40)                0         \n",
            "_________________________________________________________________\n",
            "dense_1 (Dense)              (None, 1)                 41        \n",
            "_________________________________________________________________\n",
            "activation_1 (Activation)    (None, 1)                 0         \n",
            "=================================================================\n",
            "Total params: 9,193\n",
            "Trainable params: 9,193\n",
            "Non-trainable params: 0\n",
            "_________________________________________________________________\n"
          ],
          "name": "stdout"
        }
      ]
    },
    {
      "metadata": {
        "id": "grekihHh1r_h",
        "colab_type": "code",
        "outputId": "e5478117-ab1d-4ef4-b65f-2c7d1e7deb6d",
        "colab": {
          "base_uri": "https://localhost:8080/",
          "height": 3514
        }
      },
      "cell_type": "code",
      "source": [
        "start = time.time()\n",
        "model.fit(train_X,train_y,batch_size=32,nb_epoch=100,validation_split=0.1)\n",
        "print(\"> Compilation Time : \", time.time() - start)"
      ],
      "execution_count": 23,
      "outputs": [
        {
          "output_type": "stream",
          "text": [
            "WARNING:tensorflow:From /usr/local/lib/python3.6/dist-packages/tensorflow/python/ops/math_ops.py:3066: to_int32 (from tensorflow.python.ops.math_ops) is deprecated and will be removed in a future version.\n",
            "Instructions for updating:\n",
            "Use tf.cast instead.\n"
          ],
          "name": "stdout"
        },
        {
          "output_type": "stream",
          "text": [
            "/usr/local/lib/python3.6/dist-packages/ipykernel_launcher.py:2: UserWarning: The `nb_epoch` argument in `fit` has been renamed `epochs`.\n",
            "  \n"
          ],
          "name": "stderr"
        },
        {
          "output_type": "stream",
          "text": [
            "Train on 129 samples, validate on 15 samples\n",
            "Epoch 1/100\n",
            "129/129 [==============================] - 3s 26ms/step - loss: 0.3748 - val_loss: 0.2303\n",
            "Epoch 2/100\n",
            "129/129 [==============================] - 0s 1ms/step - loss: 0.3646 - val_loss: 0.2216\n",
            "Epoch 3/100\n",
            "129/129 [==============================] - 0s 1ms/step - loss: 0.3521 - val_loss: 0.2139\n",
            "Epoch 4/100\n",
            "129/129 [==============================] - 0s 1ms/step - loss: 0.3398 - val_loss: 0.2047\n",
            "Epoch 5/100\n",
            "129/129 [==============================] - 0s 1ms/step - loss: 0.3211 - val_loss: 0.1956\n",
            "Epoch 6/100\n",
            "129/129 [==============================] - 0s 1ms/step - loss: 0.2971 - val_loss: 0.1876\n",
            "Epoch 7/100\n",
            "129/129 [==============================] - 0s 1ms/step - loss: 0.2859 - val_loss: 0.1833\n",
            "Epoch 8/100\n",
            "129/129 [==============================] - 0s 1ms/step - loss: 0.2739 - val_loss: 0.1689\n",
            "Epoch 9/100\n",
            "129/129 [==============================] - 0s 1ms/step - loss: 0.2482 - val_loss: 0.1486\n",
            "Epoch 10/100\n",
            "129/129 [==============================] - 0s 1ms/step - loss: 0.2236 - val_loss: 0.1311\n",
            "Epoch 11/100\n",
            "129/129 [==============================] - 0s 1ms/step - loss: 0.2039 - val_loss: 0.1122\n",
            "Epoch 12/100\n",
            "129/129 [==============================] - 0s 1ms/step - loss: 0.1655 - val_loss: 0.0916\n",
            "Epoch 13/100\n",
            "129/129 [==============================] - 0s 1ms/step - loss: 0.1463 - val_loss: 0.0710\n",
            "Epoch 14/100\n",
            "129/129 [==============================] - 0s 1ms/step - loss: 0.1076 - val_loss: 0.0502\n",
            "Epoch 15/100\n",
            "129/129 [==============================] - 0s 1ms/step - loss: 0.0957 - val_loss: 0.0418\n",
            "Epoch 16/100\n",
            "129/129 [==============================] - 0s 1ms/step - loss: 0.0824 - val_loss: 0.0391\n",
            "Epoch 17/100\n",
            "129/129 [==============================] - 0s 1ms/step - loss: 0.0976 - val_loss: 0.0456\n",
            "Epoch 18/100\n",
            "129/129 [==============================] - 0s 1ms/step - loss: 0.0810 - val_loss: 0.0470\n",
            "Epoch 19/100\n",
            "129/129 [==============================] - 0s 1ms/step - loss: 0.0826 - val_loss: 0.0518\n",
            "Epoch 20/100\n",
            "129/129 [==============================] - 0s 1ms/step - loss: 0.0881 - val_loss: 0.0552\n",
            "Epoch 21/100\n",
            "129/129 [==============================] - 0s 1ms/step - loss: 0.0921 - val_loss: 0.0596\n",
            "Epoch 22/100\n",
            "129/129 [==============================] - 0s 1ms/step - loss: 0.0840 - val_loss: 0.0606\n",
            "Epoch 23/100\n",
            "129/129 [==============================] - 0s 1ms/step - loss: 0.0779 - val_loss: 0.0658\n",
            "Epoch 24/100\n",
            "129/129 [==============================] - 0s 1ms/step - loss: 0.0853 - val_loss: 0.0583\n",
            "Epoch 25/100\n",
            "129/129 [==============================] - 0s 1ms/step - loss: 0.0921 - val_loss: 0.0419\n",
            "Epoch 26/100\n",
            "129/129 [==============================] - 0s 1ms/step - loss: 0.0836 - val_loss: 0.0335\n",
            "Epoch 27/100\n",
            "129/129 [==============================] - 0s 1ms/step - loss: 0.0748 - val_loss: 0.0301\n",
            "Epoch 28/100\n",
            "129/129 [==============================] - 0s 1ms/step - loss: 0.0790 - val_loss: 0.0286\n",
            "Epoch 29/100\n",
            "129/129 [==============================] - 0s 1ms/step - loss: 0.0889 - val_loss: 0.0309\n",
            "Epoch 30/100\n",
            "129/129 [==============================] - 0s 1ms/step - loss: 0.0777 - val_loss: 0.0374\n",
            "Epoch 31/100\n",
            "129/129 [==============================] - 0s 1ms/step - loss: 0.0596 - val_loss: 0.0355\n",
            "Epoch 32/100\n",
            "129/129 [==============================] - 0s 1ms/step - loss: 0.0638 - val_loss: 0.0329\n",
            "Epoch 33/100\n",
            "129/129 [==============================] - 0s 1ms/step - loss: 0.0539 - val_loss: 0.0369\n",
            "Epoch 34/100\n",
            "129/129 [==============================] - 0s 1ms/step - loss: 0.0653 - val_loss: 0.0355\n",
            "Epoch 35/100\n",
            "129/129 [==============================] - 0s 1ms/step - loss: 0.0703 - val_loss: 0.0333\n",
            "Epoch 36/100\n",
            "129/129 [==============================] - 0s 1ms/step - loss: 0.0735 - val_loss: 0.0307\n",
            "Epoch 37/100\n",
            "129/129 [==============================] - 0s 1ms/step - loss: 0.0608 - val_loss: 0.0305\n",
            "Epoch 38/100\n",
            "129/129 [==============================] - 0s 1ms/step - loss: 0.0618 - val_loss: 0.0294\n",
            "Epoch 39/100\n",
            "129/129 [==============================] - 0s 1ms/step - loss: 0.0713 - val_loss: 0.0256\n",
            "Epoch 40/100\n",
            "129/129 [==============================] - 0s 1ms/step - loss: 0.0627 - val_loss: 0.0286\n",
            "Epoch 41/100\n",
            "129/129 [==============================] - 0s 1ms/step - loss: 0.0522 - val_loss: 0.0272\n",
            "Epoch 42/100\n",
            "129/129 [==============================] - 0s 1ms/step - loss: 0.0519 - val_loss: 0.0285\n",
            "Epoch 43/100\n",
            "129/129 [==============================] - 0s 1ms/step - loss: 0.0526 - val_loss: 0.0297\n",
            "Epoch 44/100\n",
            "129/129 [==============================] - 0s 1ms/step - loss: 0.0488 - val_loss: 0.0288\n",
            "Epoch 45/100\n",
            "129/129 [==============================] - 0s 1ms/step - loss: 0.0500 - val_loss: 0.0289\n",
            "Epoch 46/100\n",
            "129/129 [==============================] - 0s 1ms/step - loss: 0.0599 - val_loss: 0.0297\n",
            "Epoch 47/100\n",
            "129/129 [==============================] - 0s 1ms/step - loss: 0.0612 - val_loss: 0.0267\n",
            "Epoch 48/100\n",
            "129/129 [==============================] - 0s 1ms/step - loss: 0.0521 - val_loss: 0.0289\n",
            "Epoch 49/100\n",
            "129/129 [==============================] - 0s 1ms/step - loss: 0.0666 - val_loss: 0.0315\n",
            "Epoch 50/100\n",
            "129/129 [==============================] - 0s 1ms/step - loss: 0.0622 - val_loss: 0.0316\n",
            "Epoch 51/100\n",
            "129/129 [==============================] - 0s 1ms/step - loss: 0.0474 - val_loss: 0.0310\n",
            "Epoch 52/100\n",
            "129/129 [==============================] - 0s 1ms/step - loss: 0.0561 - val_loss: 0.0256\n",
            "Epoch 53/100\n",
            "129/129 [==============================] - 0s 1ms/step - loss: 0.0564 - val_loss: 0.0233\n",
            "Epoch 54/100\n",
            "129/129 [==============================] - 0s 1ms/step - loss: 0.0545 - val_loss: 0.0259\n",
            "Epoch 55/100\n",
            "129/129 [==============================] - 0s 1ms/step - loss: 0.0518 - val_loss: 0.0271\n",
            "Epoch 56/100\n",
            "129/129 [==============================] - 0s 1ms/step - loss: 0.0624 - val_loss: 0.0286\n",
            "Epoch 57/100\n",
            "129/129 [==============================] - 0s 1ms/step - loss: 0.0726 - val_loss: 0.0295\n",
            "Epoch 58/100\n",
            "129/129 [==============================] - 0s 1ms/step - loss: 0.0675 - val_loss: 0.0282\n",
            "Epoch 59/100\n",
            "129/129 [==============================] - 0s 1ms/step - loss: 0.0575 - val_loss: 0.0274\n",
            "Epoch 60/100\n",
            "129/129 [==============================] - 0s 1ms/step - loss: 0.0493 - val_loss: 0.0298\n",
            "Epoch 61/100\n",
            "129/129 [==============================] - 0s 1ms/step - loss: 0.0626 - val_loss: 0.0288\n",
            "Epoch 62/100\n",
            "129/129 [==============================] - 0s 1ms/step - loss: 0.0530 - val_loss: 0.0211\n",
            "Epoch 63/100\n",
            "129/129 [==============================] - 0s 1ms/step - loss: 0.0504 - val_loss: 0.0226\n",
            "Epoch 64/100\n",
            "129/129 [==============================] - 0s 1ms/step - loss: 0.0695 - val_loss: 0.0203\n",
            "Epoch 65/100\n",
            "129/129 [==============================] - 0s 1ms/step - loss: 0.0655 - val_loss: 0.0199\n",
            "Epoch 66/100\n",
            "129/129 [==============================] - 0s 1ms/step - loss: 0.0554 - val_loss: 0.0254\n",
            "Epoch 67/100\n",
            "129/129 [==============================] - 0s 1ms/step - loss: 0.0567 - val_loss: 0.0356\n",
            "Epoch 68/100\n",
            "129/129 [==============================] - 0s 1ms/step - loss: 0.0527 - val_loss: 0.0363\n",
            "Epoch 69/100\n",
            "129/129 [==============================] - 0s 1ms/step - loss: 0.0502 - val_loss: 0.0282\n",
            "Epoch 70/100\n",
            "129/129 [==============================] - 0s 1ms/step - loss: 0.0579 - val_loss: 0.0238\n",
            "Epoch 71/100\n",
            "129/129 [==============================] - 0s 1ms/step - loss: 0.0605 - val_loss: 0.0220\n",
            "Epoch 72/100\n",
            "129/129 [==============================] - 0s 1ms/step - loss: 0.0558 - val_loss: 0.0221\n",
            "Epoch 73/100\n",
            "129/129 [==============================] - 0s 1ms/step - loss: 0.0477 - val_loss: 0.0271\n",
            "Epoch 74/100\n",
            "129/129 [==============================] - 0s 1ms/step - loss: 0.0631 - val_loss: 0.0369\n",
            "Epoch 75/100\n",
            "129/129 [==============================] - 0s 1ms/step - loss: 0.0609 - val_loss: 0.0381\n",
            "Epoch 76/100\n",
            "129/129 [==============================] - 0s 1ms/step - loss: 0.0560 - val_loss: 0.0274\n",
            "Epoch 77/100\n",
            "129/129 [==============================] - 0s 1ms/step - loss: 0.0514 - val_loss: 0.0243\n",
            "Epoch 78/100\n",
            "129/129 [==============================] - 0s 1ms/step - loss: 0.0561 - val_loss: 0.0227\n",
            "Epoch 79/100\n",
            "129/129 [==============================] - 0s 1ms/step - loss: 0.0524 - val_loss: 0.0220\n",
            "Epoch 80/100\n",
            "129/129 [==============================] - 0s 1ms/step - loss: 0.0392 - val_loss: 0.0229\n",
            "Epoch 81/100\n",
            "129/129 [==============================] - 0s 1ms/step - loss: 0.0571 - val_loss: 0.0252\n",
            "Epoch 82/100\n",
            "129/129 [==============================] - 0s 1ms/step - loss: 0.0587 - val_loss: 0.0262\n",
            "Epoch 83/100\n",
            "129/129 [==============================] - 0s 1ms/step - loss: 0.0374 - val_loss: 0.0281\n",
            "Epoch 84/100\n",
            "129/129 [==============================] - 0s 1ms/step - loss: 0.0462 - val_loss: 0.0273\n",
            "Epoch 85/100\n",
            "129/129 [==============================] - 0s 1ms/step - loss: 0.0516 - val_loss: 0.0288\n",
            "Epoch 86/100\n",
            "129/129 [==============================] - 0s 1ms/step - loss: 0.0550 - val_loss: 0.0291\n",
            "Epoch 87/100\n",
            "129/129 [==============================] - 0s 1ms/step - loss: 0.0533 - val_loss: 0.0248\n",
            "Epoch 88/100\n",
            "129/129 [==============================] - 0s 969us/step - loss: 0.0497 - val_loss: 0.0242\n",
            "Epoch 89/100\n",
            "129/129 [==============================] - 0s 1ms/step - loss: 0.0483 - val_loss: 0.0224\n",
            "Epoch 90/100\n",
            "129/129 [==============================] - 0s 1ms/step - loss: 0.0515 - val_loss: 0.0222\n",
            "Epoch 91/100\n",
            "129/129 [==============================] - 0s 1ms/step - loss: 0.0492 - val_loss: 0.0264\n",
            "Epoch 92/100\n",
            "129/129 [==============================] - 0s 1ms/step - loss: 0.0480 - val_loss: 0.0384\n",
            "Epoch 93/100\n",
            "129/129 [==============================] - 0s 1ms/step - loss: 0.0654 - val_loss: 0.0450\n",
            "Epoch 94/100\n",
            "129/129 [==============================] - 0s 1ms/step - loss: 0.0726 - val_loss: 0.0458\n",
            "Epoch 95/100\n",
            "129/129 [==============================] - 0s 1ms/step - loss: 0.0605 - val_loss: 0.0416\n",
            "Epoch 96/100\n",
            "129/129 [==============================] - 0s 1ms/step - loss: 0.0645 - val_loss: 0.0277\n",
            "Epoch 97/100\n",
            "129/129 [==============================] - 0s 1ms/step - loss: 0.0553 - val_loss: 0.0228\n",
            "Epoch 98/100\n",
            "129/129 [==============================] - 0s 1ms/step - loss: 0.0610 - val_loss: 0.0229\n",
            "Epoch 99/100\n",
            "129/129 [==============================] - 0s 1ms/step - loss: 0.0512 - val_loss: 0.0212\n",
            "Epoch 100/100\n",
            "129/129 [==============================] - 0s 1ms/step - loss: 0.0637 - val_loss: 0.0190\n",
            "> Compilation Time :  21.6231906414032\n"
          ],
          "name": "stdout"
        }
      ]
    },
    {
      "metadata": {
        "id": "xATFekmJ1xqs",
        "colab_type": "code",
        "colab": {}
      },
      "cell_type": "code",
      "source": [
        "preds = model.predict(test_X)"
      ],
      "execution_count": 0,
      "outputs": []
    },
    {
      "metadata": {
        "id": "or7NRYyl12F9",
        "colab_type": "code",
        "colab": {}
      },
      "cell_type": "code",
      "source": [
        "preds = scaler.inverse_transform(preds)"
      ],
      "execution_count": 0,
      "outputs": []
    },
    {
      "metadata": {
        "id": "gx_5tunxPcls",
        "colab_type": "code",
        "outputId": "5fc926fc-22a1-4716-de57-f3d27aa91780",
        "colab": {
          "base_uri": "https://localhost:8080/",
          "height": 34
        }
      },
      "cell_type": "code",
      "source": [
        "preds.shape"
      ],
      "execution_count": 26,
      "outputs": [
        {
          "output_type": "execute_result",
          "data": {
            "text/plain": [
              "(48, 1)"
            ]
          },
          "metadata": {
            "tags": []
          },
          "execution_count": 26
        }
      ]
    },
    {
      "metadata": {
        "id": "3ieW0dj615qC",
        "colab_type": "code",
        "colab": {}
      },
      "cell_type": "code",
      "source": [
        "teest=np.asmatrix(test_y)\n",
        "teest\n",
        "actuals = scaler.inverse_transform(teest)"
      ],
      "execution_count": 0,
      "outputs": []
    },
    {
      "metadata": {
        "id": "rBjwt3J419JH",
        "colab_type": "code",
        "colab": {}
      },
      "cell_type": "code",
      "source": [
        "#mean_squared_error(actuals,preds)"
      ],
      "execution_count": 0,
      "outputs": []
    },
    {
      "metadata": {
        "id": "I5M6puktSme3",
        "colab_type": "code",
        "outputId": "0d8ce5a0-1a2b-413e-b198-052f70ade35b",
        "colab": {
          "base_uri": "https://localhost:8080/",
          "height": 269
        }
      },
      "cell_type": "code",
      "source": [
        "pyplot.plot(actuals)\n",
        "pyplot.plot(preds)\n",
        "pyplot.show()"
      ],
      "execution_count": 29,
      "outputs": [
        {
          "output_type": "display_data",
          "data": {
            "image/png": "[encoded data removed]",
            "text/plain": [
              "<Figure size 432x288 with 1 Axes>"
            ]
          },
          "metadata": {
            "tags": []
          }
        }
      ]
    },
    {
      "metadata": {
        "id": "at577nrJSrH_",
        "colab_type": "code",
        "outputId": "29187f94-6162-40f5-c1e5-254f3bd88758",
        "colab": {
          "base_uri": "https://localhost:8080/",
          "height": 269
        }
      },
      "cell_type": "code",
      "source": [
        "pyplot.plot(preds)\n",
        "pyplot.show()"
      ],
      "execution_count": 30,
      "outputs": [
        {
          "output_type": "display_data",
          "data": {
            "image/png": "[encoded data removed]",
            "text/plain": [
              "<Figure size 432x288 with 1 Axes>"
            ]
          },
          "metadata": {
            "tags": []
          }
        }
      ]
    },
    {
      "metadata": {
        "id": "2NvMRYlaSx6k",
        "colab_type": "code",
        "colab": {}
      },
      "cell_type": "code",
      "source": [
        "def moving_test_window_preds(n_future_preds):\n",
        "\n",
        "    ''' n_future_preds - Represents the number of future predictions we want to make\n",
        "                         This coincides with the number of windows that we will move forward\n",
        "                         on the test data\n",
        "    '''\n",
        "    preds_moving = []                                    # Use this to store the prediction made on each test window\n",
        "    moving_test_window = [test_X[0,:].tolist()]          # Creating the first test window\n",
        "    moving_test_window = np.array(moving_test_window)    # Making it an numpy array\n",
        "    \n",
        "    for i in range(n_future_preds):\n",
        "        preds_one_step = model.predict(moving_test_window) # Note that this is already a scaled prediction so no need to rescale this\n",
        "        preds_moving.append(preds_one_step[0,0]) # get the value from the numpy 2D array and append to predictions\n",
        "        preds_one_step = preds_one_step.reshape(1,1,1) # Reshaping the prediction to 3D array for concatenation with moving test window\n",
        "        moving_test_window = np.concatenate((moving_test_window[:,1:,:], preds_one_step), axis=1) # This is the new moving test window, where the first element from the window has been removed and the prediction  has been appended to the end\n",
        "      \n",
        "    preds_moving=np.asmatrix(preds_moving)\n",
        "    \n",
        "    preds_moving = scaler.inverse_transform(preds_moving)\n",
        "    \n",
        "    return preds_moving"
      ],
      "execution_count": 0,
      "outputs": []
    },
    {
      "metadata": {
        "id": "RxcGaMnyS9gU",
        "colab_type": "code",
        "outputId": "f6c63306-8377-42f4-8e8b-5d7703969ed8",
        "colab": {
          "base_uri": "https://localhost:8080/",
          "height": 302
        }
      },
      "cell_type": "code",
      "source": [
        "\n",
        "preds_moving = moving_test_window_preds(98)\n",
        "preds_moving"
      ],
      "execution_count": 32,
      "outputs": [
        {
          "output_type": "execute_result",
          "data": {
            "text/plain": [
              "array([[270.31784, 270.30682, 275.83478, 281.97235, 286.63736, 289.1632 ,\n",
              "        290.15213, 289.53833, 288.00214, 284.7342 , 280.12183, 275.16992,\n",
              "        271.36697, 271.26187, 275.70285, 281.25986, 285.50378, 288.13525,\n",
              "        289.32303, 289.08868, 287.47937, 284.5479 , 280.58322, 276.1595 ,\n",
              "        272.6154 , 272.16632, 275.7306 , 280.7401 , 284.8111 , 287.4592 ,\n",
              "        288.71924, 288.60745, 287.15442, 284.47916, 280.83817, 276.7734 ,\n",
              "        273.48477, 272.87042, 275.84036, 280.41318, 284.33475, 286.9611 ,\n",
              "        288.25488, 288.2258 , 286.90594, 284.41565, 281.00726, 277.20676,\n",
              "        274.11575, 273.4174 , 275.98166, 280.20718, 283.98743, 286.57877,\n",
              "        287.88962, 287.92007, 286.70163, 284.35236, 281.12335, 277.52716,\n",
              "        274.59375, 273.8531 , 276.1299 , 280.07684, 283.72702, 286.27826,\n",
              "        287.5957 , 287.66898, 286.5282 , 284.28976, 281.2034 , 277.77063,\n",
              "        274.96722, 274.20828, 276.27475, 279.9961 , 283.5287 , 286.03802,\n",
              "        287.3547 , 287.4585 , 286.378  , 284.22824, 281.25778, 277.9591 ,\n",
              "        275.2657 , 274.50336, 276.4122 , 279.949  , 283.37622, 285.84344,\n",
              "        287.1542 , 287.2793 , 286.24585, 284.16794, 281.29315, 278.10672,\n",
              "        275.5083 , 274.75238]], dtype=float32)"
            ]
          },
          "metadata": {
            "tags": []
          },
          "execution_count": 32
        }
      ]
    },
    {
      "metadata": {
        "id": "TuW2uE-FerKW",
        "colab_type": "code",
        "outputId": "ef71062b-d759-4197-d705-1dccaaf7ee82",
        "colab": {
          "base_uri": "https://localhost:8080/",
          "height": 185
        }
      },
      "cell_type": "code",
      "source": [
        "actuals"
      ],
      "execution_count": 33,
      "outputs": [
        {
          "output_type": "execute_result",
          "data": {
            "text/plain": [
              "array([[266.870273 , 266.0730553, 273.7268149, 280.3270896, 286.0054608,\n",
              "        290.7062784, 290.6596576, 292.6108219, 290.4043689, 286.3156472,\n",
              "        279.8930775, 270.8905727, 266.9996428, 268.0283698, 273.8053774,\n",
              "        281.8150997, 286.815219 , 289.9681222, 290.6040599, 289.4186347,\n",
              "        290.8234305, 285.7855985, 278.0225173, 271.5356568, 270.5158041,\n",
              "        272.8635341, 277.6023408, 282.1468363, 290.4209763, 293.161152 ,\n",
              "        290.4967003, 288.5294417, 290.6257961, 288.7477102, 282.2154463,\n",
              "        278.7696993, 267.4536317, 270.4174723, 277.4707927, 284.8658729,\n",
              "        287.8263198, 290.8667194, 289.3304675, 291.2796254, 290.440603 ,\n",
              "        288.2229625, 279.2137169, 271.7781219]])"
            ]
          },
          "metadata": {
            "tags": []
          },
          "execution_count": 33
        }
      ]
    },
    {
      "metadata": {
        "id": "R_5ygmGqfrLy",
        "colab_type": "code",
        "colab": {}
      },
      "cell_type": "code",
      "source": [
        "predicted=[269.32144, 269.92444, 275.8384 , 282.36893, 287.49695, 290.2863 ,\n",
        "        291.1931 , 290.13794, 287.87003, 283.75256, 278.44693, 273.07693,\n",
        "        269.6407 , 270.7994 , 276.4621 , 282.7778 , 287.4606 , 290.1567 ,\n",
        "        290.9583 , 289.89908, 287.15845, 283.00232, 277.93582, 272.9099 ,\n",
        "        269.973  , 271.57416, 277.21304, 283.25693, 287.65268, 290.1324 ,\n",
        "        290.72852, 289.48846, 286.60165, 282.40555, 277.4016 , 272.6327 ,\n",
        "        270.2028 , 272.2923 , 277.9786 , 283.77234, 287.8977 , 290.1385 ,\n",
        "        290.5161 , 289.0915 , 286.0744 , 281.8168 , 276.8565 , 272.3359 ,\n",
        "        270.4137 , 272.99414, 278.73737, 284.2949 , 288.15814, 290.15897,\n",
        "        290.316  , 288.70392, 285.551  , 281.22318, 276.3045 , 272.0427 ,\n",
        "        270.64017, 273.69907, 279.48477, 284.81256, 288.4204 , 290.18253,\n",
        "        290.11768, 288.31573, 285.02325, 280.62253, 275.75116, 271.76782,\n",
        "        270.9005 , 274.4159 , 280.21902, 285.31882, 288.67615, 290.2005 ,\n",
        "        289.91293, 287.92026, 284.4871 , 280.01468, 275.2021 , 271.52313,\n",
        "        271.20627, 275.14786, 280.93826, 285.8091 , 288.91928, 290.2064 ,\n",
        "        289.69592, 287.51303, 283.94016, 279.40054, 274.6631 , 271.31873,\n",
        "        271.56458, 275.8946]\n",
        "actual=[266.870273 , 266.0730553, 273.7268149, 280.3270896, 286.0054608,\n",
        "        290.7062784, 290.6596576, 292.6108219, 290.4043689, 286.3156472,\n",
        "        279.8930775, 270.8905727, 266.9996428, 268.0283698, 273.8053774,\n",
        "        281.8150997, 286.815219 , 289.9681222, 290.6040599, 289.4186347,\n",
        "        290.8234305, 285.7855985, 278.0225173, 271.5356568, 270.5158041,\n",
        "        272.8635341, 277.6023408, 282.1468363, 290.4209763, 293.161152 ,\n",
        "        290.4967003, 288.5294417, 290.6257961, 288.7477102, 282.2154463,\n",
        "        278.7696993, 267.4536317, 270.4174723, 277.4707927, 284.8658729,\n",
        "        287.8263198, 290.8667194, 289.3304675, 291.2796254, 290.440603 ,\n",
        "        288.2229625, 279.2137169, 271.7781219]"
      ],
      "execution_count": 0,
      "outputs": []
    },
    {
      "metadata": {
        "id": "yaEW0M6HTODu",
        "colab_type": "code",
        "outputId": "074c92a4-cb24-481b-f52d-b7d8cd4b9e70",
        "colab": {
          "base_uri": "https://localhost:8080/",
          "height": 295
        }
      },
      "cell_type": "code",
      "source": [
        "pyplot.plot(actual)\n",
        "pyplot.plot(predicted)\n",
        "pyplot.title(\"LSTM's Forecasting\")\n",
        "pyplot.xlabel('Forecasting')\n",
        "pyplot.ylabel('Temperature')\n",
        "pyplot.show()"
      ],
      "execution_count": 35,
      "outputs": [
        {
          "output_type": "display_data",
          "data": {
            "image/png": "[encoded data removed]",
            "text/plain": [
              "<Figure size 432x288 with 1 Axes>"
            ]
          },
          "metadata": {
            "tags": []
          }
        }
      ]
    },
    {
      "metadata": {
        "id": "48bGcNfmeVHY",
        "colab_type": "code",
        "colab": {}
      },
      "cell_type": "code",
      "source": [
        ""
      ],
      "execution_count": 0,
      "outputs": []
    }
  ]
}