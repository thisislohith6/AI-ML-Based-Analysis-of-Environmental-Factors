{
  "nbformat": 4,
  "nbformat_minor": 0,
  "metadata": {
    "colab": {
      "name": "veg_forecast.ipynb",
      "version": "0.3.2",
      "provenance": []
    },
    "kernelspec": {
      "name": "python3",
      "display_name": "Python 3"
    }
  },
  "cells": [
    {
      "metadata": {
        "id": "kCxeZLCUrIPs",
        "colab_type": "code",
        "colab": {}
      },
      "cell_type": "code",
      "source": [
        "#https://github.com/kmsravindra/ML-AI-experiments/blob/master/AI/LSTM-time_series/LSTM%20-%20Sine%20wave%20predictor.ipynb\n",
        "#https://towardsdatascience.com/using-lstms-to-forecast-time-series-4ab688386b1f\n",
        "import pandas as pd\n",
        "import numpy as np\n",
        "from keras.layers.core import Dense, Activation, Dropout\n",
        "from keras.layers.recurrent import LSTM\n",
        "from keras.models import Sequential\n",
        "import time\n",
        "from sklearn.metrics import mean_squared_error\n",
        "from matplotlib import pyplot\n",
        "from sklearn.preprocessing import MinMaxScaler\n",
        "from sklearn.preprocessing import StandardScaler"
      ],
      "execution_count": 0,
      "outputs": []
    },
    {
      "metadata": {
        "id": "d-PrKclWuU5U",
        "colab_type": "code",
        "colab": {}
      },
      "cell_type": "code",
      "source": [
        "series = pd.read_excel('/content/veg only.xlsx', header=None )"
      ],
      "execution_count": 0,
      "outputs": []
    },
    {
      "metadata": {
        "id": "8doRgk-WuX5_",
        "colab_type": "code",
        "outputId": "b9a71bfb-b263-46d8-e8b0-ef4da6c70ab9",
        "colab": {
          "base_uri": "https://localhost:8080/",
          "height": 195
        }
      },
      "cell_type": "code",
      "source": [
        "series.head()"
      ],
      "execution_count": 351,
      "outputs": [
        {
          "output_type": "execute_result",
          "data": {
            "text/html": [
              "<div>\n",
              "<style scoped>\n",
              "    .dataframe tbody tr th:only-of-type {\n",
              "        vertical-align: middle;\n",
              "    }\n",
              "\n",
              "    .dataframe tbody tr th {\n",
              "        vertical-align: top;\n",
              "    }\n",
              "\n",
              "    .dataframe thead th {\n",
              "        text-align: right;\n",
              "    }\n",
              "</style>\n",
              "<table border=\"1\" class=\"dataframe\">\n",
              "  <thead>\n",
              "    <tr style=\"text-align: right;\">\n",
              "      <th></th>\n",
              "      <th>0</th>\n",
              "    </tr>\n",
              "  </thead>\n",
              "  <tbody>\n",
              "    <tr>\n",
              "      <th>0</th>\n",
              "      <td>9418.25</td>\n",
              "    </tr>\n",
              "    <tr>\n",
              "      <th>1</th>\n",
              "      <td>12998.90</td>\n",
              "    </tr>\n",
              "    <tr>\n",
              "      <th>2</th>\n",
              "      <td>12748.55</td>\n",
              "    </tr>\n",
              "    <tr>\n",
              "      <th>3</th>\n",
              "      <td>13755.60</td>\n",
              "    </tr>\n",
              "    <tr>\n",
              "      <th>4</th>\n",
              "      <td>15193.80</td>\n",
              "    </tr>\n",
              "  </tbody>\n",
              "</table>\n",
              "</div>"
            ],
            "text/plain": [
              "          0\n",
              "0   9418.25\n",
              "1  12998.90\n",
              "2  12748.55\n",
              "3  13755.60\n",
              "4  15193.80"
            ]
          },
          "metadata": {
            "tags": []
          },
          "execution_count": 351
        }
      ]
    },
    {
      "metadata": {
        "id": "yRzE49Zkl8JD",
        "colab_type": "code",
        "outputId": "be7aa56e-a156-46a7-c64f-77ea9bce8ded",
        "colab": {
          "base_uri": "https://localhost:8080/",
          "height": 34
        }
      },
      "cell_type": "code",
      "source": [
        "series.shape"
      ],
      "execution_count": 352,
      "outputs": [
        {
          "output_type": "execute_result",
          "data": {
            "text/plain": [
              "(204, 1)"
            ]
          },
          "metadata": {
            "tags": []
          },
          "execution_count": 352
        }
      ]
    },
    {
      "metadata": {
        "id": "9QG_1kszvSpg",
        "colab_type": "code",
        "outputId": "d2d709ed-42ee-42cd-a941-49b5263f8e1f",
        "colab": {
          "base_uri": "https://localhost:8080/",
          "height": 398
        }
      },
      "cell_type": "code",
      "source": [
        "pyplot.figure(figsize=(20,6))\n",
        "pyplot.plot(series.values)\n",
        "pyplot.show()"
      ],
      "execution_count": 353,
      "outputs": [
        {
          "output_type": "display_data",
          "data": {
            "image/png": "[encoded data removed]",
            "text/plain": [
              "<Figure size 1440x432 with 1 Axes>"
            ]
          },
          "metadata": {
            "tags": []
          }
        }
      ]
    },
    {
      "metadata": {
        "id": "G48aW9-d053w",
        "colab_type": "code",
        "outputId": "4ad3654b-359c-49b6-8ce0-47cb93c4c864",
        "colab": {
          "base_uri": "https://localhost:8080/",
          "height": 398
        }
      },
      "cell_type": "code",
      "source": [
        "pyplot.figure(figsize=(20,6))\n",
        "pyplot.plot(series.values[:12])\n",
        "pyplot.show()"
      ],
      "execution_count": 354,
      "outputs": [
        {
          "output_type": "display_data",
          "data": {
            "image/png": "[encoded data removed]",
            "text/plain": [
              "<Figure size 1440x432 with 1 Axes>"
            ]
          },
          "metadata": {
            "tags": []
          }
        }
      ]
    },
    {
      "metadata": {
        "id": "KWNCG_DM0-SM",
        "colab_type": "code",
        "colab": {}
      },
      "cell_type": "code",
      "source": [
        "scaler = MinMaxScaler(feature_range=(-1, 1))\n",
        "scaled = scaler.fit_transform(series.values)\n",
        "series = pd.DataFrame(scaled)"
      ],
      "execution_count": 0,
      "outputs": []
    },
    {
      "metadata": {
        "id": "MbCUXPFy1B_4",
        "colab_type": "code",
        "colab": {}
      },
      "cell_type": "code",
      "source": [
        "window_size = 12\n",
        "\n",
        "series_s = series.copy()\n",
        "for i in range(window_size):\n",
        "    series = pd.concat([series, series_s.shift(-(i+1))], axis = 1)\n",
        "    \n",
        "series.dropna(axis=0, inplace=True)"
      ],
      "execution_count": 0,
      "outputs": []
    },
    {
      "metadata": {
        "id": "3XIf-l0i1Fva",
        "colab_type": "code",
        "outputId": "4f4b7037-b951-43bb-f8b4-15b6a858aaac",
        "colab": {
          "base_uri": "https://localhost:8080/",
          "height": 195
        }
      },
      "cell_type": "code",
      "source": [
        "\n",
        "series.head()"
      ],
      "execution_count": 357,
      "outputs": [
        {
          "output_type": "execute_result",
          "data": {
            "text/html": [
              "<div>\n",
              "<style scoped>\n",
              "    .dataframe tbody tr th:only-of-type {\n",
              "        vertical-align: middle;\n",
              "    }\n",
              "\n",
              "    .dataframe tbody tr th {\n",
              "        vertical-align: top;\n",
              "    }\n",
              "\n",
              "    .dataframe thead th {\n",
              "        text-align: right;\n",
              "    }\n",
              "</style>\n",
              "<table border=\"1\" class=\"dataframe\">\n",
              "  <thead>\n",
              "    <tr style=\"text-align: right;\">\n",
              "      <th></th>\n",
              "      <th>0</th>\n",
              "      <th>0</th>\n",
              "      <th>0</th>\n",
              "      <th>0</th>\n",
              "      <th>0</th>\n",
              "      <th>0</th>\n",
              "      <th>0</th>\n",
              "      <th>0</th>\n",
              "      <th>0</th>\n",
              "      <th>0</th>\n",
              "      <th>0</th>\n",
              "      <th>0</th>\n",
              "      <th>0</th>\n",
              "    </tr>\n",
              "  </thead>\n",
              "  <tbody>\n",
              "    <tr>\n",
              "      <th>0</th>\n",
              "      <td>-1.000000</td>\n",
              "      <td>-0.141912</td>\n",
              "      <td>-0.201908</td>\n",
              "      <td>0.039428</td>\n",
              "      <td>0.384086</td>\n",
              "      <td>0.188643</td>\n",
              "      <td>0.506869</td>\n",
              "      <td>0.543523</td>\n",
              "      <td>0.733706</td>\n",
              "      <td>0.514442</td>\n",
              "      <td>0.241928</td>\n",
              "      <td>0.015906</td>\n",
              "      <td>-0.747004</td>\n",
              "    </tr>\n",
              "    <tr>\n",
              "      <th>1</th>\n",
              "      <td>-0.141912</td>\n",
              "      <td>-0.201908</td>\n",
              "      <td>0.039428</td>\n",
              "      <td>0.384086</td>\n",
              "      <td>0.188643</td>\n",
              "      <td>0.506869</td>\n",
              "      <td>0.543523</td>\n",
              "      <td>0.733706</td>\n",
              "      <td>0.514442</td>\n",
              "      <td>0.241928</td>\n",
              "      <td>0.015906</td>\n",
              "      <td>-0.747004</td>\n",
              "      <td>-0.546410</td>\n",
              "    </tr>\n",
              "    <tr>\n",
              "      <th>2</th>\n",
              "      <td>-0.201908</td>\n",
              "      <td>0.039428</td>\n",
              "      <td>0.384086</td>\n",
              "      <td>0.188643</td>\n",
              "      <td>0.506869</td>\n",
              "      <td>0.543523</td>\n",
              "      <td>0.733706</td>\n",
              "      <td>0.514442</td>\n",
              "      <td>0.241928</td>\n",
              "      <td>0.015906</td>\n",
              "      <td>-0.747004</td>\n",
              "      <td>-0.546410</td>\n",
              "      <td>-0.139660</td>\n",
              "    </tr>\n",
              "    <tr>\n",
              "      <th>3</th>\n",
              "      <td>0.039428</td>\n",
              "      <td>0.384086</td>\n",
              "      <td>0.188643</td>\n",
              "      <td>0.506869</td>\n",
              "      <td>0.543523</td>\n",
              "      <td>0.733706</td>\n",
              "      <td>0.514442</td>\n",
              "      <td>0.241928</td>\n",
              "      <td>0.015906</td>\n",
              "      <td>-0.747004</td>\n",
              "      <td>-0.546410</td>\n",
              "      <td>-0.139660</td>\n",
              "      <td>-0.017572</td>\n",
              "    </tr>\n",
              "    <tr>\n",
              "      <th>4</th>\n",
              "      <td>0.384086</td>\n",
              "      <td>0.188643</td>\n",
              "      <td>0.506869</td>\n",
              "      <td>0.543523</td>\n",
              "      <td>0.733706</td>\n",
              "      <td>0.514442</td>\n",
              "      <td>0.241928</td>\n",
              "      <td>0.015906</td>\n",
              "      <td>-0.747004</td>\n",
              "      <td>-0.546410</td>\n",
              "      <td>-0.139660</td>\n",
              "      <td>-0.017572</td>\n",
              "      <td>0.281530</td>\n",
              "    </tr>\n",
              "  </tbody>\n",
              "</table>\n",
              "</div>"
            ],
            "text/plain": [
              "          0         0         0         0         0         0         0  \\\n",
              "0 -1.000000 -0.141912 -0.201908  0.039428  0.384086  0.188643  0.506869   \n",
              "1 -0.141912 -0.201908  0.039428  0.384086  0.188643  0.506869  0.543523   \n",
              "2 -0.201908  0.039428  0.384086  0.188643  0.506869  0.543523  0.733706   \n",
              "3  0.039428  0.384086  0.188643  0.506869  0.543523  0.733706  0.514442   \n",
              "4  0.384086  0.188643  0.506869  0.543523  0.733706  0.514442  0.241928   \n",
              "\n",
              "          0         0         0         0         0         0  \n",
              "0  0.543523  0.733706  0.514442  0.241928  0.015906 -0.747004  \n",
              "1  0.733706  0.514442  0.241928  0.015906 -0.747004 -0.546410  \n",
              "2  0.514442  0.241928  0.015906 -0.747004 -0.546410 -0.139660  \n",
              "3  0.241928  0.015906 -0.747004 -0.546410 -0.139660 -0.017572  \n",
              "4  0.015906 -0.747004 -0.546410 -0.139660 -0.017572  0.281530  "
            ]
          },
          "metadata": {
            "tags": []
          },
          "execution_count": 357
        }
      ]
    },
    {
      "metadata": {
        "id": "nJhUXpYm1IxY",
        "colab_type": "code",
        "outputId": "6c7eb9ef-17c4-4123-cf03-7c365bb3a8c3",
        "colab": {
          "base_uri": "https://localhost:8080/",
          "height": 34
        }
      },
      "cell_type": "code",
      "source": [
        "series.shape"
      ],
      "execution_count": 358,
      "outputs": [
        {
          "output_type": "execute_result",
          "data": {
            "text/plain": [
              "(192, 13)"
            ]
          },
          "metadata": {
            "tags": []
          },
          "execution_count": 358
        }
      ]
    },
    {
      "metadata": {
        "id": "UAc81KzV1N1I",
        "colab_type": "code",
        "colab": {}
      },
      "cell_type": "code",
      "source": [
        "\n",
        "nrow = round(0.75*series.shape[0])"
      ],
      "execution_count": 0,
      "outputs": []
    },
    {
      "metadata": {
        "id": "1N4M-f7Nl7zE",
        "colab_type": "code",
        "outputId": "4d962a6f-8d44-4ce7-f9be-ab952d449110",
        "colab": {
          "base_uri": "https://localhost:8080/",
          "height": 34
        }
      },
      "cell_type": "code",
      "source": [
        "nrow"
      ],
      "execution_count": 360,
      "outputs": [
        {
          "output_type": "execute_result",
          "data": {
            "text/plain": [
              "144"
            ]
          },
          "metadata": {
            "tags": []
          },
          "execution_count": 360
        }
      ]
    },
    {
      "metadata": {
        "id": "bN-t579K1Q_x",
        "colab_type": "code",
        "colab": {}
      },
      "cell_type": "code",
      "source": [
        "\n",
        "train = series.iloc[:nrow, :]\n",
        "test = series.iloc[nrow:,:]"
      ],
      "execution_count": 0,
      "outputs": []
    },
    {
      "metadata": {
        "id": "GOogV3OMcnZg",
        "colab_type": "code",
        "outputId": "e23efe96-595e-4c7c-cae9-d7f6eac5ce6d",
        "colab": {
          "base_uri": "https://localhost:8080/",
          "height": 34
        }
      },
      "cell_type": "code",
      "source": [
        "test.shape"
      ],
      "execution_count": 362,
      "outputs": [
        {
          "output_type": "execute_result",
          "data": {
            "text/plain": [
              "(48, 13)"
            ]
          },
          "metadata": {
            "tags": []
          },
          "execution_count": 362
        }
      ]
    },
    {
      "metadata": {
        "id": "7v7LSCvc1UUm",
        "colab_type": "code",
        "colab": {}
      },
      "cell_type": "code",
      "source": [
        "from sklearn.utils import shuffle\n",
        "train = shuffle(train)"
      ],
      "execution_count": 0,
      "outputs": []
    },
    {
      "metadata": {
        "id": "AvqiQttTcyJH",
        "colab_type": "code",
        "outputId": "e780f311-7de9-4b60-f773-0a184d37cb34",
        "colab": {
          "base_uri": "https://localhost:8080/",
          "height": 34
        }
      },
      "cell_type": "code",
      "source": [
        "train.shape"
      ],
      "execution_count": 364,
      "outputs": [
        {
          "output_type": "execute_result",
          "data": {
            "text/plain": [
              "(144, 13)"
            ]
          },
          "metadata": {
            "tags": []
          },
          "execution_count": 364
        }
      ]
    },
    {
      "metadata": {
        "id": "89uUaYUr1WvY",
        "colab_type": "code",
        "colab": {}
      },
      "cell_type": "code",
      "source": [
        "train_X = train.iloc[:,:-1]\n",
        "train_y = train.iloc[:,-1]\n",
        "test_X = test.iloc[:,:-1]\n",
        "test_y = test.iloc[:,-1]"
      ],
      "execution_count": 0,
      "outputs": []
    },
    {
      "metadata": {
        "id": "YvoeD5TS1bIt",
        "colab_type": "code",
        "colab": {}
      },
      "cell_type": "code",
      "source": [
        "train_X = train_X.values\n",
        "train_y = train_y.values\n",
        "test_X = test_X.values\n",
        "test_y = test_y.values"
      ],
      "execution_count": 0,
      "outputs": []
    },
    {
      "metadata": {
        "id": "mLWQUwJR1d-V",
        "colab_type": "code",
        "outputId": "32fa4d43-597c-4221-ab7a-bd6adab060e2",
        "colab": {
          "base_uri": "https://localhost:8080/",
          "height": 34
        }
      },
      "cell_type": "code",
      "source": [
        "train_X.shape\n",
        "train_y.shape\n",
        "test_X.shape\n",
        "test_y.shape"
      ],
      "execution_count": 367,
      "outputs": [
        {
          "output_type": "execute_result",
          "data": {
            "text/plain": [
              "(48,)"
            ]
          },
          "metadata": {
            "tags": []
          },
          "execution_count": 367
        }
      ]
    },
    {
      "metadata": {
        "id": "EFLNEKqa1hqE",
        "colab_type": "code",
        "colab": {}
      },
      "cell_type": "code",
      "source": [
        "\n",
        "train_X = train_X.reshape(train_X.shape[0],train_X.shape[1],1)\n",
        "test_X = test_X.reshape(test_X.shape[0],test_X.shape[1],1)\n"
      ],
      "execution_count": 0,
      "outputs": []
    },
    {
      "metadata": {
        "id": "TYNBHUN-1l7A",
        "colab_type": "code",
        "outputId": "8a044949-719a-4bdd-f43f-e52f1789a22a",
        "colab": {
          "base_uri": "https://localhost:8080/",
          "height": 34
        }
      },
      "cell_type": "code",
      "source": [
        "train_X.shape\n",
        "train_y.shape\n",
        "test_X.shape\n",
        "test_y.shape"
      ],
      "execution_count": 369,
      "outputs": [
        {
          "output_type": "execute_result",
          "data": {
            "text/plain": [
              "(48,)"
            ]
          },
          "metadata": {
            "tags": []
          },
          "execution_count": 369
        }
      ]
    },
    {
      "metadata": {
        "id": "N0WKeLdM1ogZ",
        "colab_type": "code",
        "outputId": "5bb77e32-0c35-4508-cc8a-c9fe5a9f86af",
        "colab": {
          "base_uri": "https://localhost:8080/",
          "height": 390
        }
      },
      "cell_type": "code",
      "source": [
        "model = Sequential()\n",
        "model.add(LSTM(input_shape = (12,1), output_dim= 12, return_sequences = True))\n",
        "model.add(Dropout(0.5))\n",
        "model.add(LSTM(40))\n",
        "model.add(Dropout(0.5))\n",
        "model.add(Dense(1))\n",
        "model.add(Activation(\"linear\"))\n",
        "model.compile(loss=\"mse\", optimizer=\"adam\")\n",
        "model.summary()"
      ],
      "execution_count": 370,
      "outputs": [
        {
          "output_type": "stream",
          "text": [
            "/usr/local/lib/python3.6/dist-packages/ipykernel_launcher.py:2: UserWarning: Update your `LSTM` call to the Keras 2 API: `LSTM(input_shape=(12, 1), return_sequences=True, units=12)`\n",
            "  \n"
          ],
          "name": "stderr"
        },
        {
          "output_type": "stream",
          "text": [
            "_________________________________________________________________\n",
            "Layer (type)                 Output Shape              Param #   \n",
            "=================================================================\n",
            "lstm_23 (LSTM)               (None, 12, 12)            672       \n",
            "_________________________________________________________________\n",
            "dropout_23 (Dropout)         (None, 12, 12)            0         \n",
            "_________________________________________________________________\n",
            "lstm_24 (LSTM)               (None, 40)                8480      \n",
            "_________________________________________________________________\n",
            "dropout_24 (Dropout)         (None, 40)                0         \n",
            "_________________________________________________________________\n",
            "dense_12 (Dense)             (None, 1)                 41        \n",
            "_________________________________________________________________\n",
            "activation_12 (Activation)   (None, 1)                 0         \n",
            "=================================================================\n",
            "Total params: 9,193\n",
            "Trainable params: 9,193\n",
            "Non-trainable params: 0\n",
            "_________________________________________________________________\n"
          ],
          "name": "stdout"
        }
      ]
    },
    {
      "metadata": {
        "id": "grekihHh1r_h",
        "colab_type": "code",
        "outputId": "f33820f4-1e96-44bd-b25c-28f90dbeb6a0",
        "colab": {
          "base_uri": "https://localhost:8080/",
          "height": 3444
        }
      },
      "cell_type": "code",
      "source": [
        "start = time.time()\n",
        "model.fit(train_X,train_y,batch_size=15,nb_epoch=100,validation_split=0.1)\n",
        "print(\"> Compilation Time : \", time.time() - start)"
      ],
      "execution_count": 371,
      "outputs": [
        {
          "output_type": "stream",
          "text": [
            "/usr/local/lib/python3.6/dist-packages/ipykernel_launcher.py:2: UserWarning: The `nb_epoch` argument in `fit` has been renamed `epochs`.\n",
            "  \n"
          ],
          "name": "stderr"
        },
        {
          "output_type": "stream",
          "text": [
            "Train on 129 samples, validate on 15 samples\n",
            "Epoch 1/100\n",
            "129/129 [==============================] - 5s 39ms/step - loss: 0.1710 - val_loss: 0.1579\n",
            "Epoch 2/100\n",
            "129/129 [==============================] - 0s 1ms/step - loss: 0.1382 - val_loss: 0.1690\n",
            "Epoch 3/100\n",
            "129/129 [==============================] - 0s 1ms/step - loss: 0.1331 - val_loss: 0.1727\n",
            "Epoch 4/100\n",
            "129/129 [==============================] - 0s 1ms/step - loss: 0.1323 - val_loss: 0.1696\n",
            "Epoch 5/100\n",
            "129/129 [==============================] - 0s 1ms/step - loss: 0.1254 - val_loss: 0.1541\n",
            "Epoch 6/100\n",
            "129/129 [==============================] - 0s 1ms/step - loss: 0.1161 - val_loss: 0.1523\n",
            "Epoch 7/100\n",
            "129/129 [==============================] - 0s 1ms/step - loss: 0.1115 - val_loss: 0.1467\n",
            "Epoch 8/100\n",
            "129/129 [==============================] - 0s 1ms/step - loss: 0.1031 - val_loss: 0.1365\n",
            "Epoch 9/100\n",
            "129/129 [==============================] - 0s 1ms/step - loss: 0.0949 - val_loss: 0.1133\n",
            "Epoch 10/100\n",
            "129/129 [==============================] - 0s 1ms/step - loss: 0.0783 - val_loss: 0.0993\n",
            "Epoch 11/100\n",
            "129/129 [==============================] - 0s 1ms/step - loss: 0.0656 - val_loss: 0.0851\n",
            "Epoch 12/100\n",
            "129/129 [==============================] - 0s 1ms/step - loss: 0.0732 - val_loss: 0.0610\n",
            "Epoch 13/100\n",
            "129/129 [==============================] - 0s 1ms/step - loss: 0.0707 - val_loss: 0.0859\n",
            "Epoch 14/100\n",
            "129/129 [==============================] - 0s 1ms/step - loss: 0.0590 - val_loss: 0.0665\n",
            "Epoch 15/100\n",
            "129/129 [==============================] - 0s 1ms/step - loss: 0.0523 - val_loss: 0.0646\n",
            "Epoch 16/100\n",
            "129/129 [==============================] - 0s 1ms/step - loss: 0.0508 - val_loss: 0.0585\n",
            "Epoch 17/100\n",
            "129/129 [==============================] - 0s 1ms/step - loss: 0.0537 - val_loss: 0.0588\n",
            "Epoch 18/100\n",
            "129/129 [==============================] - 0s 1ms/step - loss: 0.0499 - val_loss: 0.0504\n",
            "Epoch 19/100\n",
            "129/129 [==============================] - 0s 1ms/step - loss: 0.0579 - val_loss: 0.0581\n",
            "Epoch 20/100\n",
            "129/129 [==============================] - 0s 1ms/step - loss: 0.0484 - val_loss: 0.0520\n",
            "Epoch 21/100\n",
            "129/129 [==============================] - 0s 1ms/step - loss: 0.0446 - val_loss: 0.0631\n",
            "Epoch 22/100\n",
            "129/129 [==============================] - 0s 1ms/step - loss: 0.0489 - val_loss: 0.0472\n",
            "Epoch 23/100\n",
            "129/129 [==============================] - 0s 1ms/step - loss: 0.0518 - val_loss: 0.0578\n",
            "Epoch 24/100\n",
            "129/129 [==============================] - 0s 1ms/step - loss: 0.0530 - val_loss: 0.0504\n",
            "Epoch 25/100\n",
            "129/129 [==============================] - 0s 1ms/step - loss: 0.0472 - val_loss: 0.0499\n",
            "Epoch 26/100\n",
            "129/129 [==============================] - 0s 1ms/step - loss: 0.0537 - val_loss: 0.0491\n",
            "Epoch 27/100\n",
            "129/129 [==============================] - 0s 1ms/step - loss: 0.0486 - val_loss: 0.0430\n",
            "Epoch 28/100\n",
            "129/129 [==============================] - 0s 1ms/step - loss: 0.0501 - val_loss: 0.0486\n",
            "Epoch 29/100\n",
            "129/129 [==============================] - 0s 1ms/step - loss: 0.0482 - val_loss: 0.0480\n",
            "Epoch 30/100\n",
            "129/129 [==============================] - 0s 1ms/step - loss: 0.0506 - val_loss: 0.0489\n",
            "Epoch 31/100\n",
            "129/129 [==============================] - 0s 1ms/step - loss: 0.0437 - val_loss: 0.0539\n",
            "Epoch 32/100\n",
            "129/129 [==============================] - 0s 1ms/step - loss: 0.0507 - val_loss: 0.0506\n",
            "Epoch 33/100\n",
            "129/129 [==============================] - 0s 1ms/step - loss: 0.0396 - val_loss: 0.0422\n",
            "Epoch 34/100\n",
            "129/129 [==============================] - 0s 1ms/step - loss: 0.0476 - val_loss: 0.0420\n",
            "Epoch 35/100\n",
            "129/129 [==============================] - 0s 1ms/step - loss: 0.0432 - val_loss: 0.0448\n",
            "Epoch 36/100\n",
            "129/129 [==============================] - 0s 1ms/step - loss: 0.0414 - val_loss: 0.0400\n",
            "Epoch 37/100\n",
            "129/129 [==============================] - 0s 1ms/step - loss: 0.0477 - val_loss: 0.0428\n",
            "Epoch 38/100\n",
            "129/129 [==============================] - 0s 1ms/step - loss: 0.0461 - val_loss: 0.0459\n",
            "Epoch 39/100\n",
            "129/129 [==============================] - 0s 1ms/step - loss: 0.0457 - val_loss: 0.0424\n",
            "Epoch 40/100\n",
            "129/129 [==============================] - 0s 1ms/step - loss: 0.0441 - val_loss: 0.0424\n",
            "Epoch 41/100\n",
            "129/129 [==============================] - 0s 1ms/step - loss: 0.0395 - val_loss: 0.0461\n",
            "Epoch 42/100\n",
            "129/129 [==============================] - 0s 1ms/step - loss: 0.0397 - val_loss: 0.0401\n",
            "Epoch 43/100\n",
            "129/129 [==============================] - 0s 1ms/step - loss: 0.0428 - val_loss: 0.0353\n",
            "Epoch 44/100\n",
            "129/129 [==============================] - 0s 1ms/step - loss: 0.0427 - val_loss: 0.0358\n",
            "Epoch 45/100\n",
            "129/129 [==============================] - 0s 1ms/step - loss: 0.0423 - val_loss: 0.0474\n",
            "Epoch 46/100\n",
            "129/129 [==============================] - 0s 1ms/step - loss: 0.0402 - val_loss: 0.0404\n",
            "Epoch 47/100\n",
            "129/129 [==============================] - 0s 1ms/step - loss: 0.0434 - val_loss: 0.0372\n",
            "Epoch 48/100\n",
            "129/129 [==============================] - 0s 1ms/step - loss: 0.0357 - val_loss: 0.0391\n",
            "Epoch 49/100\n",
            "129/129 [==============================] - 0s 1ms/step - loss: 0.0323 - val_loss: 0.0362\n",
            "Epoch 50/100\n",
            "129/129 [==============================] - 0s 1ms/step - loss: 0.0362 - val_loss: 0.0321\n",
            "Epoch 51/100\n",
            "129/129 [==============================] - 0s 1ms/step - loss: 0.0403 - val_loss: 0.0395\n",
            "Epoch 52/100\n",
            "129/129 [==============================] - 0s 1ms/step - loss: 0.0455 - val_loss: 0.0384\n",
            "Epoch 53/100\n",
            "129/129 [==============================] - 0s 1ms/step - loss: 0.0434 - val_loss: 0.0445\n",
            "Epoch 54/100\n",
            "129/129 [==============================] - 0s 1ms/step - loss: 0.0493 - val_loss: 0.0371\n",
            "Epoch 55/100\n",
            "129/129 [==============================] - 0s 1ms/step - loss: 0.0397 - val_loss: 0.0423\n",
            "Epoch 56/100\n",
            "129/129 [==============================] - 0s 1ms/step - loss: 0.0444 - val_loss: 0.0360\n",
            "Epoch 57/100\n",
            "129/129 [==============================] - 0s 1ms/step - loss: 0.0384 - val_loss: 0.0322\n",
            "Epoch 58/100\n",
            "129/129 [==============================] - 0s 1ms/step - loss: 0.0399 - val_loss: 0.0380\n",
            "Epoch 59/100\n",
            "129/129 [==============================] - 0s 1ms/step - loss: 0.0412 - val_loss: 0.0381\n",
            "Epoch 60/100\n",
            "129/129 [==============================] - 0s 1ms/step - loss: 0.0443 - val_loss: 0.0326\n",
            "Epoch 61/100\n",
            "129/129 [==============================] - 0s 1ms/step - loss: 0.0356 - val_loss: 0.0385\n",
            "Epoch 62/100\n",
            "129/129 [==============================] - 0s 1ms/step - loss: 0.0430 - val_loss: 0.0354\n",
            "Epoch 63/100\n",
            "129/129 [==============================] - 0s 1ms/step - loss: 0.0348 - val_loss: 0.0385\n",
            "Epoch 64/100\n",
            "129/129 [==============================] - 0s 1ms/step - loss: 0.0382 - val_loss: 0.0355\n",
            "Epoch 65/100\n",
            "129/129 [==============================] - 0s 1ms/step - loss: 0.0374 - val_loss: 0.0336\n",
            "Epoch 66/100\n",
            "129/129 [==============================] - 0s 1ms/step - loss: 0.0416 - val_loss: 0.0382\n",
            "Epoch 67/100\n",
            "129/129 [==============================] - 0s 1ms/step - loss: 0.0384 - val_loss: 0.0445\n",
            "Epoch 68/100\n",
            "129/129 [==============================] - 0s 1ms/step - loss: 0.0442 - val_loss: 0.0317\n",
            "Epoch 69/100\n",
            "129/129 [==============================] - 0s 1ms/step - loss: 0.0395 - val_loss: 0.0380\n",
            "Epoch 70/100\n",
            "129/129 [==============================] - 0s 1ms/step - loss: 0.0403 - val_loss: 0.0397\n",
            "Epoch 71/100\n",
            "129/129 [==============================] - 0s 1ms/step - loss: 0.0361 - val_loss: 0.0344\n",
            "Epoch 72/100\n",
            "129/129 [==============================] - 0s 1ms/step - loss: 0.0418 - val_loss: 0.0296\n",
            "Epoch 73/100\n",
            "129/129 [==============================] - 0s 1ms/step - loss: 0.0330 - val_loss: 0.0404\n",
            "Epoch 74/100\n",
            "129/129 [==============================] - 0s 1ms/step - loss: 0.0367 - val_loss: 0.0354\n",
            "Epoch 75/100\n",
            "129/129 [==============================] - 0s 1ms/step - loss: 0.0380 - val_loss: 0.0307\n",
            "Epoch 76/100\n",
            "129/129 [==============================] - 0s 1ms/step - loss: 0.0359 - val_loss: 0.0374\n",
            "Epoch 77/100\n",
            "129/129 [==============================] - 0s 1ms/step - loss: 0.0369 - val_loss: 0.0342\n",
            "Epoch 78/100\n",
            "129/129 [==============================] - 0s 1ms/step - loss: 0.0412 - val_loss: 0.0343\n",
            "Epoch 79/100\n",
            "129/129 [==============================] - 0s 1ms/step - loss: 0.0379 - val_loss: 0.0310\n",
            "Epoch 80/100\n",
            "129/129 [==============================] - 0s 1ms/step - loss: 0.0433 - val_loss: 0.0323\n",
            "Epoch 81/100\n",
            "129/129 [==============================] - 0s 1ms/step - loss: 0.0418 - val_loss: 0.0353\n",
            "Epoch 82/100\n",
            "129/129 [==============================] - 0s 1ms/step - loss: 0.0394 - val_loss: 0.0373\n",
            "Epoch 83/100\n",
            "129/129 [==============================] - 0s 1ms/step - loss: 0.0380 - val_loss: 0.0350\n",
            "Epoch 84/100\n",
            "129/129 [==============================] - 0s 1ms/step - loss: 0.0363 - val_loss: 0.0367\n",
            "Epoch 85/100\n",
            "129/129 [==============================] - 0s 1ms/step - loss: 0.0366 - val_loss: 0.0345\n",
            "Epoch 86/100\n",
            "129/129 [==============================] - 0s 1ms/step - loss: 0.0305 - val_loss: 0.0324\n",
            "Epoch 87/100\n",
            "129/129 [==============================] - 0s 1ms/step - loss: 0.0381 - val_loss: 0.0320\n",
            "Epoch 88/100\n",
            "129/129 [==============================] - 0s 1ms/step - loss: 0.0340 - val_loss: 0.0354\n",
            "Epoch 89/100\n",
            "129/129 [==============================] - 0s 1ms/step - loss: 0.0382 - val_loss: 0.0371\n",
            "Epoch 90/100\n",
            "129/129 [==============================] - 0s 1ms/step - loss: 0.0331 - val_loss: 0.0338\n",
            "Epoch 91/100\n",
            "129/129 [==============================] - 0s 1ms/step - loss: 0.0406 - val_loss: 0.0310\n",
            "Epoch 92/100\n",
            "129/129 [==============================] - 0s 1ms/step - loss: 0.0349 - val_loss: 0.0324\n",
            "Epoch 93/100\n",
            "129/129 [==============================] - 0s 1ms/step - loss: 0.0345 - val_loss: 0.0313\n",
            "Epoch 94/100\n",
            "129/129 [==============================] - 0s 1ms/step - loss: 0.0387 - val_loss: 0.0335\n",
            "Epoch 95/100\n",
            "129/129 [==============================] - 0s 1ms/step - loss: 0.0392 - val_loss: 0.0316\n",
            "Epoch 96/100\n",
            "129/129 [==============================] - 0s 1ms/step - loss: 0.0360 - val_loss: 0.0290\n",
            "Epoch 97/100\n",
            "129/129 [==============================] - 0s 1ms/step - loss: 0.0369 - val_loss: 0.0299\n",
            "Epoch 98/100\n",
            "129/129 [==============================] - 0s 1ms/step - loss: 0.0411 - val_loss: 0.0320\n",
            "Epoch 99/100\n",
            "129/129 [==============================] - 0s 1ms/step - loss: 0.0374 - val_loss: 0.0352\n",
            "Epoch 100/100\n",
            "129/129 [==============================] - 0s 1ms/step - loss: 0.0311 - val_loss: 0.0315\n",
            "> Compilation Time :  21.232924938201904\n"
          ],
          "name": "stdout"
        }
      ]
    },
    {
      "metadata": {
        "id": "xATFekmJ1xqs",
        "colab_type": "code",
        "colab": {}
      },
      "cell_type": "code",
      "source": [
        "preds = model.predict(test_X)"
      ],
      "execution_count": 0,
      "outputs": []
    },
    {
      "metadata": {
        "id": "or7NRYyl12F9",
        "colab_type": "code",
        "colab": {}
      },
      "cell_type": "code",
      "source": [
        "preds = scaler.inverse_transform(preds)"
      ],
      "execution_count": 0,
      "outputs": []
    },
    {
      "metadata": {
        "id": "gx_5tunxPcls",
        "colab_type": "code",
        "outputId": "50103af7-caa3-4ba0-bc01-36a9bbe09746",
        "colab": {
          "base_uri": "https://localhost:8080/",
          "height": 34
        }
      },
      "cell_type": "code",
      "source": [
        "preds.shape"
      ],
      "execution_count": 374,
      "outputs": [
        {
          "output_type": "execute_result",
          "data": {
            "text/plain": [
              "(48, 1)"
            ]
          },
          "metadata": {
            "tags": []
          },
          "execution_count": 374
        }
      ]
    },
    {
      "metadata": {
        "id": "3ieW0dj615qC",
        "colab_type": "code",
        "colab": {}
      },
      "cell_type": "code",
      "source": [
        "teest=np.asmatrix(test_y)\n",
        "teest\n",
        "actuals = scaler.inverse_transform(teest)"
      ],
      "execution_count": 0,
      "outputs": []
    },
    {
      "metadata": {
        "id": "rBjwt3J419JH",
        "colab_type": "code",
        "colab": {}
      },
      "cell_type": "code",
      "source": [
        "#mean_squared_error(actuals,preds)"
      ],
      "execution_count": 0,
      "outputs": []
    },
    {
      "metadata": {
        "id": "I5M6puktSme3",
        "colab_type": "code",
        "outputId": "4992c04f-27d7-4c4b-af3a-ddf30a84ef50",
        "colab": {
          "base_uri": "https://localhost:8080/",
          "height": 269
        }
      },
      "cell_type": "code",
      "source": [
        "pyplot.plot(actuals)\n",
        "pyplot.plot(preds)\n",
        "pyplot.show()"
      ],
      "execution_count": 377,
      "outputs": [
        {
          "output_type": "display_data",
          "data": {
            "image/png": "[encoded data removed]",
            "text/plain": [
              "<Figure size 432x288 with 1 Axes>"
            ]
          },
          "metadata": {
            "tags": []
          }
        }
      ]
    },
    {
      "metadata": {
        "id": "at577nrJSrH_",
        "colab_type": "code",
        "outputId": "b2b81304-3f07-4fc3-8624-0ada1c951a8f",
        "colab": {
          "base_uri": "https://localhost:8080/",
          "height": 269
        }
      },
      "cell_type": "code",
      "source": [
        "pyplot.plot(preds)\n",
        "pyplot.show()"
      ],
      "execution_count": 378,
      "outputs": [
        {
          "output_type": "display_data",
          "data": {
            "image/png": "[encoded data removed]",
            "text/plain": [
              "<Figure size 432x288 with 1 Axes>"
            ]
          },
          "metadata": {
            "tags": []
          }
        }
      ]
    },
    {
      "metadata": {
        "id": "2NvMRYlaSx6k",
        "colab_type": "code",
        "colab": {}
      },
      "cell_type": "code",
      "source": [
        "def moving_test_window_preds(n_future_preds):\n",
        "\n",
        "    ''' n_future_preds - Represents the number of future predictions we want to make\n",
        "                         This coincides with the number of windows that we will move forward\n",
        "                         on the test data\n",
        "    '''\n",
        "    preds_moving = []                                    # Use this to store the prediction made on each test window\n",
        "    moving_test_window = [test_X[0,:].tolist()]          # Creating the first test window\n",
        "    moving_test_window = np.array(moving_test_window)    # Making it an numpy array\n",
        "    \n",
        "    for i in range(n_future_preds):\n",
        "        preds_one_step = model.predict(moving_test_window) # Note that this is already a scaled prediction so no need to rescale this\n",
        "        preds_moving.append(preds_one_step[0,0]) # get the value from the numpy 2D array and append to predictions\n",
        "        preds_one_step = preds_one_step.reshape(1,1,1) # Reshaping the prediction to 3D array for concatenation with moving test window\n",
        "        moving_test_window = np.concatenate((moving_test_window[:,1:,:], preds_one_step), axis=1) # This is the new moving test window, where the first element from the window has been removed and the prediction  has been appended to the end\n",
        "      \n",
        "    preds_moving=np.asmatrix(preds_moving)\n",
        "    \n",
        "    preds_moving = scaler.inverse_transform(preds_moving)\n",
        "    \n",
        "    return preds_moving"
      ],
      "execution_count": 0,
      "outputs": []
    },
    {
      "metadata": {
        "id": "RxcGaMnyS9gU",
        "colab_type": "code",
        "outputId": "d39f45e4-1fd3-4045-b954-ea90cb1db81b",
        "colab": {
          "base_uri": "https://localhost:8080/",
          "height": 353
        }
      },
      "cell_type": "code",
      "source": [
        "\n",
        "preds_moving = moving_test_window_preds(98)\n",
        "preds_moving"
      ],
      "execution_count": 380,
      "outputs": [
        {
          "output_type": "execute_result",
          "data": {
            "text/plain": [
              "array([[12411.16  , 12093.02  , 13071.515 , 14043.167 , 14916.756 ,\n",
              "        15588.68  , 15912.638 , 16094.726 , 16297.596 , 15809.019 ,\n",
              "        14778.1455, 13664.084 , 12515.24  , 12372.081 , 13220.617 ,\n",
              "        14142.875 , 14907.571 , 15510.705 , 15959.02  , 16234.77  ,\n",
              "        16213.324 , 15653.039 , 14630.111 , 13471.993 , 12557.907 ,\n",
              "        12532.549 , 13336.199 , 14215.723 , 14948.446 , 15546.072 ,\n",
              "        16001.503 , 16245.92  , 16134.75  , 15517.463 , 14482.855 ,\n",
              "        13356.674 , 12571.013 , 12646.436 , 13445.558 , 14299.456 ,\n",
              "        15013.96  , 15597.3955, 16030.815 , 16233.292 , 16059.296 ,\n",
              "        15389.93  , 14344.127 , 13256.691 , 12572.515 , 12746.673 ,\n",
              "        13557.343 , 14390.221 , 15085.447 , 15649.29  , 16055.496 ,\n",
              "        16215.72  , 15983.717 , 15264.294 , 14208.243 , 13160.239 ,\n",
              "        12573.876 , 12846.1875, 13670.696 , 14482.487 , 15157.484 ,\n",
              "        15700.499 , 16078.38  , 16195.392 , 15905.24  , 15137.081 ,\n",
              "        14072.678 , 13067.126 , 12581.599 , 12948.893 , 13783.582 ,\n",
              "        14573.974 , 15228.98  , 15750.97  , 16099.53  , 16171.469 ,\n",
              "        15821.957 , 15006.807 , 13937.271 , 12979.325 , 12599.056 ,\n",
              "        13055.361 , 13894.85  , 14664.059 , 15299.656 , 15800.365 ,\n",
              "        16118.244 , 16142.793 , 15732.737 , 14873.14  , 13802.775 ,\n",
              "        12898.88  , 12627.9   , 13165.118 ]], dtype=float32)"
            ]
          },
          "metadata": {
            "tags": []
          },
          "execution_count": 380
        }
      ]
    },
    {
      "metadata": {
        "id": "TuW2uE-FerKW",
        "colab_type": "code",
        "outputId": "1f622fec-af4d-410e-d1cc-cb353708d719",
        "colab": {
          "base_uri": "https://localhost:8080/",
          "height": 151
        }
      },
      "cell_type": "code",
      "source": [
        "actuals"
      ],
      "execution_count": 381,
      "outputs": [
        {
          "output_type": "execute_result",
          "data": {
            "text/plain": [
              "array([[12575.5 , 11350.65, 12441.25, 13231.9 , 14272.35, 15648.95,\n",
              "        13992.45, 17586.1 , 16536.8 , 15998.6 , 15129.95, 13928.25,\n",
              "        12777.05, 11710.75, 12152.75, 13444.85, 14749.5 , 15832.  ,\n",
              "        15999.4 , 17763.9 , 17180.  , 16055.7 , 14734.8 , 14017.95,\n",
              "        13695.4 , 13463.8 , 13569.8 , 14136.1 , 15401.1 , 15903.6 ,\n",
              "        14758.6 , 16019.8 , 16581.7 , 16149.4 , 15316.7 , 14919.6 ,\n",
              "        12258.8 , 12972.2 , 13182.8 , 14264.3 , 15080.4 , 15530.3 ,\n",
              "        11824.5 , 17010.6 , 17034.3 , 16347.4 , 15226.7 , 14282.1 ]])"
            ]
          },
          "metadata": {
            "tags": []
          },
          "execution_count": 381
        }
      ]
    },
    {
      "metadata": {
        "id": "R_5ygmGqfrLy",
        "colab_type": "code",
        "colab": {}
      },
      "cell_type": "code",
      "source": [
        "predicted=[12411.16  , 12093.02  , 13071.515 , 14043.167 , 14916.756 ,\n",
        "        15588.68  , 15912.638 , 16094.726 , 16297.596 , 15809.019 ,\n",
        "        14778.1455, 13664.084 , 12515.24  , 12372.081 , 13220.617 ,\n",
        "        14142.875 , 14907.571 , 15510.705 , 15959.02  , 16234.77  ,\n",
        "        16213.324 , 15653.039 , 14630.111 , 13471.993 , 12557.907 ,\n",
        "        12532.549 , 13336.199 , 14215.723 , 14948.446 , 15546.072 ,\n",
        "        16001.503 , 16245.92  , 16134.75  , 15517.463 , 14482.855 ,\n",
        "        13356.674 , 12571.013 , 12646.436 , 13445.558 , 14299.456 ,\n",
        "        15013.96  , 15597.3955, 16030.815 , 16233.292 , 16059.296 ,\n",
        "        15389.93  , 14344.127 , 13256.691 , 12572.515 , 12746.673 ,\n",
        "        13557.343 , 14390.221 , 15085.447 , 15649.29  , 16055.496 ,\n",
        "        16215.72  , 15983.717 , 15264.294 , 14208.243 , 13160.239 ,\n",
        "        12573.876 , 12846.1875, 13670.696 , 14482.487 , 15157.484 ,\n",
        "        15700.499 , 16078.38  , 16195.392 , 15905.24  , 15137.081 ,\n",
        "        14072.678 , 13067.126 , 12581.599 , 12948.893 , 13783.582 ,\n",
        "        14573.974 , 15228.98  , 15750.97  , 16099.53  , 16171.469 ,\n",
        "        15821.957 , 15006.807 , 13937.271 , 12979.325 , 12599.056 ,\n",
        "        13055.361 , 13894.85  , 14664.059 , 15299.656 , 15800.365 ,\n",
        "        16118.244 , 16142.793 , 15732.737 , 14873.14  , 13802.775 ,\n",
        "        12898.88  , 12627.9   , 13165.118 ]\n",
        "actual=[12575.5 , 11350.65, 12441.25, 13231.9 , 14272.35, 15648.95,\n",
        "        13992.45, 17586.1 , 16536.8 , 15998.6 , 15129.95, 13928.25,\n",
        "        12777.05, 11710.75, 12152.75, 13444.85, 14749.5 , 15832.  ,\n",
        "        15999.4 , 17763.9 , 17180.  , 16055.7 , 14734.8 , 14017.95,\n",
        "        13695.4 , 13463.8 , 13569.8 , 14136.1 , 15401.1 , 15903.6 ,\n",
        "        14758.6 , 16019.8 , 16581.7 , 16149.4 , 15316.7 , 14919.6 ,\n",
        "        12258.8 , 12972.2 , 13182.8 , 14264.3 , 15080.4 , 15530.3 ,\n",
        "        11824.5 , 17010.6 , 17034.3 , 16347.4 , 15226.7 , 14282.1 ]"
      ],
      "execution_count": 0,
      "outputs": []
    },
    {
      "metadata": {
        "id": "yaEW0M6HTODu",
        "colab_type": "code",
        "outputId": "5744b2c7-0272-4620-d4fd-a63c1185dc90",
        "colab": {
          "base_uri": "https://localhost:8080/",
          "height": 269
        }
      },
      "cell_type": "code",
      "source": [
        "pyplot.plot(actual)\n",
        "pyplot.plot(predicted)\n",
        "pyplot.title(\"LSTM's Forecasting\")\n",
        "pyplot.xlabel('Forecasting')\n",
        "pyplot.ylabel('Vegetation')\n",
        "pyplot.show()"
      ],
      "execution_count": 385,
      "outputs": [
        {
          "output_type": "display_data",
          "data": {
            "image/png": "[encoded data removed]",
            "text/plain": [
              "<Figure size 432x288 with 1 Axes>"
            ]
          },
          "metadata": {
            "tags": []
          }
        }
      ]
    },
    {
      "metadata": {
        "id": "48bGcNfmeVHY",
        "colab_type": "code",
        "colab": {}
      },
      "cell_type": "code",
      "source": [
        ""
      ],
      "execution_count": 0,
      "outputs": []
    }
  ]
}