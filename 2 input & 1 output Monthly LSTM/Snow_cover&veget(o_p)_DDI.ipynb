{
  "nbformat": 4,
  "nbformat_minor": 0,
  "metadata": {
    "colab": {
      "name": "Snow cover&veget(o/p) DDI.ipynb",
      "version": "0.3.2",
      "provenance": [],
      "collapsed_sections": []
    },
    "kernelspec": {
      "name": "python3",
      "display_name": "Python 3"
    }
  },
  "cells": [
    {
      "metadata": {
        "id": "-UXGf39gFI34",
        "colab_type": "code",
        "colab": {}
      },
      "cell_type": "code",
      "source": [
        "#https://medium.com/datadriveninvestor/multivariate-time-series-using-rnn-with-keras-7f78f4488679"
      ],
      "execution_count": 0,
      "outputs": []
    },
    {
      "metadata": {
        "id": "e1CLoOq0FUXs",
        "colab_type": "code",
        "colab": {}
      },
      "cell_type": "code",
      "source": [
        "import numpy as np\n",
        "import pandas as pd\n",
        "import matplotlib.pyplot as plt\n",
        "%matplotlib inline\n",
        "weather_data = pd.read_excel(\"/content/dup.xlsx\")"
      ],
      "execution_count": 0,
      "outputs": []
    },
    {
      "metadata": {
        "id": "LBIs3NphGGTG",
        "colab_type": "code",
        "outputId": "865f8589-be7f-4ba9-eca7-11a984a33d6c",
        "colab": {
          "base_uri": "https://localhost:8080/",
          "height": 106
        }
      },
      "cell_type": "code",
      "source": [
        "weather_data.head(2)"
      ],
      "execution_count": 0,
      "outputs": [
        {
          "output_type": "execute_result",
          "data": {
            "text/html": [
              "<div>\n",
              "<style scoped>\n",
              "    .dataframe tbody tr th:only-of-type {\n",
              "        vertical-align: middle;\n",
              "    }\n",
              "\n",
              "    .dataframe tbody tr th {\n",
              "        vertical-align: top;\n",
              "    }\n",
              "\n",
              "    .dataframe thead th {\n",
              "        text-align: right;\n",
              "    }\n",
              "</style>\n",
              "<table border=\"1\" class=\"dataframe\">\n",
              "  <thead>\n",
              "    <tr style=\"text-align: right;\">\n",
              "      <th></th>\n",
              "      <th>Year</th>\n",
              "      <th>Average of Avg. Temperature in Kelvin</th>\n",
              "      <th>Average of SNOW Avg. Number of Pixels</th>\n",
              "      <th>Average of NDVI Avg. Number of pixel</th>\n",
              "    </tr>\n",
              "  </thead>\n",
              "  <tbody>\n",
              "    <tr>\n",
              "      <th>0</th>\n",
              "      <td>2001-01-01</td>\n",
              "      <td>271.344059</td>\n",
              "      <td>6790.325</td>\n",
              "      <td>9418.25</td>\n",
              "    </tr>\n",
              "    <tr>\n",
              "      <th>1</th>\n",
              "      <td>2001-02-01</td>\n",
              "      <td>273.913663</td>\n",
              "      <td>6497.100</td>\n",
              "      <td>12998.90</td>\n",
              "    </tr>\n",
              "  </tbody>\n",
              "</table>\n",
              "</div>"
            ],
            "text/plain": [
              "        Year  Average of Avg. Temperature in Kelvin  \\\n",
              "0 2001-01-01                             271.344059   \n",
              "1 2001-02-01                             273.913663   \n",
              "\n",
              "   Average of SNOW Avg. Number of Pixels  Average of NDVI Avg. Number of pixel  \n",
              "0                               6790.325                               9418.25  \n",
              "1                               6497.100                              12998.90  "
            ]
          },
          "metadata": {
            "tags": []
          },
          "execution_count": 84
        }
      ]
    },
    {
      "metadata": {
        "id": "jYFmD6fKG2D7",
        "colab_type": "code",
        "outputId": "a89eb69b-6082-4dce-fcee-1508b0c03fd0",
        "colab": {
          "base_uri": "https://localhost:8080/",
          "height": 168
        }
      },
      "cell_type": "code",
      "source": [
        "weather_data.info()"
      ],
      "execution_count": 0,
      "outputs": [
        {
          "output_type": "stream",
          "text": [
            "<class 'pandas.core.frame.DataFrame'>\n",
            "RangeIndex: 204 entries, 0 to 203\n",
            "Data columns (total 4 columns):\n",
            "Year                                     204 non-null datetime64[ns]\n",
            "Average of Avg. Temperature in Kelvin    204 non-null float64\n",
            "Average of SNOW Avg. Number of Pixels    204 non-null float64\n",
            "Average of NDVI Avg. Number of pixel     204 non-null float64\n",
            "dtypes: datetime64[ns](1), float64(3)\n",
            "memory usage: 6.5 KB\n"
          ],
          "name": "stdout"
        }
      ]
    },
    {
      "metadata": {
        "id": "jrmuDYxrHGxo",
        "colab_type": "code",
        "colab": {}
      },
      "cell_type": "code",
      "source": [
        "input_feature= weather_data.iloc[:,[2,3]].values\n",
        "input_data = input_feature"
      ],
      "execution_count": 0,
      "outputs": []
    },
    {
      "metadata": {
        "id": "jFW05QDSHHwg",
        "colab_type": "code",
        "outputId": "4272b132-a4e1-4a35-ca03-07300ca2ad30",
        "colab": {
          "base_uri": "https://localhost:8080/",
          "height": 294
        }
      },
      "cell_type": "code",
      "source": [
        "plt.plot(input_feature[:,0])\n",
        "plt.title(\"Snow cover\")\n",
        "plt.xlabel(\"Time (latest-> oldest)\")\n",
        "plt.ylabel(\"Volume of stocks traded\")\n",
        "plt.show()"
      ],
      "execution_count": 0,
      "outputs": [
        {
          "output_type": "display_data",
          "data": {
            "image/png": "[encoded data removed]",
            "text/plain": [
              "<Figure size 432x288 with 1 Axes>"
            ]
          },
          "metadata": {
            "tags": []
          }
        }
      ]
    },
    {
      "metadata": {
        "id": "L8-HAyaRHIXx",
        "colab_type": "code",
        "outputId": "cc36f827-9b55-4ae9-a4d0-0491941e87c1",
        "colab": {
          "base_uri": "https://localhost:8080/",
          "height": 294
        }
      },
      "cell_type": "code",
      "source": [
        "plt.plot(input_feature[:,1], color='blue')\n",
        "plt.title(\"Vegetation\")\n",
        "plt.xlabel(\"Time (latest-> oldest)\")\n",
        "plt.ylabel(\"Stock Opening Price\")\n",
        "plt.show()"
      ],
      "execution_count": 0,
      "outputs": [
        {
          "output_type": "display_data",
          "data": {
            "image/png": "[encoded data removed]",
            "text/plain": [
              "<Figure size 432x288 with 1 Axes>"
            ]
          },
          "metadata": {
            "tags": []
          }
        }
      ]
    },
    {
      "metadata": {
        "id": "9oYXI2gjHI_p",
        "colab_type": "code",
        "colab": {}
      },
      "cell_type": "code",
      "source": [
        "from sklearn.preprocessing import MinMaxScaler\n",
        "sc= MinMaxScaler(feature_range=(0,1))\n",
        "input_data[:,0:2] = sc.fit_transform(input_feature[:,:])"
      ],
      "execution_count": 0,
      "outputs": []
    },
    {
      "metadata": {
        "id": "Uy_0R7yrHJxp",
        "colab_type": "code",
        "colab": {}
      },
      "cell_type": "code",
      "source": [
        "lookback= 60\n",
        "test_size=int(.3 * len(weather_data))\n",
        "X=[]\n",
        "y=[]\n",
        "for i in range(0, len(weather_data)-lookback):\n",
        "    t=[]\n",
        "    for j in range(0,lookback):\n",
        "        \n",
        "        t.append(input_data[[(i+j)], :])\n",
        "    X.append(t)\n",
        "    y.append(input_data[i,1])"
      ],
      "execution_count": 0,
      "outputs": []
    },
    {
      "metadata": {
        "id": "4xXEL05fHKg5",
        "colab_type": "code",
        "outputId": "2486fa04-8845-455d-d390-c0bfed4807e4",
        "colab": {
          "base_uri": "https://localhost:8080/",
          "height": 50
        }
      },
      "cell_type": "code",
      "source": [
        "X, y= np.array(X), np.array(y)\n",
        "X_test = X[:test_size]\n",
        "\n",
        "X = X.reshape(X.shape[0],lookback, 2)\n",
        "X_test = X_test.reshape(X_test.shape[0],lookback, 2)\n",
        "print(X.shape)\n",
        "print(X_test.shape)"
      ],
      "execution_count": 0,
      "outputs": [
        {
          "output_type": "stream",
          "text": [
            "(144, 60, 2)\n",
            "(61, 60, 2)\n"
          ],
          "name": "stdout"
        }
      ]
    },
    {
      "metadata": {
        "id": "V_RtsmpmKaeA",
        "colab_type": "code",
        "colab": {}
      },
      "cell_type": "code",
      "source": [
        "from keras import Sequential\n",
        "from keras.layers import Dense, LSTM"
      ],
      "execution_count": 0,
      "outputs": []
    },
    {
      "metadata": {
        "id": "h91UQk6sKfLl",
        "colab_type": "code",
        "outputId": "72582008-5c7b-443d-87d7-5c71b7173035",
        "colab": {
          "base_uri": "https://localhost:8080/",
          "height": 269
        }
      },
      "cell_type": "code",
      "source": [
        "model = Sequential()\n",
        "model.add(LSTM(units=105, return_sequences= True, input_shape=(X.shape[1],2)))\n",
        "model.add(LSTM(units=105, return_sequences=True))\n",
        "model.add(LSTM(units=105))\n",
        "model.add(Dense(units=1))\n",
        "model.summary()"
      ],
      "execution_count": 0,
      "outputs": [
        {
          "output_type": "stream",
          "text": [
            "_________________________________________________________________\n",
            "Layer (type)                 Output Shape              Param #   \n",
            "=================================================================\n",
            "lstm_13 (LSTM)               (None, 60, 105)           45360     \n",
            "_________________________________________________________________\n",
            "lstm_14 (LSTM)               (None, 60, 105)           88620     \n",
            "_________________________________________________________________\n",
            "lstm_15 (LSTM)               (None, 105)               88620     \n",
            "_________________________________________________________________\n",
            "dense_5 (Dense)              (None, 1)                 106       \n",
            "=================================================================\n",
            "Total params: 222,706\n",
            "Trainable params: 222,706\n",
            "Non-trainable params: 0\n",
            "_________________________________________________________________\n"
          ],
          "name": "stdout"
        }
      ]
    },
    {
      "metadata": {
        "id": "6iUdvvZiKkz5",
        "colab_type": "code",
        "colab": {}
      },
      "cell_type": "code",
      "source": [
        "model.compile(optimizer='adam', loss='mean_squared_error')\n"
      ],
      "execution_count": 0,
      "outputs": []
    },
    {
      "metadata": {
        "id": "OqITyQp0Kox1",
        "colab_type": "code",
        "outputId": "7c525cee-fde4-455d-c08c-916be9e5d324",
        "colab": {
          "base_uri": "https://localhost:8080/",
          "height": 3394
        }
      },
      "cell_type": "code",
      "source": [
        "model.fit(X, y, epochs=100, batch_size=32)\n"
      ],
      "execution_count": 0,
      "outputs": [
        {
          "output_type": "stream",
          "text": [
            "Epoch 1/100\n",
            "144/144 [==============================] - 5s 32ms/step - loss: 0.1078\n",
            "Epoch 2/100\n",
            "144/144 [==============================] - 1s 7ms/step - loss: 0.0273\n",
            "Epoch 3/100\n",
            "144/144 [==============================] - 1s 7ms/step - loss: 0.0250\n",
            "Epoch 4/100\n",
            "144/144 [==============================] - 1s 6ms/step - loss: 0.0209\n",
            "Epoch 5/100\n",
            "144/144 [==============================] - 1s 6ms/step - loss: 0.0189\n",
            "Epoch 6/100\n",
            "144/144 [==============================] - 1s 6ms/step - loss: 0.0179\n",
            "Epoch 7/100\n",
            "144/144 [==============================] - 1s 7ms/step - loss: 0.0168\n",
            "Epoch 8/100\n",
            "144/144 [==============================] - 1s 7ms/step - loss: 0.0161\n",
            "Epoch 9/100\n",
            "144/144 [==============================] - 1s 6ms/step - loss: 0.0152\n",
            "Epoch 10/100\n",
            "144/144 [==============================] - 1s 6ms/step - loss: 0.0148\n",
            "Epoch 11/100\n",
            "144/144 [==============================] - 1s 6ms/step - loss: 0.0143\n",
            "Epoch 12/100\n",
            "144/144 [==============================] - 1s 6ms/step - loss: 0.0132\n",
            "Epoch 13/100\n",
            "144/144 [==============================] - 1s 6ms/step - loss: 0.0123\n",
            "Epoch 14/100\n",
            "144/144 [==============================] - 1s 6ms/step - loss: 0.0118\n",
            "Epoch 15/100\n",
            "144/144 [==============================] - 1s 6ms/step - loss: 0.0106\n",
            "Epoch 16/100\n",
            "144/144 [==============================] - 1s 6ms/step - loss: 0.0099\n",
            "Epoch 17/100\n",
            "144/144 [==============================] - 1s 6ms/step - loss: 0.0097\n",
            "Epoch 18/100\n",
            "144/144 [==============================] - 1s 6ms/step - loss: 0.0097\n",
            "Epoch 19/100\n",
            "144/144 [==============================] - 1s 6ms/step - loss: 0.0093\n",
            "Epoch 20/100\n",
            "144/144 [==============================] - 1s 6ms/step - loss: 0.0090\n",
            "Epoch 21/100\n",
            "144/144 [==============================] - 1s 6ms/step - loss: 0.0088\n",
            "Epoch 22/100\n",
            "144/144 [==============================] - 1s 6ms/step - loss: 0.0088\n",
            "Epoch 23/100\n",
            "144/144 [==============================] - 1s 6ms/step - loss: 0.0089\n",
            "Epoch 24/100\n",
            "144/144 [==============================] - 1s 6ms/step - loss: 0.0083\n",
            "Epoch 25/100\n",
            "144/144 [==============================] - 1s 6ms/step - loss: 0.0083\n",
            "Epoch 26/100\n",
            "144/144 [==============================] - 1s 6ms/step - loss: 0.0082\n",
            "Epoch 27/100\n",
            "144/144 [==============================] - 1s 6ms/step - loss: 0.0082\n",
            "Epoch 28/100\n",
            "144/144 [==============================] - 1s 6ms/step - loss: 0.0081\n",
            "Epoch 29/100\n",
            "144/144 [==============================] - 1s 6ms/step - loss: 0.0080\n",
            "Epoch 30/100\n",
            "144/144 [==============================] - 1s 7ms/step - loss: 0.0078\n",
            "Epoch 31/100\n",
            "144/144 [==============================] - 1s 7ms/step - loss: 0.0078\n",
            "Epoch 32/100\n",
            "144/144 [==============================] - 1s 6ms/step - loss: 0.0076\n",
            "Epoch 33/100\n",
            "144/144 [==============================] - 1s 6ms/step - loss: 0.0076\n",
            "Epoch 34/100\n",
            "144/144 [==============================] - 1s 6ms/step - loss: 0.0075\n",
            "Epoch 35/100\n",
            "144/144 [==============================] - 1s 6ms/step - loss: 0.0075\n",
            "Epoch 36/100\n",
            "144/144 [==============================] - 1s 6ms/step - loss: 0.0076\n",
            "Epoch 37/100\n",
            "144/144 [==============================] - 1s 6ms/step - loss: 0.0078\n",
            "Epoch 38/100\n",
            "144/144 [==============================] - 1s 6ms/step - loss: 0.0074\n",
            "Epoch 39/100\n",
            "144/144 [==============================] - 1s 7ms/step - loss: 0.0075\n",
            "Epoch 40/100\n",
            "144/144 [==============================] - 1s 6ms/step - loss: 0.0075\n",
            "Epoch 41/100\n",
            "144/144 [==============================] - 1s 6ms/step - loss: 0.0079\n",
            "Epoch 42/100\n",
            "144/144 [==============================] - 1s 7ms/step - loss: 0.0074\n",
            "Epoch 43/100\n",
            "144/144 [==============================] - 1s 6ms/step - loss: 0.0076\n",
            "Epoch 44/100\n",
            "144/144 [==============================] - 1s 6ms/step - loss: 0.0076\n",
            "Epoch 45/100\n",
            "144/144 [==============================] - 1s 6ms/step - loss: 0.0075\n",
            "Epoch 46/100\n",
            "144/144 [==============================] - 1s 6ms/step - loss: 0.0073\n",
            "Epoch 47/100\n",
            "144/144 [==============================] - 1s 6ms/step - loss: 0.0073\n",
            "Epoch 48/100\n",
            "144/144 [==============================] - 1s 6ms/step - loss: 0.0076\n",
            "Epoch 49/100\n",
            "144/144 [==============================] - 1s 6ms/step - loss: 0.0072\n",
            "Epoch 50/100\n",
            "144/144 [==============================] - 1s 6ms/step - loss: 0.0070\n",
            "Epoch 51/100\n",
            "144/144 [==============================] - 1s 6ms/step - loss: 0.0074\n",
            "Epoch 52/100\n",
            "144/144 [==============================] - 1s 7ms/step - loss: 0.0072\n",
            "Epoch 53/100\n",
            "144/144 [==============================] - 1s 7ms/step - loss: 0.0075\n",
            "Epoch 54/100\n",
            "144/144 [==============================] - 1s 6ms/step - loss: 0.0072\n",
            "Epoch 55/100\n",
            "144/144 [==============================] - 1s 6ms/step - loss: 0.0071\n",
            "Epoch 56/100\n",
            "144/144 [==============================] - 1s 6ms/step - loss: 0.0070\n",
            "Epoch 57/100\n",
            "144/144 [==============================] - 1s 6ms/step - loss: 0.0069\n",
            "Epoch 58/100\n",
            "144/144 [==============================] - 1s 7ms/step - loss: 0.0073\n",
            "Epoch 59/100\n",
            "144/144 [==============================] - 1s 7ms/step - loss: 0.0075\n",
            "Epoch 60/100\n",
            "144/144 [==============================] - 1s 6ms/step - loss: 0.0074\n",
            "Epoch 61/100\n",
            "144/144 [==============================] - 1s 6ms/step - loss: 0.0074\n",
            "Epoch 62/100\n",
            "144/144 [==============================] - 1s 6ms/step - loss: 0.0076\n",
            "Epoch 63/100\n",
            "144/144 [==============================] - 1s 6ms/step - loss: 0.0070\n",
            "Epoch 64/100\n",
            "144/144 [==============================] - 1s 6ms/step - loss: 0.0069\n",
            "Epoch 65/100\n",
            "144/144 [==============================] - 1s 7ms/step - loss: 0.0069\n",
            "Epoch 66/100\n",
            "144/144 [==============================] - 1s 7ms/step - loss: 0.0069\n",
            "Epoch 67/100\n",
            "144/144 [==============================] - 1s 7ms/step - loss: 0.0071\n",
            "Epoch 68/100\n",
            "144/144 [==============================] - 1s 7ms/step - loss: 0.0067\n",
            "Epoch 69/100\n",
            "144/144 [==============================] - 1s 6ms/step - loss: 0.0071\n",
            "Epoch 70/100\n",
            "144/144 [==============================] - 1s 6ms/step - loss: 0.0072\n",
            "Epoch 71/100\n",
            "144/144 [==============================] - 1s 6ms/step - loss: 0.0068\n",
            "Epoch 72/100\n",
            "144/144 [==============================] - 1s 6ms/step - loss: 0.0074\n",
            "Epoch 73/100\n",
            "144/144 [==============================] - 1s 6ms/step - loss: 0.0068\n",
            "Epoch 74/100\n",
            "144/144 [==============================] - 1s 6ms/step - loss: 0.0071\n",
            "Epoch 75/100\n",
            "144/144 [==============================] - 1s 6ms/step - loss: 0.0070\n",
            "Epoch 76/100\n",
            "144/144 [==============================] - 1s 6ms/step - loss: 0.0083\n",
            "Epoch 77/100\n",
            "144/144 [==============================] - 1s 6ms/step - loss: 0.0069\n",
            "Epoch 78/100\n",
            "144/144 [==============================] - 1s 6ms/step - loss: 0.0068\n",
            "Epoch 79/100\n",
            "144/144 [==============================] - 1s 6ms/step - loss: 0.0071\n",
            "Epoch 80/100\n",
            "144/144 [==============================] - 1s 6ms/step - loss: 0.0073\n",
            "Epoch 81/100\n",
            "144/144 [==============================] - 1s 6ms/step - loss: 0.0072\n",
            "Epoch 82/100\n",
            "144/144 [==============================] - 1s 7ms/step - loss: 0.0071\n",
            "Epoch 83/100\n",
            "144/144 [==============================] - 1s 6ms/step - loss: 0.0068\n",
            "Epoch 84/100\n",
            "144/144 [==============================] - 1s 6ms/step - loss: 0.0067\n",
            "Epoch 85/100\n",
            "144/144 [==============================] - 1s 6ms/step - loss: 0.0070\n",
            "Epoch 86/100\n",
            "144/144 [==============================] - 1s 6ms/step - loss: 0.0064\n",
            "Epoch 87/100\n",
            "144/144 [==============================] - 1s 6ms/step - loss: 0.0068\n",
            "Epoch 88/100\n",
            "144/144 [==============================] - 1s 6ms/step - loss: 0.0074\n",
            "Epoch 89/100\n",
            "144/144 [==============================] - 1s 6ms/step - loss: 0.0074\n",
            "Epoch 90/100\n",
            "144/144 [==============================] - 1s 6ms/step - loss: 0.0077\n",
            "Epoch 91/100\n",
            "144/144 [==============================] - 1s 6ms/step - loss: 0.0074\n",
            "Epoch 92/100\n",
            "144/144 [==============================] - 1s 6ms/step - loss: 0.0068\n",
            "Epoch 93/100\n",
            "144/144 [==============================] - 1s 6ms/step - loss: 0.0066\n",
            "Epoch 94/100\n",
            "144/144 [==============================] - 1s 6ms/step - loss: 0.0070\n",
            "Epoch 95/100\n",
            "144/144 [==============================] - 1s 6ms/step - loss: 0.0065\n",
            "Epoch 96/100\n",
            "144/144 [==============================] - 1s 6ms/step - loss: 0.0066\n",
            "Epoch 97/100\n",
            "144/144 [==============================] - 1s 6ms/step - loss: 0.0066\n",
            "Epoch 98/100\n",
            "144/144 [==============================] - 1s 6ms/step - loss: 0.0066\n",
            "Epoch 99/100\n",
            "144/144 [==============================] - 1s 6ms/step - loss: 0.0072\n",
            "Epoch 100/100\n",
            "144/144 [==============================] - 1s 6ms/step - loss: 0.0065\n"
          ],
          "name": "stdout"
        },
        {
          "output_type": "execute_result",
          "data": {
            "text/plain": [
              "<keras.callbacks.History at 0x7efbde1feef0>"
            ]
          },
          "metadata": {
            "tags": []
          },
          "execution_count": 95
        }
      ]
    },
    {
      "metadata": {
        "id": "qwcyiSfRKqvW",
        "colab_type": "code",
        "colab": {}
      },
      "cell_type": "code",
      "source": [
        "predicted_value= model.predict(X_test)\n"
      ],
      "execution_count": 0,
      "outputs": []
    },
    {
      "metadata": {
        "id": "C9lKUAVJKwqe",
        "colab_type": "code",
        "outputId": "06c0f99a-ec90-43c6-f70a-b11d580a8cc4",
        "colab": {
          "base_uri": "https://localhost:8080/",
          "height": 294
        }
      },
      "cell_type": "code",
      "source": [
        "plt.plot(predicted_value, color= 'red')\n",
        "plt.plot(input_data[:61,1], color='green')\n",
        "plt.title(\"Snow cover&vegetation\")\n",
        "plt.xlabel(\"Time (latest-> oldest)\")\n",
        "plt.ylabel(\"Vegetation\")\n",
        "plt.show()"
      ],
      "execution_count": 0,
      "outputs": [
        {
          "output_type": "display_data",
          "data": {
            "image/png": "[encoded data removed]",
            "text/plain": [
              "<Figure size 432x288 with 1 Axes>"
            ]
          },
          "metadata": {
            "tags": []
          }
        }
      ]
    },
    {
      "metadata": {
        "id": "t57qpPETOtTO",
        "colab_type": "code",
        "outputId": "3c7477a2-d09c-448b-dcea-4b0101bc19c2",
        "colab": {
          "base_uri": "https://localhost:8080/",
          "height": 235
        }
      },
      "cell_type": "code",
      "source": [
        "input_data[:61,1]"
      ],
      "execution_count": 0,
      "outputs": [
        {
          "output_type": "execute_result",
          "data": {
            "text/plain": [
              "array([0.        , 0.31055972, 0.28884616, 0.37619041, 0.50092949,\n",
              "       0.43019457, 0.54536702, 0.5586328 , 0.62746393, 0.54810778,\n",
              "       0.4494796 , 0.36767759, 1.        , 0.16416346, 0.311375  ,\n",
              "       0.35556102, 0.46381219, 0.56790454, 0.61119286, 0.57554569,\n",
              "       0.57454827, 0.56002053, 0.49594669, 0.43771864, 0.39954321,\n",
              "       0.21723525, 0.29478302, 0.36392639, 0.42514672, 0.51259504,\n",
              "       0.55668131, 0.56234496, 0.55874555, 0.58699008, 0.47959756,\n",
              "       0.37614704, 0.24705398, 0.26256613, 0.3829599 , 0.40232299,\n",
              "       0.4982321 , 0.57874613, 0.57001214, 0.56652548, 0.62754199,\n",
              "       0.46149209, 0.4517043 , 0.40680708, 0.21521871, 0.13617913,\n",
              "       0.2834644 , 0.34697013, 0.42555003, 0.45469658, 0.51667582,\n",
              "       0.64396918, 0.66313279, 0.58321287, 0.50834948, 0.46275839,\n",
              "       0.26249675])"
            ]
          },
          "metadata": {
            "tags": []
          },
          "execution_count": 98
        }
      ]
    },
    {
      "metadata": {
        "id": "_-t5Tq0raMS_",
        "colab_type": "code",
        "outputId": "62bce676-ebb3-4029-f670-1795b9e5688c",
        "colab": {
          "base_uri": "https://localhost:8080/",
          "height": 1042
        }
      },
      "cell_type": "code",
      "source": [
        "predicted_value"
      ],
      "execution_count": 0,
      "outputs": [
        {
          "output_type": "execute_result",
          "data": {
            "text/plain": [
              "array([[0.17263453],\n",
              "       [0.18491867],\n",
              "       [0.27916566],\n",
              "       [0.38996282],\n",
              "       [0.47987255],\n",
              "       [0.5378948 ],\n",
              "       [0.56880146],\n",
              "       [0.58304596],\n",
              "       [0.5887629 ],\n",
              "       [0.5841954 ],\n",
              "       [0.55409104],\n",
              "       [0.4877762 ],\n",
              "       [0.40942556],\n",
              "       [0.3622183 ],\n",
              "       [0.36588332],\n",
              "       [0.40568626],\n",
              "       [0.45659813],\n",
              "       [0.50304306],\n",
              "       [0.54028964],\n",
              "       [0.56721133],\n",
              "       [0.5772237 ],\n",
              "       [0.55250865],\n",
              "       [0.47642383],\n",
              "       [0.36343098],\n",
              "       [0.27090868],\n",
              "       [0.2517074 ],\n",
              "       [0.30160114],\n",
              "       [0.37835154],\n",
              "       [0.4503909 ],\n",
              "       [0.5052562 ],\n",
              "       [0.5432534 ],\n",
              "       [0.5688642 ],\n",
              "       [0.58051354],\n",
              "       [0.5625333 ],\n",
              "       [0.4948428 ],\n",
              "       [0.38606718],\n",
              "       [0.2909996 ],\n",
              "       [0.26578787],\n",
              "       [0.3086428 ],\n",
              "       [0.38197336],\n",
              "       [0.4535168 ],\n",
              "       [0.50945514],\n",
              "       [0.54968584],\n",
              "       [0.5782343 ],\n",
              "       [0.5937489 ],\n",
              "       [0.5801679 ],\n",
              "       [0.51423764],\n",
              "       [0.40277576],\n",
              "       [0.30513537],\n",
              "       [0.28179273],\n",
              "       [0.33016735],\n",
              "       [0.40652582],\n",
              "       [0.47710258],\n",
              "       [0.5300546 ],\n",
              "       [0.56706196],\n",
              "       [0.5932749 ],\n",
              "       [0.608047  ],\n",
              "       [0.59565085],\n",
              "       [0.53115857],\n",
              "       [0.41689542],\n",
              "       [0.3079689 ]], dtype=float32)"
            ]
          },
          "metadata": {
            "tags": []
          },
          "execution_count": 99
        }
      ]
    },
    {
      "metadata": {
        "id": "gv-V6atqekSY",
        "colab_type": "code",
        "outputId": "937fc106-4787-44dc-b331-e135878652d5",
        "colab": {
          "base_uri": "https://localhost:8080/",
          "height": 34
        }
      },
      "cell_type": "code",
      "source": [
        "import sklearn\n",
        "from sklearn import metrics\n",
        "sklearn.metrics.r2_score(input_data[:61,1], predicted_value, sample_weight=None, multioutput='uniform_average')"
      ],
      "execution_count": 0,
      "outputs": [
        {
          "output_type": "execute_result",
          "data": {
            "text/plain": [
              "0.5889575764193559"
            ]
          },
          "metadata": {
            "tags": []
          },
          "execution_count": 100
        }
      ]
    },
    {
      "metadata": {
        "id": "njeN5br644bz",
        "colab_type": "code",
        "outputId": "0c8d7aed-f1a9-449b-9290-7621e0d7d7a9",
        "colab": {
          "base_uri": "https://localhost:8080/",
          "height": 282
        }
      },
      "cell_type": "code",
      "source": [
        "plt.scatter(input_data[:61,1],predicted_value)"
      ],
      "execution_count": 0,
      "outputs": [
        {
          "output_type": "execute_result",
          "data": {
            "text/plain": [
              "<matplotlib.collections.PathCollection at 0x7efbdc31bda0>"
            ]
          },
          "metadata": {
            "tags": []
          },
          "execution_count": 101
        },
        {
          "output_type": "display_data",
          "data": {
            "image/png": "[encoded data removed]",
            "text/plain": [
              "<Figure size 432x288 with 1 Axes>"
            ]
          },
          "metadata": {
            "tags": []
          }
        }
      ]
    },
    {
      "metadata": {
        "id": "PZ1smZHGvNRu",
        "colab_type": "code",
        "colab": {}
      },
      "cell_type": "code",
      "source": [
        ""
      ],
      "execution_count": 0,
      "outputs": []
    },
    {
      "metadata": {
        "id": "fCpfjzGRvOAD",
        "colab_type": "code",
        "colab": {}
      },
      "cell_type": "code",
      "source": [
        ""
      ],
      "execution_count": 0,
      "outputs": []
    },
    {
      "metadata": {
        "id": "OuJt-dpOvOVY",
        "colab_type": "code",
        "colab": {}
      },
      "cell_type": "code",
      "source": [
        ""
      ],
      "execution_count": 0,
      "outputs": []
    }
  ]
}