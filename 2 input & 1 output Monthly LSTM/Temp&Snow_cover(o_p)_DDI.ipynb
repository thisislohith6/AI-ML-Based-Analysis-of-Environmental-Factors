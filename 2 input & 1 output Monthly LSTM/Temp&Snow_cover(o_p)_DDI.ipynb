{
  "nbformat": 4,
  "nbformat_minor": 0,
  "metadata": {
    "colab": {
      "name": "Temp&Snow cover(o/p) DDI.ipynb",
      "version": "0.3.2",
      "provenance": []
    },
    "kernelspec": {
      "name": "python3",
      "display_name": "Python 3"
    }
  },
  "cells": [
    {
      "metadata": {
        "id": "-UXGf39gFI34",
        "colab_type": "code",
        "colab": {}
      },
      "cell_type": "code",
      "source": [
        "#https://medium.com/datadriveninvestor/multivariate-time-series-using-rnn-with-keras-7f78f4488679"
      ],
      "execution_count": 0,
      "outputs": []
    },
    {
      "metadata": {
        "id": "e1CLoOq0FUXs",
        "colab_type": "code",
        "colab": {}
      },
      "cell_type": "code",
      "source": [
        "import numpy as np\n",
        "import pandas as pd\n",
        "import matplotlib.pyplot as plt\n",
        "%matplotlib inline\n",
        "weather_data = pd.read_csv(\"/content/weather with dates.csv\")"
      ],
      "execution_count": 0,
      "outputs": []
    },
    {
      "metadata": {
        "id": "LBIs3NphGGTG",
        "colab_type": "code",
        "outputId": "a6e55cae-c8cb-4f73-8d5c-9322bc886b99",
        "colab": {
          "base_uri": "https://localhost:8080/",
          "height": 106
        }
      },
      "cell_type": "code",
      "source": [
        "weather_data.head(2)"
      ],
      "execution_count": 5,
      "outputs": [
        {
          "output_type": "execute_result",
          "data": {
            "text/html": [
              "<div>\n",
              "<style scoped>\n",
              "    .dataframe tbody tr th:only-of-type {\n",
              "        vertical-align: middle;\n",
              "    }\n",
              "\n",
              "    .dataframe tbody tr th {\n",
              "        vertical-align: top;\n",
              "    }\n",
              "\n",
              "    .dataframe thead th {\n",
              "        text-align: right;\n",
              "    }\n",
              "</style>\n",
              "<table border=\"1\" class=\"dataframe\">\n",
              "  <thead>\n",
              "    <tr style=\"text-align: right;\">\n",
              "      <th></th>\n",
              "      <th>Year</th>\n",
              "      <th>Average of Avg. Temperature in Kelvin</th>\n",
              "      <th>Average of NDVI Avg. Number of pixel</th>\n",
              "      <th>Average of SNOW Avg. Number of Pixels</th>\n",
              "    </tr>\n",
              "  </thead>\n",
              "  <tbody>\n",
              "    <tr>\n",
              "      <th>0</th>\n",
              "      <td>01-01-2001</td>\n",
              "      <td>271.344059</td>\n",
              "      <td>9418.25</td>\n",
              "      <td>6790.325</td>\n",
              "    </tr>\n",
              "    <tr>\n",
              "      <th>1</th>\n",
              "      <td>01-02-2001</td>\n",
              "      <td>273.913663</td>\n",
              "      <td>12998.90</td>\n",
              "      <td>6497.100</td>\n",
              "    </tr>\n",
              "  </tbody>\n",
              "</table>\n",
              "</div>"
            ],
            "text/plain": [
              "         Year  Average of Avg. Temperature in Kelvin  \\\n",
              "0  01-01-2001                             271.344059   \n",
              "1  01-02-2001                             273.913663   \n",
              "\n",
              "   Average of NDVI Avg. Number of pixel  Average of SNOW Avg. Number of Pixels  \n",
              "0                               9418.25                               6790.325  \n",
              "1                              12998.90                               6497.100  "
            ]
          },
          "metadata": {
            "tags": []
          },
          "execution_count": 5
        }
      ]
    },
    {
      "metadata": {
        "id": "jYFmD6fKG2D7",
        "colab_type": "code",
        "outputId": "3a94f41a-91a2-40e9-da7f-53caafee2137",
        "colab": {
          "base_uri": "https://localhost:8080/",
          "height": 168
        }
      },
      "cell_type": "code",
      "source": [
        "weather_data.info()"
      ],
      "execution_count": 6,
      "outputs": [
        {
          "output_type": "stream",
          "text": [
            "<class 'pandas.core.frame.DataFrame'>\n",
            "RangeIndex: 204 entries, 0 to 203\n",
            "Data columns (total 4 columns):\n",
            "Year                                     204 non-null object\n",
            "Average of Avg. Temperature in Kelvin    204 non-null float64\n",
            "Average of NDVI Avg. Number of pixel     204 non-null float64\n",
            "Average of SNOW Avg. Number of Pixels    204 non-null float64\n",
            "dtypes: float64(3), object(1)\n",
            "memory usage: 6.5+ KB\n"
          ],
          "name": "stdout"
        }
      ]
    },
    {
      "metadata": {
        "id": "jrmuDYxrHGxo",
        "colab_type": "code",
        "colab": {}
      },
      "cell_type": "code",
      "source": [
        "input_feature= weather_data.iloc[:,[1,3]].values\n",
        "input_data = input_feature"
      ],
      "execution_count": 0,
      "outputs": []
    },
    {
      "metadata": {
        "id": "jFW05QDSHHwg",
        "colab_type": "code",
        "outputId": "0871ae74-ff60-497f-ffad-e14a66db812e",
        "colab": {
          "base_uri": "https://localhost:8080/",
          "height": 295
        }
      },
      "cell_type": "code",
      "source": [
        "plt.plot(input_feature[:,0])\n",
        "plt.title(\"Temperature\")\n",
        "plt.xlabel(\"Time (latest-> oldest)\")\n",
        "plt.ylabel(\"Volume of stocks traded\")\n",
        "plt.show()"
      ],
      "execution_count": 8,
      "outputs": [
        {
          "output_type": "display_data",
          "data": {
            "image/png": "[encoded data removed]",
            "text/plain": [
              "<Figure size 432x288 with 1 Axes>"
            ]
          },
          "metadata": {
            "tags": []
          }
        }
      ]
    },
    {
      "metadata": {
        "id": "L8-HAyaRHIXx",
        "colab_type": "code",
        "outputId": "26a735bf-34b6-4ebc-e6b2-6288dd47fca6",
        "colab": {
          "base_uri": "https://localhost:8080/",
          "height": 295
        }
      },
      "cell_type": "code",
      "source": [
        "plt.plot(input_feature[:,1], color='blue')\n",
        "plt.title(\"Snow\")\n",
        "plt.xlabel(\"Time (latest-> oldest)\")\n",
        "plt.ylabel(\"Stock Opening Price\")\n",
        "plt.show()"
      ],
      "execution_count": 9,
      "outputs": [
        {
          "output_type": "display_data",
          "data": {
            "image/png": "[encoded data removed]",
            "text/plain": [
              "<Figure size 432x288 with 1 Axes>"
            ]
          },
          "metadata": {
            "tags": []
          }
        }
      ]
    },
    {
      "metadata": {
        "id": "9oYXI2gjHI_p",
        "colab_type": "code",
        "colab": {}
      },
      "cell_type": "code",
      "source": [
        "from sklearn.preprocessing import MinMaxScaler\n",
        "sc= MinMaxScaler(feature_range=(0,1))\n",
        "input_data[:,0:2] = sc.fit_transform(input_feature[:,:])"
      ],
      "execution_count": 0,
      "outputs": []
    },
    {
      "metadata": {
        "id": "Uy_0R7yrHJxp",
        "colab_type": "code",
        "colab": {}
      },
      "cell_type": "code",
      "source": [
        "lookback= 60\n",
        "test_size=int(.3 * len(weather_data))\n",
        "X=[]\n",
        "y=[]\n",
        "for i in range(0, len(weather_data)-lookback):\n",
        "    t=[]\n",
        "    for j in range(0,lookback):\n",
        "        \n",
        "        t.append(input_data[[(i+j)], :])\n",
        "    X.append(t)\n",
        "    y.append(input_data[i,1])"
      ],
      "execution_count": 0,
      "outputs": []
    },
    {
      "metadata": {
        "id": "4xXEL05fHKg5",
        "colab_type": "code",
        "outputId": "b948cc7c-08a2-4e39-eae2-0d356f64782b",
        "colab": {
          "base_uri": "https://localhost:8080/",
          "height": 50
        }
      },
      "cell_type": "code",
      "source": [
        "X, y= np.array(X), np.array(y)\n",
        "X_test = X[:test_size]\n",
        "\n",
        "X = X.reshape(X.shape[0],lookback, 2)\n",
        "X_test = X_test.reshape(X_test.shape[0],lookback, 2)\n",
        "print(X.shape)\n",
        "print(X_test.shape)"
      ],
      "execution_count": 12,
      "outputs": [
        {
          "output_type": "stream",
          "text": [
            "(144, 60, 2)\n",
            "(61, 60, 2)\n"
          ],
          "name": "stdout"
        }
      ]
    },
    {
      "metadata": {
        "id": "V_RtsmpmKaeA",
        "colab_type": "code",
        "colab": {
          "base_uri": "https://localhost:8080/",
          "height": 34
        },
        "outputId": "7d6815e6-0d3a-4481-a059-4ef260c54404"
      },
      "cell_type": "code",
      "source": [
        "from keras import Sequential\n",
        "from keras.layers import Dense, LSTM"
      ],
      "execution_count": 13,
      "outputs": [
        {
          "output_type": "stream",
          "text": [
            "Using TensorFlow backend.\n"
          ],
          "name": "stderr"
        }
      ]
    },
    {
      "metadata": {
        "id": "h91UQk6sKfLl",
        "colab_type": "code",
        "outputId": "5efb2e24-326e-4569-a6d1-580ccea8d77d",
        "colab": {
          "base_uri": "https://localhost:8080/",
          "height": 339
        }
      },
      "cell_type": "code",
      "source": [
        "model = Sequential()\n",
        "model.add(LSTM(units=30, return_sequences= True, input_shape=(X.shape[1],2)))\n",
        "model.add(LSTM(units=30, return_sequences=True))\n",
        "model.add(LSTM(units=30))\n",
        "model.add(Dense(units=1))\n",
        "model.summary()"
      ],
      "execution_count": 14,
      "outputs": [
        {
          "output_type": "stream",
          "text": [
            "WARNING:tensorflow:From /usr/local/lib/python3.6/dist-packages/tensorflow/python/framework/op_def_library.py:263: colocate_with (from tensorflow.python.framework.ops) is deprecated and will be removed in a future version.\n",
            "Instructions for updating:\n",
            "Colocations handled automatically by placer.\n",
            "_________________________________________________________________\n",
            "Layer (type)                 Output Shape              Param #   \n",
            "=================================================================\n",
            "lstm_1 (LSTM)                (None, 60, 30)            3960      \n",
            "_________________________________________________________________\n",
            "lstm_2 (LSTM)                (None, 60, 30)            7320      \n",
            "_________________________________________________________________\n",
            "lstm_3 (LSTM)                (None, 30)                7320      \n",
            "_________________________________________________________________\n",
            "dense_1 (Dense)              (None, 1)                 31        \n",
            "=================================================================\n",
            "Total params: 18,631\n",
            "Trainable params: 18,631\n",
            "Non-trainable params: 0\n",
            "_________________________________________________________________\n"
          ],
          "name": "stdout"
        }
      ]
    },
    {
      "metadata": {
        "id": "6iUdvvZiKkz5",
        "colab_type": "code",
        "colab": {}
      },
      "cell_type": "code",
      "source": [
        "model.compile(optimizer='adam', loss='mean_squared_error')\n"
      ],
      "execution_count": 0,
      "outputs": []
    },
    {
      "metadata": {
        "id": "OqITyQp0Kox1",
        "colab_type": "code",
        "outputId": "5683efcd-f7d1-4fa4-f9a0-e0affd56a133",
        "colab": {
          "base_uri": "https://localhost:8080/",
          "height": 3464
        }
      },
      "cell_type": "code",
      "source": [
        "model.fit(X, y, epochs=100, batch_size=32)\n"
      ],
      "execution_count": 16,
      "outputs": [
        {
          "output_type": "stream",
          "text": [
            "WARNING:tensorflow:From /usr/local/lib/python3.6/dist-packages/tensorflow/python/ops/math_ops.py:3066: to_int32 (from tensorflow.python.ops.math_ops) is deprecated and will be removed in a future version.\n",
            "Instructions for updating:\n",
            "Use tf.cast instead.\n",
            "Epoch 1/100\n",
            "144/144 [==============================] - 2s 13ms/step - loss: 0.2886\n",
            "Epoch 2/100\n",
            "144/144 [==============================] - 0s 3ms/step - loss: 0.1368\n",
            "Epoch 3/100\n",
            "144/144 [==============================] - 0s 3ms/step - loss: 0.0958\n",
            "Epoch 4/100\n",
            "144/144 [==============================] - 0s 3ms/step - loss: 0.0893\n",
            "Epoch 5/100\n",
            "144/144 [==============================] - 0s 3ms/step - loss: 0.0865\n",
            "Epoch 6/100\n",
            "144/144 [==============================] - 0s 3ms/step - loss: 0.0870\n",
            "Epoch 7/100\n",
            "144/144 [==============================] - 0s 3ms/step - loss: 0.0802\n",
            "Epoch 8/100\n",
            "144/144 [==============================] - 0s 3ms/step - loss: 0.0822\n",
            "Epoch 9/100\n",
            "144/144 [==============================] - 0s 3ms/step - loss: 0.0792\n",
            "Epoch 10/100\n",
            "144/144 [==============================] - 0s 3ms/step - loss: 0.0780\n",
            "Epoch 11/100\n",
            "144/144 [==============================] - 0s 3ms/step - loss: 0.0776\n",
            "Epoch 12/100\n",
            "144/144 [==============================] - 0s 3ms/step - loss: 0.0761\n",
            "Epoch 13/100\n",
            "144/144 [==============================] - 0s 3ms/step - loss: 0.0750\n",
            "Epoch 14/100\n",
            "144/144 [==============================] - 0s 3ms/step - loss: 0.0751\n",
            "Epoch 15/100\n",
            "144/144 [==============================] - 0s 3ms/step - loss: 0.0713\n",
            "Epoch 16/100\n",
            "144/144 [==============================] - 0s 3ms/step - loss: 0.0679\n",
            "Epoch 17/100\n",
            "144/144 [==============================] - 0s 3ms/step - loss: 0.0648\n",
            "Epoch 18/100\n",
            "144/144 [==============================] - 0s 3ms/step - loss: 0.0606\n",
            "Epoch 19/100\n",
            "144/144 [==============================] - 0s 3ms/step - loss: 0.0556\n",
            "Epoch 20/100\n",
            "144/144 [==============================] - 0s 3ms/step - loss: 0.0498\n",
            "Epoch 21/100\n",
            "144/144 [==============================] - 0s 3ms/step - loss: 0.0439\n",
            "Epoch 22/100\n",
            "144/144 [==============================] - 0s 3ms/step - loss: 0.0342\n",
            "Epoch 23/100\n",
            "144/144 [==============================] - 0s 3ms/step - loss: 0.0272\n",
            "Epoch 24/100\n",
            "144/144 [==============================] - 0s 3ms/step - loss: 0.0241\n",
            "Epoch 25/100\n",
            "144/144 [==============================] - 0s 3ms/step - loss: 0.0266\n",
            "Epoch 26/100\n",
            "144/144 [==============================] - 0s 3ms/step - loss: 0.0255\n",
            "Epoch 27/100\n",
            "144/144 [==============================] - 0s 3ms/step - loss: 0.0234\n",
            "Epoch 28/100\n",
            "144/144 [==============================] - 0s 3ms/step - loss: 0.0228\n",
            "Epoch 29/100\n",
            "144/144 [==============================] - 0s 3ms/step - loss: 0.0216\n",
            "Epoch 30/100\n",
            "144/144 [==============================] - 0s 3ms/step - loss: 0.0207\n",
            "Epoch 31/100\n",
            "144/144 [==============================] - 0s 3ms/step - loss: 0.0201\n",
            "Epoch 32/100\n",
            "144/144 [==============================] - 0s 3ms/step - loss: 0.0204\n",
            "Epoch 33/100\n",
            "144/144 [==============================] - 0s 3ms/step - loss: 0.0198\n",
            "Epoch 34/100\n",
            "144/144 [==============================] - 0s 3ms/step - loss: 0.0195\n",
            "Epoch 35/100\n",
            "144/144 [==============================] - 0s 3ms/step - loss: 0.0202\n",
            "Epoch 36/100\n",
            "144/144 [==============================] - 0s 3ms/step - loss: 0.0192\n",
            "Epoch 37/100\n",
            "144/144 [==============================] - 0s 3ms/step - loss: 0.0181\n",
            "Epoch 38/100\n",
            "144/144 [==============================] - 0s 3ms/step - loss: 0.0194\n",
            "Epoch 39/100\n",
            "144/144 [==============================] - 0s 3ms/step - loss: 0.0196\n",
            "Epoch 40/100\n",
            "144/144 [==============================] - 0s 3ms/step - loss: 0.0172\n",
            "Epoch 41/100\n",
            "144/144 [==============================] - 0s 3ms/step - loss: 0.0183\n",
            "Epoch 42/100\n",
            "144/144 [==============================] - 0s 3ms/step - loss: 0.0189\n",
            "Epoch 43/100\n",
            "144/144 [==============================] - 0s 3ms/step - loss: 0.0181\n",
            "Epoch 44/100\n",
            "144/144 [==============================] - 0s 3ms/step - loss: 0.0175\n",
            "Epoch 45/100\n",
            "144/144 [==============================] - 0s 3ms/step - loss: 0.0178\n",
            "Epoch 46/100\n",
            "144/144 [==============================] - 0s 3ms/step - loss: 0.0166\n",
            "Epoch 47/100\n",
            "144/144 [==============================] - 0s 3ms/step - loss: 0.0162\n",
            "Epoch 48/100\n",
            "144/144 [==============================] - 0s 3ms/step - loss: 0.0157\n",
            "Epoch 49/100\n",
            "144/144 [==============================] - 0s 3ms/step - loss: 0.0154\n",
            "Epoch 50/100\n",
            "144/144 [==============================] - 0s 3ms/step - loss: 0.0157\n",
            "Epoch 51/100\n",
            "144/144 [==============================] - 0s 3ms/step - loss: 0.0151\n",
            "Epoch 52/100\n",
            "144/144 [==============================] - 0s 3ms/step - loss: 0.0152\n",
            "Epoch 53/100\n",
            "144/144 [==============================] - 0s 3ms/step - loss: 0.0154\n",
            "Epoch 54/100\n",
            "144/144 [==============================] - 0s 3ms/step - loss: 0.0150\n",
            "Epoch 55/100\n",
            "144/144 [==============================] - 0s 3ms/step - loss: 0.0147\n",
            "Epoch 56/100\n",
            "144/144 [==============================] - 0s 3ms/step - loss: 0.0147\n",
            "Epoch 57/100\n",
            "144/144 [==============================] - 0s 3ms/step - loss: 0.0142\n",
            "Epoch 58/100\n",
            "144/144 [==============================] - 0s 3ms/step - loss: 0.0142\n",
            "Epoch 59/100\n",
            "144/144 [==============================] - 0s 3ms/step - loss: 0.0142\n",
            "Epoch 60/100\n",
            "144/144 [==============================] - 0s 3ms/step - loss: 0.0141\n",
            "Epoch 61/100\n",
            "144/144 [==============================] - 0s 3ms/step - loss: 0.0138\n",
            "Epoch 62/100\n",
            "144/144 [==============================] - 0s 3ms/step - loss: 0.0138\n",
            "Epoch 63/100\n",
            "144/144 [==============================] - 0s 3ms/step - loss: 0.0138\n",
            "Epoch 64/100\n",
            "144/144 [==============================] - 0s 3ms/step - loss: 0.0134\n",
            "Epoch 65/100\n",
            "144/144 [==============================] - 0s 3ms/step - loss: 0.0136\n",
            "Epoch 66/100\n",
            "144/144 [==============================] - 0s 3ms/step - loss: 0.0133\n",
            "Epoch 67/100\n",
            "144/144 [==============================] - 0s 3ms/step - loss: 0.0133\n",
            "Epoch 68/100\n",
            "144/144 [==============================] - 0s 3ms/step - loss: 0.0133\n",
            "Epoch 69/100\n",
            "144/144 [==============================] - 0s 3ms/step - loss: 0.0128\n",
            "Epoch 70/100\n",
            "144/144 [==============================] - 0s 3ms/step - loss: 0.0132\n",
            "Epoch 71/100\n",
            "144/144 [==============================] - 0s 3ms/step - loss: 0.0136\n",
            "Epoch 72/100\n",
            "144/144 [==============================] - 0s 3ms/step - loss: 0.0128\n",
            "Epoch 73/100\n",
            "144/144 [==============================] - 0s 3ms/step - loss: 0.0131\n",
            "Epoch 74/100\n",
            "144/144 [==============================] - 0s 3ms/step - loss: 0.0125\n",
            "Epoch 75/100\n",
            "144/144 [==============================] - 0s 3ms/step - loss: 0.0133\n",
            "Epoch 76/100\n",
            "144/144 [==============================] - 0s 3ms/step - loss: 0.0129\n",
            "Epoch 77/100\n",
            "144/144 [==============================] - 0s 3ms/step - loss: 0.0130\n",
            "Epoch 78/100\n",
            "144/144 [==============================] - 0s 3ms/step - loss: 0.0127\n",
            "Epoch 79/100\n",
            "144/144 [==============================] - 0s 3ms/step - loss: 0.0128\n",
            "Epoch 80/100\n",
            "144/144 [==============================] - 0s 3ms/step - loss: 0.0125\n",
            "Epoch 81/100\n",
            "144/144 [==============================] - 0s 3ms/step - loss: 0.0129\n",
            "Epoch 82/100\n",
            "144/144 [==============================] - 0s 3ms/step - loss: 0.0126\n",
            "Epoch 83/100\n",
            "144/144 [==============================] - 0s 3ms/step - loss: 0.0128\n",
            "Epoch 84/100\n",
            "144/144 [==============================] - 0s 3ms/step - loss: 0.0127\n",
            "Epoch 85/100\n",
            "144/144 [==============================] - 0s 3ms/step - loss: 0.0122\n",
            "Epoch 86/100\n",
            "144/144 [==============================] - 0s 3ms/step - loss: 0.0121\n",
            "Epoch 87/100\n",
            "144/144 [==============================] - 0s 3ms/step - loss: 0.0121\n",
            "Epoch 88/100\n",
            "144/144 [==============================] - 0s 3ms/step - loss: 0.0119\n",
            "Epoch 89/100\n",
            "144/144 [==============================] - 0s 3ms/step - loss: 0.0119\n",
            "Epoch 90/100\n",
            "144/144 [==============================] - 0s 3ms/step - loss: 0.0119\n",
            "Epoch 91/100\n",
            "144/144 [==============================] - 0s 3ms/step - loss: 0.0117\n",
            "Epoch 92/100\n",
            "144/144 [==============================] - 0s 3ms/step - loss: 0.0118\n",
            "Epoch 93/100\n",
            "144/144 [==============================] - 0s 3ms/step - loss: 0.0116\n",
            "Epoch 94/100\n",
            "144/144 [==============================] - 0s 3ms/step - loss: 0.0117\n",
            "Epoch 95/100\n",
            "144/144 [==============================] - 0s 3ms/step - loss: 0.0116\n",
            "Epoch 96/100\n",
            "144/144 [==============================] - 0s 3ms/step - loss: 0.0116\n",
            "Epoch 97/100\n",
            "144/144 [==============================] - 0s 3ms/step - loss: 0.0123\n",
            "Epoch 98/100\n",
            "144/144 [==============================] - 0s 3ms/step - loss: 0.0112\n",
            "Epoch 99/100\n",
            "144/144 [==============================] - 0s 3ms/step - loss: 0.0120\n",
            "Epoch 100/100\n",
            "144/144 [==============================] - 0s 3ms/step - loss: 0.0116\n"
          ],
          "name": "stdout"
        },
        {
          "output_type": "execute_result",
          "data": {
            "text/plain": [
              "<keras.callbacks.History at 0x7f5fc978cba8>"
            ]
          },
          "metadata": {
            "tags": []
          },
          "execution_count": 16
        }
      ]
    },
    {
      "metadata": {
        "id": "qwcyiSfRKqvW",
        "colab_type": "code",
        "colab": {}
      },
      "cell_type": "code",
      "source": [
        "predicted_value= model.predict(X_test)\n"
      ],
      "execution_count": 0,
      "outputs": []
    },
    {
      "metadata": {
        "id": "C9lKUAVJKwqe",
        "colab_type": "code",
        "outputId": "c1895238-aed6-4144-8817-99ceeed4db17",
        "colab": {
          "base_uri": "https://localhost:8080/",
          "height": 295
        }
      },
      "cell_type": "code",
      "source": [
        "plt.plot(predicted_value, color= 'red')\n",
        "plt.plot(input_data[:61,1], color='green')\n",
        "plt.title(\"Temp&Snow cover\")\n",
        "plt.xlabel(\"Time (latest-> oldest)\")\n",
        "plt.ylabel(\"Snow cover\")\n",
        "plt.show()"
      ],
      "execution_count": 18,
      "outputs": [
        {
          "output_type": "display_data",
          "data": {
            "image/png": "[encoded data removed]",
            "text/plain": [
              "<Figure size 432x288 with 1 Axes>"
            ]
          },
          "metadata": {
            "tags": []
          }
        }
      ]
    },
    {
      "metadata": {
        "id": "t57qpPETOtTO",
        "colab_type": "code",
        "colab": {}
      },
      "cell_type": "code",
      "source": [
        "#import sklearn\n",
        "#sklearn.metrics.r2_score(X_test[1], predicted_value, sample_weight=None, multioutput='uniform_average')"
      ],
      "execution_count": 0,
      "outputs": []
    },
    {
      "metadata": {
        "id": "xqYyx9gETN8J",
        "colab_type": "code",
        "outputId": "bda7e6e4-694b-46c5-ce1e-64071dfc56c3",
        "colab": {
          "base_uri": "https://localhost:8080/",
          "height": 1042
        }
      },
      "cell_type": "code",
      "source": [
        "predicted_value"
      ],
      "execution_count": 20,
      "outputs": [
        {
          "output_type": "execute_result",
          "data": {
            "text/plain": [
              "array([[0.8074422 ],\n",
              "       [0.8634932 ],\n",
              "       [0.848551  ],\n",
              "       [0.7436408 ],\n",
              "       [0.5422739 ],\n",
              "       [0.2848905 ],\n",
              "       [0.08815379],\n",
              "       [0.05168354],\n",
              "       [0.15719995],\n",
              "       [0.32701182],\n",
              "       [0.50313073],\n",
              "       [0.6570848 ],\n",
              "       [0.77491355],\n",
              "       [0.8366782 ],\n",
              "       [0.82418346],\n",
              "       [0.7212413 ],\n",
              "       [0.5241499 ],\n",
              "       [0.28904647],\n",
              "       [0.12943332],\n",
              "       [0.11966748],\n",
              "       [0.23021986],\n",
              "       [0.39228573],\n",
              "       [0.5576228 ],\n",
              "       [0.6954479 ],\n",
              "       [0.79353976],\n",
              "       [0.8364844 ],\n",
              "       [0.8067478 ],\n",
              "       [0.68122214],\n",
              "       [0.46312585],\n",
              "       [0.21499686],\n",
              "       [0.05787365],\n",
              "       [0.06275062],\n",
              "       [0.19143678],\n",
              "       [0.37048924],\n",
              "       [0.5504898 ],\n",
              "       [0.70214576],\n",
              "       [0.81018555],\n",
              "       [0.86166286],\n",
              "       [0.8383332 ],\n",
              "       [0.722374  ],\n",
              "       [0.5176355 ],\n",
              "       [0.28231302],\n",
              "       [0.12407608],\n",
              "       [0.1136634 ],\n",
              "       [0.22337556],\n",
              "       [0.39086312],\n",
              "       [0.56186366],\n",
              "       [0.7102991 ],\n",
              "       [0.81763494],\n",
              "       [0.8658392 ],\n",
              "       [0.83527625],\n",
              "       [0.70713884],\n",
              "       [0.48930857],\n",
              "       [0.2540239 ],\n",
              "       [0.11721687],\n",
              "       [0.13184226],\n",
              "       [0.25335672],\n",
              "       [0.41491944],\n",
              "       [0.57419384],\n",
              "       [0.706172  ],\n",
              "       [0.79446673]], dtype=float32)"
            ]
          },
          "metadata": {
            "tags": []
          },
          "execution_count": 20
        }
      ]
    },
    {
      "metadata": {
        "id": "5dXLWSl6URek",
        "colab_type": "code",
        "colab": {}
      },
      "cell_type": "code",
      "source": [
        "rmse_test=np.sqrt(np.mean(np.power((np.array(input_data[:61,1])-np.array(predicted_value)),2)))"
      ],
      "execution_count": 0,
      "outputs": []
    },
    {
      "metadata": {
        "id": "i7QqgSQRVQbg",
        "colab_type": "code",
        "colab": {
          "base_uri": "https://localhost:8080/",
          "height": 34
        },
        "outputId": "147189af-e9c2-4283-ca18-adf09ecd48a4"
      },
      "cell_type": "code",
      "source": [
        "rmse_test"
      ],
      "execution_count": 22,
      "outputs": [
        {
          "output_type": "execute_result",
          "data": {
            "text/plain": [
              "0.4080166821164354"
            ]
          },
          "metadata": {
            "tags": []
          },
          "execution_count": 22
        }
      ]
    },
    {
      "metadata": {
        "id": "dkUQVOKwHvOX",
        "colab_type": "code",
        "colab": {
          "base_uri": "https://localhost:8080/",
          "height": 235
        },
        "outputId": "607a00e9-f699-423d-9c4b-173cca3a6f4b"
      },
      "cell_type": "code",
      "source": [
        "input_data[:61,1]"
      ],
      "execution_count": 23,
      "outputs": [
        {
          "output_type": "execute_result",
          "data": {
            "text/plain": [
              "array([0.79802606, 0.76049394, 0.81214741, 0.67773064, 0.45214753,\n",
              "       0.24772884, 0.04989563, 0.01186112, 0.10543702, 0.18752087,\n",
              "       0.59957206, 0.74123349, 0.9170063 , 0.96383746, 0.86950957,\n",
              "       0.74323559, 0.54631863, 0.25664708, 0.04381361, 0.04829779,\n",
              "       0.31863316, 0.3548981 , 0.3765873 , 0.47460473, 0.35687566,\n",
              "       0.89297794, 0.81742411, 0.76981217, 0.56515029, 0.22744121,\n",
              "       0.03323353, 0.00295248, 0.07439118, 0.21231188, 0.43060872,\n",
              "       0.59950806, 0.85053391, 0.95116249, 0.69289197, 0.56667559,\n",
              "       0.54532344, 0.21223188, 0.04283976, 0.03440578, 0.07643701,\n",
              "       0.65066233, 0.54854259, 0.59079782, 0.9889698 , 0.74475343,\n",
              "       0.87741982, 0.74930268, 0.61322621, 0.40389561, 0.18206283,\n",
              "       0.05922026, 0.19326903, 0.28223915, 0.28574095, 0.3988621 ,\n",
              "       0.75815799])"
            ]
          },
          "metadata": {
            "tags": []
          },
          "execution_count": 23
        }
      ]
    },
    {
      "metadata": {
        "id": "UF60f6ApHyUN",
        "colab_type": "code",
        "colab": {}
      },
      "cell_type": "code",
      "source": [
        ""
      ],
      "execution_count": 0,
      "outputs": []
    }
  ]
}