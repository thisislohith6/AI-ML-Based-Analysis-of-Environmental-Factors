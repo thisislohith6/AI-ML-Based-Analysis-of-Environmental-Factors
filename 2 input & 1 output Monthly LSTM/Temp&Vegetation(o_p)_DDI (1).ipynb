{
  "nbformat": 4,
  "nbformat_minor": 0,
  "metadata": {
    "colab": {
      "name": "Temp&Vegetation(o/p) DDI.ipynb",
      "version": "0.3.2",
      "provenance": []
    },
    "kernelspec": {
      "name": "python3",
      "display_name": "Python 3"
    }
  },
  "cells": [
    {
      "metadata": {
        "id": "-UXGf39gFI34",
        "colab_type": "code",
        "colab": {}
      },
      "cell_type": "code",
      "source": [
        "#https://medium.com/datadriveninvestor/multivariate-time-series-using-rnn-with-keras-7f78f4488679"
      ],
      "execution_count": 0,
      "outputs": []
    },
    {
      "metadata": {
        "id": "e1CLoOq0FUXs",
        "colab_type": "code",
        "colab": {}
      },
      "cell_type": "code",
      "source": [
        "import numpy as np\n",
        "import pandas as pd\n",
        "import matplotlib.pyplot as plt\n",
        "%matplotlib inline\n",
        "weather_data = pd.read_csv(\"/content/weather with dates.csv\")"
      ],
      "execution_count": 0,
      "outputs": []
    },
    {
      "metadata": {
        "id": "LBIs3NphGGTG",
        "colab_type": "code",
        "outputId": "f8ed8608-b984-4a9b-8285-3ed31ad89f0a",
        "colab": {
          "base_uri": "https://localhost:8080/",
          "height": 106
        }
      },
      "cell_type": "code",
      "source": [
        "weather_data.head(2)"
      ],
      "execution_count": 0,
      "outputs": [
        {
          "output_type": "execute_result",
          "data": {
            "text/html": [
              "<div>\n",
              "<style scoped>\n",
              "    .dataframe tbody tr th:only-of-type {\n",
              "        vertical-align: middle;\n",
              "    }\n",
              "\n",
              "    .dataframe tbody tr th {\n",
              "        vertical-align: top;\n",
              "    }\n",
              "\n",
              "    .dataframe thead th {\n",
              "        text-align: right;\n",
              "    }\n",
              "</style>\n",
              "<table border=\"1\" class=\"dataframe\">\n",
              "  <thead>\n",
              "    <tr style=\"text-align: right;\">\n",
              "      <th></th>\n",
              "      <th>Year</th>\n",
              "      <th>Average of Avg. Temperature in Kelvin</th>\n",
              "      <th>Average of NDVI Avg. Number of pixel</th>\n",
              "      <th>Average of SNOW Avg. Number of Pixels</th>\n",
              "    </tr>\n",
              "  </thead>\n",
              "  <tbody>\n",
              "    <tr>\n",
              "      <th>0</th>\n",
              "      <td>01-01-2001</td>\n",
              "      <td>271.344059</td>\n",
              "      <td>9418.25</td>\n",
              "      <td>6790.325</td>\n",
              "    </tr>\n",
              "    <tr>\n",
              "      <th>1</th>\n",
              "      <td>01-02-2001</td>\n",
              "      <td>273.913663</td>\n",
              "      <td>12998.90</td>\n",
              "      <td>6497.100</td>\n",
              "    </tr>\n",
              "  </tbody>\n",
              "</table>\n",
              "</div>"
            ],
            "text/plain": [
              "         Year  Average of Avg. Temperature in Kelvin  \\\n",
              "0  01-01-2001                             271.344059   \n",
              "1  01-02-2001                             273.913663   \n",
              "\n",
              "   Average of NDVI Avg. Number of pixel  Average of SNOW Avg. Number of Pixels  \n",
              "0                               9418.25                               6790.325  \n",
              "1                              12998.90                               6497.100  "
            ]
          },
          "metadata": {
            "tags": []
          },
          "execution_count": 5
        }
      ]
    },
    {
      "metadata": {
        "id": "jYFmD6fKG2D7",
        "colab_type": "code",
        "outputId": "d022b1c4-f414-4ccd-a22a-b0c7ab04dec3",
        "colab": {
          "base_uri": "https://localhost:8080/",
          "height": 168
        }
      },
      "cell_type": "code",
      "source": [
        "weather_data.info()"
      ],
      "execution_count": 0,
      "outputs": [
        {
          "output_type": "stream",
          "text": [
            "<class 'pandas.core.frame.DataFrame'>\n",
            "RangeIndex: 204 entries, 0 to 203\n",
            "Data columns (total 4 columns):\n",
            "Year                                     204 non-null object\n",
            "Average of Avg. Temperature in Kelvin    204 non-null float64\n",
            "Average of NDVI Avg. Number of pixel     204 non-null float64\n",
            "Average of SNOW Avg. Number of Pixels    204 non-null float64\n",
            "dtypes: float64(3), object(1)\n",
            "memory usage: 6.5+ KB\n"
          ],
          "name": "stdout"
        }
      ]
    },
    {
      "metadata": {
        "id": "jrmuDYxrHGxo",
        "colab_type": "code",
        "colab": {}
      },
      "cell_type": "code",
      "source": [
        "input_feature= weather_data.iloc[:,[1,2]].values\n",
        "input_data = input_feature"
      ],
      "execution_count": 0,
      "outputs": []
    },
    {
      "metadata": {
        "id": "jFW05QDSHHwg",
        "colab_type": "code",
        "outputId": "ce7e2d4a-2c08-428b-ff5f-6a459f5a08f4",
        "colab": {
          "base_uri": "https://localhost:8080/",
          "height": 294
        }
      },
      "cell_type": "code",
      "source": [
        "plt.plot(input_feature[:,0])\n",
        "plt.title(\"Temperature\")\n",
        "plt.xlabel(\"Time (latest-> oldest)\")\n",
        "plt.ylabel(\"Volume of stocks traded\")\n",
        "plt.show()"
      ],
      "execution_count": 0,
      "outputs": [
        {
          "output_type": "display_data",
          "data": {
            "image/png": "[encoded data removed]",
            "text/plain": [
              "<Figure size 432x288 with 1 Axes>"
            ]
          },
          "metadata": {
            "tags": []
          }
        }
      ]
    },
    {
      "metadata": {
        "id": "L8-HAyaRHIXx",
        "colab_type": "code",
        "outputId": "e3f1e9f4-eba4-47b9-bc0c-2971832477be",
        "colab": {
          "base_uri": "https://localhost:8080/",
          "height": 294
        }
      },
      "cell_type": "code",
      "source": [
        "plt.plot(input_feature[:,1], color='blue')\n",
        "plt.title(\"Vegetation\")\n",
        "plt.xlabel(\"Time (latest-> oldest)\")\n",
        "plt.ylabel(\"Stock Opening Price\")\n",
        "plt.show()"
      ],
      "execution_count": 0,
      "outputs": [
        {
          "output_type": "display_data",
          "data": {
            "image/png": "[encoded data removed]",
            "text/plain": [
              "<Figure size 432x288 with 1 Axes>"
            ]
          },
          "metadata": {
            "tags": []
          }
        }
      ]
    },
    {
      "metadata": {
        "id": "9oYXI2gjHI_p",
        "colab_type": "code",
        "colab": {}
      },
      "cell_type": "code",
      "source": [
        "from sklearn.preprocessing import MinMaxScaler\n",
        "sc= MinMaxScaler(feature_range=(0,1))\n",
        "input_data[:,0:2] = sc.fit_transform(input_feature[:,:])"
      ],
      "execution_count": 0,
      "outputs": []
    },
    {
      "metadata": {
        "id": "Uy_0R7yrHJxp",
        "colab_type": "code",
        "colab": {}
      },
      "cell_type": "code",
      "source": [
        "lookback= 60\n",
        "test_size=int(.3 * len(weather_data))\n",
        "X=[]\n",
        "y=[]\n",
        "for i in range(0, len(weather_data)-lookback):\n",
        "    t=[]\n",
        "    for j in range(0,lookback):\n",
        "        \n",
        "        t.append(input_data[[(i+j)], :])\n",
        "    X.append(t)\n",
        "    y.append(input_data[i,1])"
      ],
      "execution_count": 0,
      "outputs": []
    },
    {
      "metadata": {
        "id": "4xXEL05fHKg5",
        "colab_type": "code",
        "outputId": "625e530b-069c-4e12-fc6e-ab9f6718105e",
        "colab": {
          "base_uri": "https://localhost:8080/",
          "height": 50
        }
      },
      "cell_type": "code",
      "source": [
        "X, y= np.array(X), np.array(y)\n",
        "X_test = X[:test_size]\n",
        "\n",
        "X = X.reshape(X.shape[0],lookback, 2)\n",
        "X_test = X_test.reshape(X_test.shape[0],lookback, 2)\n",
        "print(X.shape)\n",
        "print(X_test.shape)"
      ],
      "execution_count": 0,
      "outputs": [
        {
          "output_type": "stream",
          "text": [
            "(144, 60, 2)\n",
            "(61, 60, 2)\n"
          ],
          "name": "stdout"
        }
      ]
    },
    {
      "metadata": {
        "id": "V_RtsmpmKaeA",
        "colab_type": "code",
        "outputId": "8146e9dd-92a3-4580-c8fc-a0536c16c5d2",
        "colab": {
          "base_uri": "https://localhost:8080/",
          "height": 34
        }
      },
      "cell_type": "code",
      "source": [
        "from keras import Sequential\n",
        "from keras.layers import Dense, LSTM"
      ],
      "execution_count": 0,
      "outputs": [
        {
          "output_type": "stream",
          "text": [
            "Using TensorFlow backend.\n"
          ],
          "name": "stderr"
        }
      ]
    },
    {
      "metadata": {
        "id": "h91UQk6sKfLl",
        "colab_type": "code",
        "outputId": "82ee2d33-e511-49da-a3ee-d2808b66ad6f",
        "colab": {
          "base_uri": "https://localhost:8080/",
          "height": 339
        }
      },
      "cell_type": "code",
      "source": [
        "model = Sequential()\n",
        "model.add(LSTM(units=120, return_sequences= True, input_shape=(X.shape[1],2)))\n",
        "model.add(LSTM(units=120, return_sequences=True))\n",
        "model.add(LSTM(units=120))\n",
        "model.add(Dense(units=1))\n",
        "model.summary()"
      ],
      "execution_count": 0,
      "outputs": [
        {
          "output_type": "stream",
          "text": [
            "WARNING:tensorflow:From /usr/local/lib/python3.6/dist-packages/tensorflow/python/framework/op_def_library.py:263: colocate_with (from tensorflow.python.framework.ops) is deprecated and will be removed in a future version.\n",
            "Instructions for updating:\n",
            "Colocations handled automatically by placer.\n",
            "_________________________________________________________________\n",
            "Layer (type)                 Output Shape              Param #   \n",
            "=================================================================\n",
            "lstm_1 (LSTM)                (None, 60, 120)           59040     \n",
            "_________________________________________________________________\n",
            "lstm_2 (LSTM)                (None, 60, 120)           115680    \n",
            "_________________________________________________________________\n",
            "lstm_3 (LSTM)                (None, 120)               115680    \n",
            "_________________________________________________________________\n",
            "dense_1 (Dense)              (None, 1)                 121       \n",
            "=================================================================\n",
            "Total params: 290,521\n",
            "Trainable params: 290,521\n",
            "Non-trainable params: 0\n",
            "_________________________________________________________________\n"
          ],
          "name": "stdout"
        }
      ]
    },
    {
      "metadata": {
        "id": "6iUdvvZiKkz5",
        "colab_type": "code",
        "colab": {}
      },
      "cell_type": "code",
      "source": [
        "model.compile(optimizer='adam', loss='mean_squared_error')\n"
      ],
      "execution_count": 0,
      "outputs": []
    },
    {
      "metadata": {
        "id": "OqITyQp0Kox1",
        "colab_type": "code",
        "outputId": "a1cb31a2-b620-42c4-f549-7deb921d4820",
        "colab": {
          "base_uri": "https://localhost:8080/",
          "height": 5144
        }
      },
      "cell_type": "code",
      "source": [
        "model.fit(X, y, epochs=150, batch_size=32)\n"
      ],
      "execution_count": 0,
      "outputs": [
        {
          "output_type": "stream",
          "text": [
            "WARNING:tensorflow:From /usr/local/lib/python3.6/dist-packages/tensorflow/python/ops/math_ops.py:3066: to_int32 (from tensorflow.python.ops.math_ops) is deprecated and will be removed in a future version.\n",
            "Instructions for updating:\n",
            "Use tf.cast instead.\n",
            "Epoch 1/150\n",
            "144/144 [==============================] - 7s 49ms/step - loss: 0.1092\n",
            "Epoch 2/150\n",
            "144/144 [==============================] - 3s 21ms/step - loss: 0.0368\n",
            "Epoch 3/150\n",
            "144/144 [==============================] - 3s 20ms/step - loss: 0.0369\n",
            "Epoch 4/150\n",
            "144/144 [==============================] - 3s 19ms/step - loss: 0.0272\n",
            "Epoch 5/150\n",
            "144/144 [==============================] - 3s 21ms/step - loss: 0.0225\n",
            "Epoch 6/150\n",
            "144/144 [==============================] - 3s 20ms/step - loss: 0.0244\n",
            "Epoch 7/150\n",
            "144/144 [==============================] - 3s 20ms/step - loss: 0.0217\n",
            "Epoch 8/150\n",
            "144/144 [==============================] - 3s 21ms/step - loss: 0.0228\n",
            "Epoch 9/150\n",
            "144/144 [==============================] - 3s 20ms/step - loss: 0.0215\n",
            "Epoch 10/150\n",
            "144/144 [==============================] - 3s 19ms/step - loss: 0.0216\n",
            "Epoch 11/150\n",
            "144/144 [==============================] - 3s 19ms/step - loss: 0.0206\n",
            "Epoch 12/150\n",
            "144/144 [==============================] - 3s 20ms/step - loss: 0.0209\n",
            "Epoch 13/150\n",
            "144/144 [==============================] - 3s 20ms/step - loss: 0.0206\n",
            "Epoch 14/150\n",
            "144/144 [==============================] - 3s 19ms/step - loss: 0.0204\n",
            "Epoch 15/150\n",
            "144/144 [==============================] - 3s 19ms/step - loss: 0.0202\n",
            "Epoch 16/150\n",
            "144/144 [==============================] - 3s 19ms/step - loss: 0.0204\n",
            "Epoch 17/150\n",
            "144/144 [==============================] - 3s 20ms/step - loss: 0.0199\n",
            "Epoch 18/150\n",
            "144/144 [==============================] - 3s 19ms/step - loss: 0.0197\n",
            "Epoch 19/150\n",
            "144/144 [==============================] - 3s 20ms/step - loss: 0.0202\n",
            "Epoch 20/150\n",
            "144/144 [==============================] - 3s 20ms/step - loss: 0.0199\n",
            "Epoch 21/150\n",
            "144/144 [==============================] - 3s 20ms/step - loss: 0.0186\n",
            "Epoch 22/150\n",
            "144/144 [==============================] - 3s 20ms/step - loss: 0.0189\n",
            "Epoch 23/150\n",
            "144/144 [==============================] - 3s 20ms/step - loss: 0.0183\n",
            "Epoch 24/150\n",
            "144/144 [==============================] - 3s 19ms/step - loss: 0.0179\n",
            "Epoch 25/150\n",
            "144/144 [==============================] - 3s 19ms/step - loss: 0.0180\n",
            "Epoch 26/150\n",
            "144/144 [==============================] - 3s 19ms/step - loss: 0.0163\n",
            "Epoch 27/150\n",
            "144/144 [==============================] - 3s 19ms/step - loss: 0.0165\n",
            "Epoch 28/150\n",
            "144/144 [==============================] - 3s 20ms/step - loss: 0.0143\n",
            "Epoch 29/150\n",
            "144/144 [==============================] - 3s 21ms/step - loss: 0.0116\n",
            "Epoch 30/150\n",
            "144/144 [==============================] - 3s 20ms/step - loss: 0.0100\n",
            "Epoch 31/150\n",
            "144/144 [==============================] - 3s 19ms/step - loss: 0.0084\n",
            "Epoch 32/150\n",
            "144/144 [==============================] - 3s 19ms/step - loss: 0.0087\n",
            "Epoch 33/150\n",
            "144/144 [==============================] - 3s 21ms/step - loss: 0.0082\n",
            "Epoch 34/150\n",
            "144/144 [==============================] - 3s 20ms/step - loss: 0.0082\n",
            "Epoch 35/150\n",
            "144/144 [==============================] - 3s 21ms/step - loss: 0.0082\n",
            "Epoch 36/150\n",
            "144/144 [==============================] - 2s 17ms/step - loss: 0.0090\n",
            "Epoch 37/150\n",
            "144/144 [==============================] - 2s 11ms/step - loss: 0.0080\n",
            "Epoch 38/150\n",
            "144/144 [==============================] - 2s 10ms/step - loss: 0.0085\n",
            "Epoch 39/150\n",
            "144/144 [==============================] - 2s 11ms/step - loss: 0.0082\n",
            "Epoch 40/150\n",
            "144/144 [==============================] - 2s 11ms/step - loss: 0.0091\n",
            "Epoch 41/150\n",
            "144/144 [==============================] - 2s 11ms/step - loss: 0.0090\n",
            "Epoch 42/150\n",
            "144/144 [==============================] - 2s 11ms/step - loss: 0.0086\n",
            "Epoch 43/150\n",
            "144/144 [==============================] - 2s 11ms/step - loss: 0.0082\n",
            "Epoch 44/150\n",
            "144/144 [==============================] - 2s 11ms/step - loss: 0.0081\n",
            "Epoch 45/150\n",
            "144/144 [==============================] - 2s 11ms/step - loss: 0.0079\n",
            "Epoch 46/150\n",
            "144/144 [==============================] - 2s 11ms/step - loss: 0.0076\n",
            "Epoch 47/150\n",
            "144/144 [==============================] - 2s 11ms/step - loss: 0.0079\n",
            "Epoch 48/150\n",
            "144/144 [==============================] - 2s 11ms/step - loss: 0.0077\n",
            "Epoch 49/150\n",
            "144/144 [==============================] - 2s 11ms/step - loss: 0.0077\n",
            "Epoch 50/150\n",
            "144/144 [==============================] - 2s 11ms/step - loss: 0.0077\n",
            "Epoch 51/150\n",
            "144/144 [==============================] - 2s 11ms/step - loss: 0.0079\n",
            "Epoch 52/150\n",
            "144/144 [==============================] - 2s 11ms/step - loss: 0.0076\n",
            "Epoch 53/150\n",
            "144/144 [==============================] - 2s 11ms/step - loss: 0.0076\n",
            "Epoch 54/150\n",
            "144/144 [==============================] - 2s 11ms/step - loss: 0.0076\n",
            "Epoch 55/150\n",
            "144/144 [==============================] - 2s 11ms/step - loss: 0.0077\n",
            "Epoch 56/150\n",
            "144/144 [==============================] - 2s 11ms/step - loss: 0.0078\n",
            "Epoch 57/150\n",
            "144/144 [==============================] - 2s 11ms/step - loss: 0.0080\n",
            "Epoch 58/150\n",
            "144/144 [==============================] - 2s 11ms/step - loss: 0.0079\n",
            "Epoch 59/150\n",
            "144/144 [==============================] - 2s 11ms/step - loss: 0.0076\n",
            "Epoch 60/150\n",
            "144/144 [==============================] - 2s 11ms/step - loss: 0.0077\n",
            "Epoch 61/150\n",
            "144/144 [==============================] - 2s 11ms/step - loss: 0.0075\n",
            "Epoch 62/150\n",
            "144/144 [==============================] - 2s 11ms/step - loss: 0.0075\n",
            "Epoch 63/150\n",
            "144/144 [==============================] - 2s 11ms/step - loss: 0.0073\n",
            "Epoch 64/150\n",
            "144/144 [==============================] - 2s 11ms/step - loss: 0.0074\n",
            "Epoch 65/150\n",
            "144/144 [==============================] - 2s 11ms/step - loss: 0.0076\n",
            "Epoch 66/150\n",
            "144/144 [==============================] - 2s 11ms/step - loss: 0.0076\n",
            "Epoch 67/150\n",
            "144/144 [==============================] - 2s 11ms/step - loss: 0.0073\n",
            "Epoch 68/150\n",
            "144/144 [==============================] - 2s 11ms/step - loss: 0.0074\n",
            "Epoch 69/150\n",
            "144/144 [==============================] - 2s 11ms/step - loss: 0.0073\n",
            "Epoch 70/150\n",
            "144/144 [==============================] - 2s 11ms/step - loss: 0.0071\n",
            "Epoch 71/150\n",
            "144/144 [==============================] - 2s 11ms/step - loss: 0.0074\n",
            "Epoch 72/150\n",
            "144/144 [==============================] - 2s 10ms/step - loss: 0.0076\n",
            "Epoch 73/150\n",
            "144/144 [==============================] - 2s 11ms/step - loss: 0.0073\n",
            "Epoch 74/150\n",
            "144/144 [==============================] - 2s 11ms/step - loss: 0.0071\n",
            "Epoch 75/150\n",
            "144/144 [==============================] - 2s 11ms/step - loss: 0.0072\n",
            "Epoch 76/150\n",
            "144/144 [==============================] - 2s 11ms/step - loss: 0.0078\n",
            "Epoch 77/150\n",
            "144/144 [==============================] - 2s 11ms/step - loss: 0.0070\n",
            "Epoch 78/150\n",
            "144/144 [==============================] - 2s 11ms/step - loss: 0.0072\n",
            "Epoch 79/150\n",
            "144/144 [==============================] - 2s 10ms/step - loss: 0.0077\n",
            "Epoch 80/150\n",
            "144/144 [==============================] - 2s 11ms/step - loss: 0.0071\n",
            "Epoch 81/150\n",
            "144/144 [==============================] - 2s 11ms/step - loss: 0.0071\n",
            "Epoch 82/150\n",
            "144/144 [==============================] - 2s 10ms/step - loss: 0.0072\n",
            "Epoch 83/150\n",
            "144/144 [==============================] - 2s 11ms/step - loss: 0.0070\n",
            "Epoch 84/150\n",
            "144/144 [==============================] - 2s 10ms/step - loss: 0.0075\n",
            "Epoch 85/150\n",
            "144/144 [==============================] - 2s 11ms/step - loss: 0.0071\n",
            "Epoch 86/150\n",
            "144/144 [==============================] - 2s 10ms/step - loss: 0.0072\n",
            "Epoch 87/150\n",
            "144/144 [==============================] - 2s 11ms/step - loss: 0.0072\n",
            "Epoch 88/150\n",
            "144/144 [==============================] - 2s 11ms/step - loss: 0.0069\n",
            "Epoch 89/150\n",
            "144/144 [==============================] - 2s 11ms/step - loss: 0.0070\n",
            "Epoch 90/150\n",
            "144/144 [==============================] - 2s 11ms/step - loss: 0.0072\n",
            "Epoch 91/150\n",
            "144/144 [==============================] - 1s 10ms/step - loss: 0.0072\n",
            "Epoch 92/150\n",
            "144/144 [==============================] - 2s 11ms/step - loss: 0.0073\n",
            "Epoch 93/150\n",
            "144/144 [==============================] - 2s 11ms/step - loss: 0.0069\n",
            "Epoch 94/150\n",
            "144/144 [==============================] - 2s 11ms/step - loss: 0.0071\n",
            "Epoch 95/150\n",
            "144/144 [==============================] - 2s 11ms/step - loss: 0.0075\n",
            "Epoch 96/150\n",
            "144/144 [==============================] - 2s 11ms/step - loss: 0.0070\n",
            "Epoch 97/150\n",
            "144/144 [==============================] - 2s 11ms/step - loss: 0.0069\n",
            "Epoch 98/150\n",
            "144/144 [==============================] - 2s 11ms/step - loss: 0.0075\n",
            "Epoch 99/150\n",
            "144/144 [==============================] - 2s 11ms/step - loss: 0.0069\n",
            "Epoch 100/150\n",
            "144/144 [==============================] - 2s 11ms/step - loss: 0.0068\n",
            "Epoch 101/150\n",
            "144/144 [==============================] - 2s 11ms/step - loss: 0.0068\n",
            "Epoch 102/150\n",
            "144/144 [==============================] - 2s 11ms/step - loss: 0.0070\n",
            "Epoch 103/150\n",
            "144/144 [==============================] - 2s 11ms/step - loss: 0.0068\n",
            "Epoch 104/150\n",
            "144/144 [==============================] - 2s 11ms/step - loss: 0.0071\n",
            "Epoch 105/150\n",
            "144/144 [==============================] - 2s 11ms/step - loss: 0.0069\n",
            "Epoch 106/150\n",
            "144/144 [==============================] - 2s 11ms/step - loss: 0.0074\n",
            "Epoch 107/150\n",
            "144/144 [==============================] - 2s 11ms/step - loss: 0.0074\n",
            "Epoch 108/150\n",
            "144/144 [==============================] - 2s 11ms/step - loss: 0.0068\n",
            "Epoch 109/150\n",
            "144/144 [==============================] - 2s 11ms/step - loss: 0.0075\n",
            "Epoch 110/150\n",
            "144/144 [==============================] - 2s 11ms/step - loss: 0.0073\n",
            "Epoch 111/150\n",
            "144/144 [==============================] - 2s 11ms/step - loss: 0.0071\n",
            "Epoch 112/150\n",
            "144/144 [==============================] - 2s 11ms/step - loss: 0.0069\n",
            "Epoch 113/150\n",
            "144/144 [==============================] - 2s 11ms/step - loss: 0.0069\n",
            "Epoch 114/150\n",
            "144/144 [==============================] - 2s 11ms/step - loss: 0.0072\n",
            "Epoch 115/150\n",
            "144/144 [==============================] - 2s 11ms/step - loss: 0.0074\n",
            "Epoch 116/150\n",
            "144/144 [==============================] - 2s 11ms/step - loss: 0.0068\n",
            "Epoch 117/150\n",
            "144/144 [==============================] - 2s 11ms/step - loss: 0.0069\n",
            "Epoch 118/150\n",
            "144/144 [==============================] - 2s 10ms/step - loss: 0.0068\n",
            "Epoch 119/150\n",
            "144/144 [==============================] - 2s 11ms/step - loss: 0.0071\n",
            "Epoch 120/150\n",
            "144/144 [==============================] - 2s 11ms/step - loss: 0.0077\n",
            "Epoch 121/150\n",
            "144/144 [==============================] - 2s 11ms/step - loss: 0.0069\n",
            "Epoch 122/150\n",
            "144/144 [==============================] - 2s 11ms/step - loss: 0.0074\n",
            "Epoch 123/150\n",
            "144/144 [==============================] - 2s 11ms/step - loss: 0.0074\n",
            "Epoch 124/150\n",
            "144/144 [==============================] - 2s 11ms/step - loss: 0.0072\n",
            "Epoch 125/150\n",
            "144/144 [==============================] - 2s 11ms/step - loss: 0.0066\n",
            "Epoch 126/150\n",
            "144/144 [==============================] - 2s 11ms/step - loss: 0.0069\n",
            "Epoch 127/150\n",
            "144/144 [==============================] - 2s 10ms/step - loss: 0.0073\n",
            "Epoch 128/150\n",
            "144/144 [==============================] - 2s 11ms/step - loss: 0.0069\n",
            "Epoch 129/150\n",
            "144/144 [==============================] - 2s 11ms/step - loss: 0.0069\n",
            "Epoch 130/150\n",
            "144/144 [==============================] - 2s 11ms/step - loss: 0.0071\n",
            "Epoch 131/150\n",
            "144/144 [==============================] - 2s 11ms/step - loss: 0.0073\n",
            "Epoch 132/150\n",
            "144/144 [==============================] - 2s 11ms/step - loss: 0.0075\n",
            "Epoch 133/150\n",
            "144/144 [==============================] - 2s 11ms/step - loss: 0.0070\n",
            "Epoch 134/150\n",
            "144/144 [==============================] - 2s 11ms/step - loss: 0.0069\n",
            "Epoch 135/150\n",
            "144/144 [==============================] - 2s 10ms/step - loss: 0.0069\n",
            "Epoch 136/150\n",
            "144/144 [==============================] - 2s 11ms/step - loss: 0.0067\n",
            "Epoch 137/150\n",
            "144/144 [==============================] - 2s 11ms/step - loss: 0.0068\n",
            "Epoch 138/150\n",
            "144/144 [==============================] - 2s 11ms/step - loss: 0.0069\n",
            "Epoch 139/150\n",
            "144/144 [==============================] - 2s 11ms/step - loss: 0.0067\n",
            "Epoch 140/150\n",
            "144/144 [==============================] - 2s 11ms/step - loss: 0.0066\n",
            "Epoch 141/150\n",
            "144/144 [==============================] - 2s 11ms/step - loss: 0.0067\n",
            "Epoch 142/150\n",
            "144/144 [==============================] - 2s 11ms/step - loss: 0.0065\n",
            "Epoch 143/150\n",
            "144/144 [==============================] - 2s 11ms/step - loss: 0.0066\n",
            "Epoch 144/150\n",
            "144/144 [==============================] - 2s 11ms/step - loss: 0.0068\n",
            "Epoch 145/150\n",
            "144/144 [==============================] - 2s 11ms/step - loss: 0.0067\n",
            "Epoch 146/150\n",
            "144/144 [==============================] - 2s 11ms/step - loss: 0.0067\n",
            "Epoch 147/150\n",
            "144/144 [==============================] - 2s 11ms/step - loss: 0.0068\n",
            "Epoch 148/150\n",
            "144/144 [==============================] - 2s 11ms/step - loss: 0.0068\n",
            "Epoch 149/150\n",
            "144/144 [==============================] - 2s 11ms/step - loss: 0.0068\n",
            "Epoch 150/150\n",
            "144/144 [==============================] - 2s 11ms/step - loss: 0.0066\n"
          ],
          "name": "stdout"
        },
        {
          "output_type": "execute_result",
          "data": {
            "text/plain": [
              "<keras.callbacks.History at 0x7f288cb80ef0>"
            ]
          },
          "metadata": {
            "tags": []
          },
          "execution_count": 16
        }
      ]
    },
    {
      "metadata": {
        "id": "qwcyiSfRKqvW",
        "colab_type": "code",
        "colab": {}
      },
      "cell_type": "code",
      "source": [
        "predicted_value= model.predict(X_test)\n"
      ],
      "execution_count": 0,
      "outputs": []
    },
    {
      "metadata": {
        "id": "C9lKUAVJKwqe",
        "colab_type": "code",
        "outputId": "b29433ab-8215-4377-f19a-9436086f48e6",
        "colab": {
          "base_uri": "https://localhost:8080/",
          "height": 294
        }
      },
      "cell_type": "code",
      "source": [
        "plt.plot(predicted_value, color= 'red')\n",
        "plt.plot(input_data[:61,1], color='green')\n",
        "plt.title(\"Temperature&Vegetation\")\n",
        "plt.xlabel(\"Time (latest-> oldest)\")\n",
        "plt.ylabel(\"Vegetation\")\n",
        "plt.show()"
      ],
      "execution_count": 0,
      "outputs": [
        {
          "output_type": "display_data",
          "data": {
            "image/png": "[encoded data removed]",
            "text/plain": [
              "<Figure size 432x288 with 1 Axes>"
            ]
          },
          "metadata": {
            "tags": []
          }
        }
      ]
    },
    {
      "metadata": {
        "id": "ZVQzji9pZ_pV",
        "colab_type": "code",
        "colab": {}
      },
      "cell_type": "code",
      "source": [
        "#input_data[:61,1]\n",
        "\n"
      ],
      "execution_count": 0,
      "outputs": []
    },
    {
      "metadata": {
        "id": "t57qpPETOtTO",
        "colab_type": "code",
        "outputId": "a55e20ea-3459-405d-d036-8ef0491a56b8",
        "colab": {
          "base_uri": "https://localhost:8080/",
          "height": 34
        }
      },
      "cell_type": "code",
      "source": [
        "import sklearn\n",
        "from sklearn import metrics\n",
        "sklearn.metrics.r2_score(input_data[:61,1], predicted_value, sample_weight=None, multioutput='uniform_average')"
      ],
      "execution_count": 0,
      "outputs": [
        {
          "output_type": "execute_result",
          "data": {
            "text/plain": [
              "0.5612169072150675"
            ]
          },
          "metadata": {
            "tags": []
          },
          "execution_count": 19
        }
      ]
    },
    {
      "metadata": {
        "id": "yiiLrYqJamzU",
        "colab_type": "code",
        "outputId": "89ca0564-b2ac-4aff-899e-2ba04421d018",
        "colab": {
          "base_uri": "https://localhost:8080/",
          "height": 282
        }
      },
      "cell_type": "code",
      "source": [
        "plt.scatter(input_data[:61,1],predicted_value)"
      ],
      "execution_count": 0,
      "outputs": [
        {
          "output_type": "execute_result",
          "data": {
            "text/plain": [
              "<matplotlib.collections.PathCollection at 0x7f28748785c0>"
            ]
          },
          "metadata": {
            "tags": []
          },
          "execution_count": 20
        },
        {
          "output_type": "display_data",
          "data": {
            "image/png": "[encoded data removed]",
            "text/plain": [
              "<Figure size 432x288 with 1 Axes>"
            ]
          },
          "metadata": {
            "tags": []
          }
        }
      ]
    }
  ]
}