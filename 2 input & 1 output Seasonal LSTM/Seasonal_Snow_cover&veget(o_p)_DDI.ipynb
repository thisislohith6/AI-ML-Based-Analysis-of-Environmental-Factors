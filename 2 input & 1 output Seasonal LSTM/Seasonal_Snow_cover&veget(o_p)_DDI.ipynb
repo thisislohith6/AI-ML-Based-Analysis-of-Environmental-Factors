{
  "nbformat": 4,
  "nbformat_minor": 0,
  "metadata": {
    "colab": {
      "name": "Seasonal Snow cover&veget(o/p) DDI.ipynb",
      "version": "0.3.2",
      "provenance": []
    },
    "kernelspec": {
      "name": "python3",
      "display_name": "Python 3"
    }
  },
  "cells": [
    {
      "metadata": {
        "id": "-UXGf39gFI34",
        "colab_type": "code",
        "colab": {}
      },
      "cell_type": "code",
      "source": [
        "#https://medium.com/datadriveninvestor/multivariate-time-series-using-rnn-with-keras-7f78f4488679"
      ],
      "execution_count": 0,
      "outputs": []
    },
    {
      "metadata": {
        "id": "e1CLoOq0FUXs",
        "colab_type": "code",
        "colab": {}
      },
      "cell_type": "code",
      "source": [
        "import numpy as np\n",
        "import pandas as pd\n",
        "import matplotlib.pyplot as plt\n",
        "%matplotlib inline\n",
        "weather_data = pd.read_excel(\"/content/seasonal.xlsx\")"
      ],
      "execution_count": 0,
      "outputs": []
    },
    {
      "metadata": {
        "id": "LBIs3NphGGTG",
        "colab_type": "code",
        "outputId": "44604c5b-6ee2-4f93-f93e-7884be93559c",
        "colab": {
          "base_uri": "https://localhost:8080/",
          "height": 111
        }
      },
      "cell_type": "code",
      "source": [
        "weather_data.head(2)"
      ],
      "execution_count": 0,
      "outputs": [
        {
          "output_type": "execute_result",
          "data": {
            "text/html": [
              "<div>\n",
              "<style scoped>\n",
              "    .dataframe tbody tr th:only-of-type {\n",
              "        vertical-align: middle;\n",
              "    }\n",
              "\n",
              "    .dataframe tbody tr th {\n",
              "        vertical-align: top;\n",
              "    }\n",
              "\n",
              "    .dataframe thead th {\n",
              "        text-align: right;\n",
              "    }\n",
              "</style>\n",
              "<table border=\"1\" class=\"dataframe\">\n",
              "  <thead>\n",
              "    <tr style=\"text-align: right;\">\n",
              "      <th></th>\n",
              "      <th>Year</th>\n",
              "      <th>Temperature</th>\n",
              "      <th>NDVI</th>\n",
              "      <th>Snow Cover</th>\n",
              "    </tr>\n",
              "  </thead>\n",
              "  <tbody>\n",
              "    <tr>\n",
              "      <th>0</th>\n",
              "      <td>2001</td>\n",
              "      <td>272.6289</td>\n",
              "      <td>11208.58</td>\n",
              "      <td>6643.712500</td>\n",
              "    </tr>\n",
              "    <tr>\n",
              "      <th>1</th>\n",
              "      <td>2001</td>\n",
              "      <td>283.9209</td>\n",
              "      <td>13899.32</td>\n",
              "      <td>5613.083333</td>\n",
              "    </tr>\n",
              "  </tbody>\n",
              "</table>\n",
              "</div>"
            ],
            "text/plain": [
              "   Year  Temperature      NDVI   Snow Cover\n",
              "0  2001     272.6289  11208.58  6643.712500\n",
              "1  2001     283.9209  13899.32  5613.083333"
            ]
          },
          "metadata": {
            "tags": []
          },
          "execution_count": 31
        }
      ]
    },
    {
      "metadata": {
        "id": "jYFmD6fKG2D7",
        "colab_type": "code",
        "outputId": "ea01130d-cee2-4ac0-bdc5-c11633ab06d9",
        "colab": {
          "base_uri": "https://localhost:8080/",
          "height": 170
        }
      },
      "cell_type": "code",
      "source": [
        "weather_data.info()"
      ],
      "execution_count": 0,
      "outputs": [
        {
          "output_type": "stream",
          "text": [
            "<class 'pandas.core.frame.DataFrame'>\n",
            "RangeIndex: 69 entries, 0 to 68\n",
            "Data columns (total 4 columns):\n",
            "Year           69 non-null int64\n",
            "Temperature    69 non-null float64\n",
            "NDVI           69 non-null float64\n",
            "Snow Cover     69 non-null float64\n",
            "dtypes: float64(3), int64(1)\n",
            "memory usage: 2.2 KB\n"
          ],
          "name": "stdout"
        }
      ]
    },
    {
      "metadata": {
        "id": "jrmuDYxrHGxo",
        "colab_type": "code",
        "colab": {}
      },
      "cell_type": "code",
      "source": [
        "input_feature= weather_data.iloc[:,[2,3]].values\n",
        "input_data = input_feature"
      ],
      "execution_count": 0,
      "outputs": []
    },
    {
      "metadata": {
        "id": "jFW05QDSHHwg",
        "colab_type": "code",
        "outputId": "ec35bcef-3345-404a-dfae-c688adb21198",
        "colab": {
          "base_uri": "https://localhost:8080/",
          "height": 294
        }
      },
      "cell_type": "code",
      "source": [
        "plt.plot(input_feature[:,0])\n",
        "plt.title(\"Snow cover\")\n",
        "plt.xlabel(\"Time (latest-> oldest)\")\n",
        "plt.ylabel(\"Volume of stocks traded\")\n",
        "plt.show()"
      ],
      "execution_count": 0,
      "outputs": [
        {
          "output_type": "display_data",
          "data": {
            "image/png": "[encoded data removed]",
            "text/plain": [
              "<Figure size 432x288 with 1 Axes>"
            ]
          },
          "metadata": {
            "tags": []
          }
        }
      ]
    },
    {
      "metadata": {
        "id": "L8-HAyaRHIXx",
        "colab_type": "code",
        "outputId": "7ccd8655-42a4-4f3d-89c3-352340f5bc37",
        "colab": {
          "base_uri": "https://localhost:8080/",
          "height": 294
        }
      },
      "cell_type": "code",
      "source": [
        "plt.plot(input_feature[:,1], color='blue')\n",
        "plt.title(\"Vegetation\")\n",
        "plt.xlabel(\"Time (latest-> oldest)\")\n",
        "plt.ylabel(\"Stock Opening Price\")\n",
        "plt.show()"
      ],
      "execution_count": 0,
      "outputs": [
        {
          "output_type": "display_data",
          "data": {
            "image/png": "[encoded data removed]",
            "text/plain": [
              "<Figure size 432x288 with 1 Axes>"
            ]
          },
          "metadata": {
            "tags": []
          }
        }
      ]
    },
    {
      "metadata": {
        "id": "9oYXI2gjHI_p",
        "colab_type": "code",
        "colab": {}
      },
      "cell_type": "code",
      "source": [
        "from sklearn.preprocessing import MinMaxScaler\n",
        "sc= MinMaxScaler(feature_range=(0,1))\n",
        "input_data[:,0:2] = sc.fit_transform(input_feature[:,:])"
      ],
      "execution_count": 0,
      "outputs": []
    },
    {
      "metadata": {
        "id": "Uy_0R7yrHJxp",
        "colab_type": "code",
        "colab": {}
      },
      "cell_type": "code",
      "source": [
        "lookback= 21\n",
        "test_size=int(.3 * len(weather_data))\n",
        "X=[]\n",
        "y=[]\n",
        "for i in range(0, len(weather_data)-lookback):\n",
        "    t=[]\n",
        "    for j in range(0,lookback):\n",
        "        \n",
        "        t.append(input_data[[(i+j)], :])\n",
        "    X.append(t)\n",
        "    y.append(input_data[i,0])"
      ],
      "execution_count": 0,
      "outputs": []
    },
    {
      "metadata": {
        "id": "4xXEL05fHKg5",
        "colab_type": "code",
        "outputId": "3fa3b80a-ac4f-4639-cbf3-cdc5e78cd461",
        "colab": {
          "base_uri": "https://localhost:8080/",
          "height": 51
        }
      },
      "cell_type": "code",
      "source": [
        "X, y= np.array(X), np.array(y)\n",
        "X_test = X[:test_size]\n",
        "\n",
        "X = X.reshape(X.shape[0],lookback, 2)\n",
        "X_test = X_test.reshape(X_test.shape[0],lookback, 2)\n",
        "print(X.shape)\n",
        "print(X_test.shape)"
      ],
      "execution_count": 0,
      "outputs": [
        {
          "output_type": "stream",
          "text": [
            "(48, 21, 2)\n",
            "(20, 21, 2)\n"
          ],
          "name": "stdout"
        }
      ]
    },
    {
      "metadata": {
        "id": "V_RtsmpmKaeA",
        "colab_type": "code",
        "colab": {}
      },
      "cell_type": "code",
      "source": [
        "from keras import optimizers\n",
        "from keras import Sequential\n",
        "from keras.layers import Dense, LSTM"
      ],
      "execution_count": 0,
      "outputs": []
    },
    {
      "metadata": {
        "id": "h91UQk6sKfLl",
        "colab_type": "code",
        "outputId": "16d8c82a-d43d-4a8d-ddc8-db8909e51fd8",
        "colab": {
          "base_uri": "https://localhost:8080/",
          "height": 272
        }
      },
      "cell_type": "code",
      "source": [
        "model = Sequential()\n",
        "model.add(LSTM(units=110, return_sequences= True, input_shape=(X.shape[1],2)))\n",
        "model.add(LSTM(units=110, return_sequences=True))\n",
        "model.add(LSTM(units=110))\n",
        "model.add(Dense(units=1))\n",
        "model.summary()"
      ],
      "execution_count": 0,
      "outputs": [
        {
          "output_type": "stream",
          "text": [
            "_________________________________________________________________\n",
            "Layer (type)                 Output Shape              Param #   \n",
            "=================================================================\n",
            "lstm_4 (LSTM)                (None, 21, 110)           49720     \n",
            "_________________________________________________________________\n",
            "lstm_5 (LSTM)                (None, 21, 110)           97240     \n",
            "_________________________________________________________________\n",
            "lstm_6 (LSTM)                (None, 110)               97240     \n",
            "_________________________________________________________________\n",
            "dense_2 (Dense)              (None, 1)                 111       \n",
            "=================================================================\n",
            "Total params: 244,311\n",
            "Trainable params: 244,311\n",
            "Non-trainable params: 0\n",
            "_________________________________________________________________\n"
          ],
          "name": "stdout"
        }
      ]
    },
    {
      "metadata": {
        "id": "N0R-NTqKx_pP",
        "colab_type": "code",
        "colab": {}
      },
      "cell_type": "code",
      "source": [
        "model.compile(optimizer='rmsprop', loss='mean_squared_error')\n"
      ],
      "execution_count": 0,
      "outputs": []
    },
    {
      "metadata": {
        "id": "OqITyQp0Kox1",
        "colab_type": "code",
        "outputId": "c8d26805-af47-45a8-8471-700e9390f729",
        "colab": {
          "base_uri": "https://localhost:8080/",
          "height": 3434
        }
      },
      "cell_type": "code",
      "source": [
        "model.fit(X, y, epochs=100, batch_size=4)\n"
      ],
      "execution_count": 0,
      "outputs": [
        {
          "output_type": "stream",
          "text": [
            "Epoch 1/100\n",
            "48/48 [==============================] - 5s 94ms/step - loss: 0.1998\n",
            "Epoch 2/100\n",
            "48/48 [==============================] - 1s 22ms/step - loss: 0.0645\n",
            "Epoch 3/100\n",
            "48/48 [==============================] - 1s 24ms/step - loss: 0.0625\n",
            "Epoch 4/100\n",
            "48/48 [==============================] - 1s 21ms/step - loss: 0.0717\n",
            "Epoch 5/100\n",
            "48/48 [==============================] - 1s 21ms/step - loss: 0.0712\n",
            "Epoch 6/100\n",
            "48/48 [==============================] - 1s 22ms/step - loss: 0.0675\n",
            "Epoch 7/100\n",
            "48/48 [==============================] - 1s 22ms/step - loss: 0.0709\n",
            "Epoch 8/100\n",
            "48/48 [==============================] - 1s 22ms/step - loss: 0.0944\n",
            "Epoch 9/100\n",
            "48/48 [==============================] - 1s 26ms/step - loss: 0.0709\n",
            "Epoch 10/100\n",
            "48/48 [==============================] - 1s 27ms/step - loss: 0.0589\n",
            "Epoch 11/100\n",
            "48/48 [==============================] - 1s 26ms/step - loss: 0.0665\n",
            "Epoch 12/100\n",
            "48/48 [==============================] - 1s 24ms/step - loss: 0.0793\n",
            "Epoch 13/100\n",
            "48/48 [==============================] - 1s 25ms/step - loss: 0.0704\n",
            "Epoch 14/100\n",
            "48/48 [==============================] - 1s 24ms/step - loss: 0.0676\n",
            "Epoch 15/100\n",
            "48/48 [==============================] - 1s 25ms/step - loss: 0.0679\n",
            "Epoch 16/100\n",
            "48/48 [==============================] - 1s 25ms/step - loss: 0.0625\n",
            "Epoch 17/100\n",
            "48/48 [==============================] - 1s 25ms/step - loss: 0.0768\n",
            "Epoch 18/100\n",
            "48/48 [==============================] - 1s 24ms/step - loss: 0.0624\n",
            "Epoch 19/100\n",
            "48/48 [==============================] - 1s 24ms/step - loss: 0.0677\n",
            "Epoch 20/100\n",
            "48/48 [==============================] - 1s 23ms/step - loss: 0.0623\n",
            "Epoch 21/100\n",
            "48/48 [==============================] - 1s 23ms/step - loss: 0.0617\n",
            "Epoch 22/100\n",
            "48/48 [==============================] - 1s 23ms/step - loss: 0.0566\n",
            "Epoch 23/100\n",
            "48/48 [==============================] - 1s 23ms/step - loss: 0.0516\n",
            "Epoch 24/100\n",
            "48/48 [==============================] - 1s 24ms/step - loss: 0.0483\n",
            "Epoch 25/100\n",
            "48/48 [==============================] - 1s 23ms/step - loss: 0.0606\n",
            "Epoch 26/100\n",
            "48/48 [==============================] - 1s 23ms/step - loss: 0.0502\n",
            "Epoch 27/100\n",
            "48/48 [==============================] - 1s 23ms/step - loss: 0.0525\n",
            "Epoch 28/100\n",
            "48/48 [==============================] - 1s 24ms/step - loss: 0.0463\n",
            "Epoch 29/100\n",
            "48/48 [==============================] - 1s 25ms/step - loss: 0.0541\n",
            "Epoch 30/100\n",
            "48/48 [==============================] - 1s 23ms/step - loss: 0.0498\n",
            "Epoch 31/100\n",
            "48/48 [==============================] - 1s 24ms/step - loss: 0.0384\n",
            "Epoch 32/100\n",
            "48/48 [==============================] - 1s 25ms/step - loss: 0.0388\n",
            "Epoch 33/100\n",
            "48/48 [==============================] - 1s 25ms/step - loss: 0.0379\n",
            "Epoch 34/100\n",
            "48/48 [==============================] - 1s 24ms/step - loss: 0.0456\n",
            "Epoch 35/100\n",
            "48/48 [==============================] - 1s 25ms/step - loss: 0.0358\n",
            "Epoch 36/100\n",
            "48/48 [==============================] - 1s 23ms/step - loss: 0.0385\n",
            "Epoch 37/100\n",
            "48/48 [==============================] - 1s 24ms/step - loss: 0.0453\n",
            "Epoch 38/100\n",
            "48/48 [==============================] - 1s 24ms/step - loss: 0.0456\n",
            "Epoch 39/100\n",
            "48/48 [==============================] - 1s 25ms/step - loss: 0.0420\n",
            "Epoch 40/100\n",
            "48/48 [==============================] - 1s 25ms/step - loss: 0.0350\n",
            "Epoch 41/100\n",
            "48/48 [==============================] - 1s 25ms/step - loss: 0.0402\n",
            "Epoch 42/100\n",
            "48/48 [==============================] - 1s 25ms/step - loss: 0.0472\n",
            "Epoch 43/100\n",
            "48/48 [==============================] - 1s 25ms/step - loss: 0.0357\n",
            "Epoch 44/100\n",
            "48/48 [==============================] - 1s 24ms/step - loss: 0.0301\n",
            "Epoch 45/100\n",
            "48/48 [==============================] - 1s 24ms/step - loss: 0.0376\n",
            "Epoch 46/100\n",
            "48/48 [==============================] - 1s 24ms/step - loss: 0.0495\n",
            "Epoch 47/100\n",
            "48/48 [==============================] - 1s 24ms/step - loss: 0.0375\n",
            "Epoch 48/100\n",
            "48/48 [==============================] - 1s 23ms/step - loss: 0.0329\n",
            "Epoch 49/100\n",
            "48/48 [==============================] - 1s 23ms/step - loss: 0.0400\n",
            "Epoch 50/100\n",
            "48/48 [==============================] - 1s 24ms/step - loss: 0.0291\n",
            "Epoch 51/100\n",
            "48/48 [==============================] - 1s 25ms/step - loss: 0.0421\n",
            "Epoch 52/100\n",
            "48/48 [==============================] - 1s 26ms/step - loss: 0.0291\n",
            "Epoch 53/100\n",
            "48/48 [==============================] - 1s 25ms/step - loss: 0.0224\n",
            "Epoch 54/100\n",
            "48/48 [==============================] - 1s 24ms/step - loss: 0.0372\n",
            "Epoch 55/100\n",
            "48/48 [==============================] - 1s 24ms/step - loss: 0.0257\n",
            "Epoch 56/100\n",
            "48/48 [==============================] - 1s 23ms/step - loss: 0.0242\n",
            "Epoch 57/100\n",
            "48/48 [==============================] - 1s 24ms/step - loss: 0.0256\n",
            "Epoch 58/100\n",
            "48/48 [==============================] - 1s 24ms/step - loss: 0.0184\n",
            "Epoch 59/100\n",
            "48/48 [==============================] - 1s 23ms/step - loss: 0.0118\n",
            "Epoch 60/100\n",
            "48/48 [==============================] - 1s 24ms/step - loss: 0.0277\n",
            "Epoch 61/100\n",
            "48/48 [==============================] - 1s 23ms/step - loss: 0.0127\n",
            "Epoch 62/100\n",
            "48/48 [==============================] - 1s 23ms/step - loss: 0.0127\n",
            "Epoch 63/100\n",
            "48/48 [==============================] - 1s 24ms/step - loss: 0.0145\n",
            "Epoch 64/100\n",
            "48/48 [==============================] - 1s 25ms/step - loss: 0.0135\n",
            "Epoch 65/100\n",
            "48/48 [==============================] - 1s 25ms/step - loss: 0.0094\n",
            "Epoch 66/100\n",
            "48/48 [==============================] - 1s 24ms/step - loss: 0.0173\n",
            "Epoch 67/100\n",
            "48/48 [==============================] - 1s 24ms/step - loss: 0.0146\n",
            "Epoch 68/100\n",
            "48/48 [==============================] - 1s 24ms/step - loss: 0.0120\n",
            "Epoch 69/100\n",
            "48/48 [==============================] - 1s 26ms/step - loss: 0.0095\n",
            "Epoch 70/100\n",
            "48/48 [==============================] - 1s 27ms/step - loss: 0.0133\n",
            "Epoch 71/100\n",
            "48/48 [==============================] - 1s 25ms/step - loss: 0.0165\n",
            "Epoch 72/100\n",
            "48/48 [==============================] - 1s 25ms/step - loss: 0.0107\n",
            "Epoch 73/100\n",
            "48/48 [==============================] - 1s 26ms/step - loss: 0.0121\n",
            "Epoch 74/100\n",
            "48/48 [==============================] - 1s 24ms/step - loss: 0.0130\n",
            "Epoch 75/100\n",
            "48/48 [==============================] - 1s 24ms/step - loss: 0.0123\n",
            "Epoch 76/100\n",
            "48/48 [==============================] - 1s 26ms/step - loss: 0.0117\n",
            "Epoch 77/100\n",
            "48/48 [==============================] - 1s 24ms/step - loss: 0.0108\n",
            "Epoch 78/100\n",
            "48/48 [==============================] - 1s 24ms/step - loss: 0.0119\n",
            "Epoch 79/100\n",
            "48/48 [==============================] - 1s 26ms/step - loss: 0.0142\n",
            "Epoch 80/100\n",
            "48/48 [==============================] - 1s 26ms/step - loss: 0.0101\n",
            "Epoch 81/100\n",
            "48/48 [==============================] - 1s 25ms/step - loss: 0.0126\n",
            "Epoch 82/100\n",
            "48/48 [==============================] - 1s 24ms/step - loss: 0.0162\n",
            "Epoch 83/100\n",
            "48/48 [==============================] - 1s 25ms/step - loss: 0.0097\n",
            "Epoch 84/100\n",
            "48/48 [==============================] - 1s 25ms/step - loss: 0.0093\n",
            "Epoch 85/100\n",
            "48/48 [==============================] - 1s 24ms/step - loss: 0.0104\n",
            "Epoch 86/100\n",
            "48/48 [==============================] - 1s 25ms/step - loss: 0.0193\n",
            "Epoch 87/100\n",
            "48/48 [==============================] - 1s 24ms/step - loss: 0.0084\n",
            "Epoch 88/100\n",
            "48/48 [==============================] - 1s 25ms/step - loss: 0.0099\n",
            "Epoch 89/100\n",
            "48/48 [==============================] - 1s 24ms/step - loss: 0.0095\n",
            "Epoch 90/100\n",
            "48/48 [==============================] - 1s 23ms/step - loss: 0.0135\n",
            "Epoch 91/100\n",
            "48/48 [==============================] - 1s 24ms/step - loss: 0.0075\n",
            "Epoch 92/100\n",
            "48/48 [==============================] - 1s 24ms/step - loss: 0.0104\n",
            "Epoch 93/100\n",
            "48/48 [==============================] - 1s 24ms/step - loss: 0.0106\n",
            "Epoch 94/100\n",
            "48/48 [==============================] - 1s 25ms/step - loss: 0.0117\n",
            "Epoch 95/100\n",
            "48/48 [==============================] - 1s 24ms/step - loss: 0.0143\n",
            "Epoch 96/100\n",
            "48/48 [==============================] - 1s 25ms/step - loss: 0.0087\n",
            "Epoch 97/100\n",
            "48/48 [==============================] - 1s 24ms/step - loss: 0.0077\n",
            "Epoch 98/100\n",
            "48/48 [==============================] - 1s 24ms/step - loss: 0.0091\n",
            "Epoch 99/100\n",
            "48/48 [==============================] - 1s 24ms/step - loss: 0.0096\n",
            "Epoch 100/100\n",
            "48/48 [==============================] - 1s 26ms/step - loss: 0.0152\n"
          ],
          "name": "stdout"
        },
        {
          "output_type": "execute_result",
          "data": {
            "text/plain": [
              "<keras.callbacks.History at 0x7f9684d47c88>"
            ]
          },
          "metadata": {
            "tags": []
          },
          "execution_count": 42
        }
      ]
    },
    {
      "metadata": {
        "id": "qwcyiSfRKqvW",
        "colab_type": "code",
        "colab": {}
      },
      "cell_type": "code",
      "source": [
        "predicted_value= model.predict(X_test)\n"
      ],
      "execution_count": 0,
      "outputs": []
    },
    {
      "metadata": {
        "id": "C9lKUAVJKwqe",
        "colab_type": "code",
        "outputId": "977af085-0318-41f2-dab6-40192f43ecc4",
        "colab": {
          "base_uri": "https://localhost:8080/",
          "height": 294
        }
      },
      "cell_type": "code",
      "source": [
        "plt.plot(predicted_value, color= 'red')\n",
        "plt.plot(input_data[:20,0], color='green')\n",
        "plt.title(\"Seasonal Snow cover&veget\")\n",
        "plt.xlabel(\"Time (latest-> oldest)\")\n",
        "plt.ylabel(\"Vegetation\")\n",
        "plt.show()"
      ],
      "execution_count": 0,
      "outputs": [
        {
          "output_type": "display_data",
          "data": {
            "image/png": "[encoded data removed]",
            "text/plain": [
              "<Figure size 432x288 with 1 Axes>"
            ]
          },
          "metadata": {
            "tags": []
          }
        }
      ]
    },
    {
      "metadata": {
        "id": "t57qpPETOtTO",
        "colab_type": "code",
        "outputId": "58493b02-4e90-479a-f24c-d9f71338234c",
        "colab": {
          "base_uri": "https://localhost:8080/",
          "height": 357
        }
      },
      "cell_type": "code",
      "source": [
        "predicted_value"
      ],
      "execution_count": 0,
      "outputs": [
        {
          "output_type": "execute_result",
          "data": {
            "text/plain": [
              "array([[0.08790408],\n",
              "       [0.4913022 ],\n",
              "       [0.8466276 ],\n",
              "       [0.8476619 ],\n",
              "       [0.49719444],\n",
              "       [0.5164944 ],\n",
              "       [0.9016702 ],\n",
              "       [0.8536021 ],\n",
              "       [0.45852673],\n",
              "       [0.48258635],\n",
              "       [0.85541326],\n",
              "       [0.82926726],\n",
              "       [0.35807937],\n",
              "       [0.52618027],\n",
              "       [0.8547767 ],\n",
              "       [0.7218101 ],\n",
              "       [0.20775998],\n",
              "       [0.5419322 ],\n",
              "       [0.87315613],\n",
              "       [0.8401766 ]], dtype=float32)"
            ]
          },
          "metadata": {
            "tags": []
          },
          "execution_count": 45
        }
      ]
    },
    {
      "metadata": {
        "id": "_-t5Tq0raMS_",
        "colab_type": "code",
        "outputId": "3bebf874-ac90-4660-8f40-c216ad5d5d94",
        "colab": {
          "base_uri": "https://localhost:8080/",
          "height": 85
        }
      },
      "cell_type": "code",
      "source": [
        "input_data[:20,1]"
      ],
      "execution_count": 0,
      "outputs": [
        {
          "output_type": "execute_result",
          "data": {
            "text/plain": [
              "array([0.88220326, 0.71822495, 0.04179248, 0.28337317, 1.        ,\n",
              "       0.80815334, 0.05806495, 0.348669  , 0.62807736, 0.80538668,\n",
              "       0.02279136, 0.21077265, 0.90848277, 0.66140412, 0.03350222,\n",
              "       0.44211316, 0.8767095 , 0.84166749, 0.18088477, 0.2289778 ])"
            ]
          },
          "metadata": {
            "tags": []
          },
          "execution_count": 46
        }
      ]
    },
    {
      "metadata": {
        "id": "gv-V6atqekSY",
        "colab_type": "code",
        "colab": {}
      },
      "cell_type": "code",
      "source": [
        "rmse_test=np.sqrt(np.mean(np.power((np.array(input_data[:20,0])-np.array(predicted_value)),2)))"
      ],
      "execution_count": 0,
      "outputs": []
    },
    {
      "metadata": {
        "id": "RfklcQVcyeAa",
        "colab_type": "code",
        "outputId": "df1cbc86-92ed-4d52-cb10-3d8258b76000",
        "colab": {
          "base_uri": "https://localhost:8080/",
          "height": 34
        }
      },
      "cell_type": "code",
      "source": [
        "rmse_test"
      ],
      "execution_count": 0,
      "outputs": [
        {
          "output_type": "execute_result",
          "data": {
            "text/plain": [
              "0.3537649928676809"
            ]
          },
          "metadata": {
            "tags": []
          },
          "execution_count": 48
        }
      ]
    },
    {
      "metadata": {
        "id": "V76cEJ6Pyfku",
        "colab_type": "code",
        "outputId": "a182681a-b112-48da-f34b-60ea103e3d67",
        "colab": {
          "base_uri": "https://localhost:8080/",
          "height": 34
        }
      },
      "cell_type": "code",
      "source": [
        "import sklearn\n",
        "from sklearn import metrics\n",
        "sklearn.metrics.r2_score(input_data[:20,0], predicted_value, sample_weight=None, multioutput='uniform_average')"
      ],
      "execution_count": 0,
      "outputs": [
        {
          "output_type": "execute_result",
          "data": {
            "text/plain": [
              "0.9057882955271319"
            ]
          },
          "metadata": {
            "tags": []
          },
          "execution_count": 49
        }
      ]
    },
    {
      "metadata": {
        "id": "KEJIjThv1_p0",
        "colab_type": "code",
        "outputId": "de6d3757-7688-4d68-e3c1-3796e814c43c",
        "colab": {
          "base_uri": "https://localhost:8080/",
          "height": 282
        }
      },
      "cell_type": "code",
      "source": [
        "plt.scatter(input_data[:20,0],predicted_value)"
      ],
      "execution_count": 0,
      "outputs": [
        {
          "output_type": "execute_result",
          "data": {
            "text/plain": [
              "<matplotlib.collections.PathCollection at 0x7f9682fe5c18>"
            ]
          },
          "metadata": {
            "tags": []
          },
          "execution_count": 50
        },
        {
          "output_type": "display_data",
          "data": {
            "image/png": "[encoded data removed]",
            "text/plain": [
              "<Figure size 432x288 with 1 Axes>"
            ]
          },
          "metadata": {
            "tags": []
          }
        }
      ]
    },
    {
      "metadata": {
        "id": "VZNbnqRY2Sq1",
        "colab_type": "code",
        "colab": {}
      },
      "cell_type": "code",
      "source": [
        ""
      ],
      "execution_count": 0,
      "outputs": []
    }
  ]
}