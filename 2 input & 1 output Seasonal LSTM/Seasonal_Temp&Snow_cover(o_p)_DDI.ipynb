{
  "nbformat": 4,
  "nbformat_minor": 0,
  "metadata": {
    "colab": {
      "name": "Seasonal Temp&Snow cover(o/p) DDI.ipynb",
      "version": "0.3.2",
      "provenance": []
    },
    "kernelspec": {
      "name": "python3",
      "display_name": "Python 3"
    }
  },
  "cells": [
    {
      "metadata": {
        "id": "-UXGf39gFI34",
        "colab_type": "code",
        "colab": {}
      },
      "cell_type": "code",
      "source": [
        "#https://medium.com/datadriveninvestor/multivariate-time-series-using-rnn-with-keras-7f78f4488679"
      ],
      "execution_count": 0,
      "outputs": []
    },
    {
      "metadata": {
        "id": "e1CLoOq0FUXs",
        "colab_type": "code",
        "colab": {}
      },
      "cell_type": "code",
      "source": [
        "import numpy as np\n",
        "import pandas as pd\n",
        "import matplotlib.pyplot as plt\n",
        "%matplotlib inline\n",
        "weather_data = pd.read_excel(\"/content/seasonal.xlsx\")"
      ],
      "execution_count": 0,
      "outputs": []
    },
    {
      "metadata": {
        "id": "LBIs3NphGGTG",
        "colab_type": "code",
        "outputId": "6486d663-3796-44c8-bfcd-b164c0e21fd6",
        "colab": {
          "base_uri": "https://localhost:8080/",
          "height": 111
        }
      },
      "cell_type": "code",
      "source": [
        "weather_data.head(2)"
      ],
      "execution_count": 0,
      "outputs": [
        {
          "output_type": "execute_result",
          "data": {
            "text/html": [
              "<div>\n",
              "<style scoped>\n",
              "    .dataframe tbody tr th:only-of-type {\n",
              "        vertical-align: middle;\n",
              "    }\n",
              "\n",
              "    .dataframe tbody tr th {\n",
              "        vertical-align: top;\n",
              "    }\n",
              "\n",
              "    .dataframe thead th {\n",
              "        text-align: right;\n",
              "    }\n",
              "</style>\n",
              "<table border=\"1\" class=\"dataframe\">\n",
              "  <thead>\n",
              "    <tr style=\"text-align: right;\">\n",
              "      <th></th>\n",
              "      <th>Year</th>\n",
              "      <th>Temperature</th>\n",
              "      <th>NDVI</th>\n",
              "      <th>Snow Cover</th>\n",
              "    </tr>\n",
              "  </thead>\n",
              "  <tbody>\n",
              "    <tr>\n",
              "      <th>0</th>\n",
              "      <td>2001</td>\n",
              "      <td>272.6289</td>\n",
              "      <td>11208.58</td>\n",
              "      <td>6643.712500</td>\n",
              "    </tr>\n",
              "    <tr>\n",
              "      <th>1</th>\n",
              "      <td>2001</td>\n",
              "      <td>283.9209</td>\n",
              "      <td>13899.32</td>\n",
              "      <td>5613.083333</td>\n",
              "    </tr>\n",
              "  </tbody>\n",
              "</table>\n",
              "</div>"
            ],
            "text/plain": [
              "   Year  Temperature      NDVI   Snow Cover\n",
              "0  2001     272.6289  11208.58  6643.712500\n",
              "1  2001     283.9209  13899.32  5613.083333"
            ]
          },
          "metadata": {
            "tags": []
          },
          "execution_count": 49
        }
      ]
    },
    {
      "metadata": {
        "id": "jYFmD6fKG2D7",
        "colab_type": "code",
        "outputId": "8b3011dd-c5ed-4940-a38d-b3ce03e94f99",
        "colab": {
          "base_uri": "https://localhost:8080/",
          "height": 170
        }
      },
      "cell_type": "code",
      "source": [
        "weather_data.info()"
      ],
      "execution_count": 0,
      "outputs": [
        {
          "output_type": "stream",
          "text": [
            "<class 'pandas.core.frame.DataFrame'>\n",
            "RangeIndex: 69 entries, 0 to 68\n",
            "Data columns (total 4 columns):\n",
            "Year           69 non-null int64\n",
            "Temperature    69 non-null float64\n",
            "NDVI           69 non-null float64\n",
            "Snow Cover     69 non-null float64\n",
            "dtypes: float64(3), int64(1)\n",
            "memory usage: 2.2 KB\n"
          ],
          "name": "stdout"
        }
      ]
    },
    {
      "metadata": {
        "id": "jrmuDYxrHGxo",
        "colab_type": "code",
        "colab": {}
      },
      "cell_type": "code",
      "source": [
        "input_feature= weather_data.iloc[:,[1,3]].values\n",
        "input_data = input_feature"
      ],
      "execution_count": 0,
      "outputs": []
    },
    {
      "metadata": {
        "id": "jFW05QDSHHwg",
        "colab_type": "code",
        "outputId": "c3dd6bca-a91a-4f77-db88-edd5a4cdfc1a",
        "colab": {
          "base_uri": "https://localhost:8080/",
          "height": 294
        }
      },
      "cell_type": "code",
      "source": [
        "plt.plot(input_feature[:,0])\n",
        "plt.title(\"Temperature\")\n",
        "plt.xlabel(\"Time (latest-> oldest)\")\n",
        "plt.ylabel(\"Volume of stocks traded\")\n",
        "plt.show()"
      ],
      "execution_count": 0,
      "outputs": [
        {
          "output_type": "display_data",
          "data": {
            "image/png": "[encoded data removed]",
            "text/plain": [
              "<Figure size 432x288 with 1 Axes>"
            ]
          },
          "metadata": {
            "tags": []
          }
        }
      ]
    },
    {
      "metadata": {
        "id": "L8-HAyaRHIXx",
        "colab_type": "code",
        "outputId": "3f42c457-df2a-4c52-f13a-1f6ed072a192",
        "colab": {
          "base_uri": "https://localhost:8080/",
          "height": 294
        }
      },
      "cell_type": "code",
      "source": [
        "plt.plot(input_feature[:,1], color='blue')\n",
        "plt.title(\"Snow\")\n",
        "plt.xlabel(\"Time (latest-> oldest)\")\n",
        "plt.ylabel(\"Stock Opening Price\")\n",
        "plt.show()"
      ],
      "execution_count": 0,
      "outputs": [
        {
          "output_type": "display_data",
          "data": {
            "image/png": "[encoded data removed]",
            "text/plain": [
              "<Figure size 432x288 with 1 Axes>"
            ]
          },
          "metadata": {
            "tags": []
          }
        }
      ]
    },
    {
      "metadata": {
        "id": "9oYXI2gjHI_p",
        "colab_type": "code",
        "colab": {}
      },
      "cell_type": "code",
      "source": [
        "from sklearn.preprocessing import MinMaxScaler\n",
        "sc= MinMaxScaler(feature_range=(0,1))\n",
        "input_data[:,0:2] = sc.fit_transform(input_feature[:,:])"
      ],
      "execution_count": 0,
      "outputs": []
    },
    {
      "metadata": {
        "id": "Uy_0R7yrHJxp",
        "colab_type": "code",
        "colab": {}
      },
      "cell_type": "code",
      "source": [
        "lookback= 21\n",
        "test_size=int(.3 * len(weather_data))\n",
        "X=[]\n",
        "y=[]\n",
        "for i in range(0, len(weather_data)-lookback):\n",
        "    t=[]\n",
        "    for j in range(0,lookback):\n",
        "        \n",
        "        t.append(input_data[[(i+j)], :])\n",
        "    X.append(t)\n",
        "    y.append(input_data[i,1])"
      ],
      "execution_count": 0,
      "outputs": []
    },
    {
      "metadata": {
        "id": "4xXEL05fHKg5",
        "colab_type": "code",
        "outputId": "fdd6f253-52d4-4a53-bab0-c602bfe06c1f",
        "colab": {
          "base_uri": "https://localhost:8080/",
          "height": 51
        }
      },
      "cell_type": "code",
      "source": [
        "X, y= np.array(X), np.array(y)\n",
        "X_test = X[:test_size]\n",
        "\n",
        "X = X.reshape(X.shape[0],lookback, 2)\n",
        "X_test = X_test.reshape(X_test.shape[0],lookback, 2)\n",
        "print(X.shape)\n",
        "print(X_test.shape)"
      ],
      "execution_count": 0,
      "outputs": [
        {
          "output_type": "stream",
          "text": [
            "(48, 21, 2)\n",
            "(20, 21, 2)\n"
          ],
          "name": "stdout"
        }
      ]
    },
    {
      "metadata": {
        "id": "V_RtsmpmKaeA",
        "colab_type": "code",
        "colab": {}
      },
      "cell_type": "code",
      "source": [
        "from keras import optimizers\n",
        "from keras import Sequential\n",
        "from keras.layers import Dense, LSTM\n"
      ],
      "execution_count": 0,
      "outputs": []
    },
    {
      "metadata": {
        "id": "h91UQk6sKfLl",
        "colab_type": "code",
        "outputId": "8b837cc6-32f0-4df5-acf3-77c07210ea1b",
        "colab": {
          "base_uri": "https://localhost:8080/",
          "height": 272
        }
      },
      "cell_type": "code",
      "source": [
        "model = Sequential()\n",
        "model.add(LSTM(units=110, return_sequences= True, input_shape=(X.shape[1],2)))\n",
        "model.add(LSTM(units=110, return_sequences=True))\n",
        "model.add(LSTM(units=110))\n",
        "model.add(Dense(units=1))\n",
        "model.summary()"
      ],
      "execution_count": 0,
      "outputs": [
        {
          "output_type": "stream",
          "text": [
            "_________________________________________________________________\n",
            "Layer (type)                 Output Shape              Param #   \n",
            "=================================================================\n",
            "lstm_7 (LSTM)                (None, 21, 110)           49720     \n",
            "_________________________________________________________________\n",
            "lstm_8 (LSTM)                (None, 21, 110)           97240     \n",
            "_________________________________________________________________\n",
            "lstm_9 (LSTM)                (None, 110)               97240     \n",
            "_________________________________________________________________\n",
            "dense_3 (Dense)              (None, 1)                 111       \n",
            "=================================================================\n",
            "Total params: 244,311\n",
            "Trainable params: 244,311\n",
            "Non-trainable params: 0\n",
            "_________________________________________________________________\n"
          ],
          "name": "stdout"
        }
      ]
    },
    {
      "metadata": {
        "id": "6iUdvvZiKkz5",
        "colab_type": "code",
        "colab": {}
      },
      "cell_type": "code",
      "source": [
        "model.compile(optimizer='adamax', loss='mean_squared_error')\n"
      ],
      "execution_count": 0,
      "outputs": []
    },
    {
      "metadata": {
        "id": "OqITyQp0Kox1",
        "colab_type": "code",
        "outputId": "1bb43c04-12fe-4eb5-e570-a582d17e79c9",
        "colab": {
          "base_uri": "https://localhost:8080/",
          "height": 3434
        }
      },
      "cell_type": "code",
      "source": [
        "model.fit(X, y, epochs=100, batch_size=4)\n"
      ],
      "execution_count": 0,
      "outputs": [
        {
          "output_type": "stream",
          "text": [
            "Epoch 1/100\n",
            "48/48 [==============================] - 6s 120ms/step - loss: 0.1816\n",
            "Epoch 2/100\n",
            "48/48 [==============================] - 1s 25ms/step - loss: 0.1139\n",
            "Epoch 3/100\n",
            "48/48 [==============================] - 1s 24ms/step - loss: 0.1029\n",
            "Epoch 4/100\n",
            "48/48 [==============================] - 1s 25ms/step - loss: 0.1181\n",
            "Epoch 5/100\n",
            "48/48 [==============================] - 1s 25ms/step - loss: 0.1171\n",
            "Epoch 6/100\n",
            "48/48 [==============================] - 1s 25ms/step - loss: 0.1114\n",
            "Epoch 7/100\n",
            "48/48 [==============================] - 1s 25ms/step - loss: 0.1138\n",
            "Epoch 8/100\n",
            "48/48 [==============================] - 1s 24ms/step - loss: 0.1111\n",
            "Epoch 9/100\n",
            "48/48 [==============================] - 1s 24ms/step - loss: 0.1049\n",
            "Epoch 10/100\n",
            "48/48 [==============================] - 1s 24ms/step - loss: 0.1101\n",
            "Epoch 11/100\n",
            "48/48 [==============================] - 1s 24ms/step - loss: 0.1085\n",
            "Epoch 12/100\n",
            "48/48 [==============================] - 1s 25ms/step - loss: 0.1085\n",
            "Epoch 13/100\n",
            "48/48 [==============================] - 1s 25ms/step - loss: 0.1174\n",
            "Epoch 14/100\n",
            "48/48 [==============================] - 1s 25ms/step - loss: 0.1044\n",
            "Epoch 15/100\n",
            "48/48 [==============================] - 1s 25ms/step - loss: 0.1103\n",
            "Epoch 16/100\n",
            "48/48 [==============================] - 1s 25ms/step - loss: 0.1081\n",
            "Epoch 17/100\n",
            "48/48 [==============================] - 1s 25ms/step - loss: 0.1052\n",
            "Epoch 18/100\n",
            "48/48 [==============================] - 1s 24ms/step - loss: 0.1068\n",
            "Epoch 19/100\n",
            "48/48 [==============================] - 1s 23ms/step - loss: 0.1104\n",
            "Epoch 20/100\n",
            "48/48 [==============================] - 1s 24ms/step - loss: 0.1063\n",
            "Epoch 21/100\n",
            "48/48 [==============================] - 1s 23ms/step - loss: 0.1178\n",
            "Epoch 22/100\n",
            "48/48 [==============================] - 1s 25ms/step - loss: 0.1117\n",
            "Epoch 23/100\n",
            "48/48 [==============================] - 1s 23ms/step - loss: 0.1040\n",
            "Epoch 24/100\n",
            "48/48 [==============================] - 1s 25ms/step - loss: 0.1064\n",
            "Epoch 25/100\n",
            "48/48 [==============================] - 1s 24ms/step - loss: 0.1078\n",
            "Epoch 26/100\n",
            "48/48 [==============================] - 1s 24ms/step - loss: 0.1052\n",
            "Epoch 27/100\n",
            "48/48 [==============================] - 1s 25ms/step - loss: 0.1018\n",
            "Epoch 28/100\n",
            "48/48 [==============================] - 1s 25ms/step - loss: 0.1030\n",
            "Epoch 29/100\n",
            "48/48 [==============================] - 1s 23ms/step - loss: 0.0922\n",
            "Epoch 30/100\n",
            "48/48 [==============================] - 1s 25ms/step - loss: 0.0803\n",
            "Epoch 31/100\n",
            "48/48 [==============================] - 1s 24ms/step - loss: 0.0945\n",
            "Epoch 32/100\n",
            "48/48 [==============================] - 1s 24ms/step - loss: 0.1139\n",
            "Epoch 33/100\n",
            "48/48 [==============================] - 1s 25ms/step - loss: 0.0942\n",
            "Epoch 34/100\n",
            "48/48 [==============================] - 1s 23ms/step - loss: 0.0928\n",
            "Epoch 35/100\n",
            "48/48 [==============================] - 1s 22ms/step - loss: 0.0805\n",
            "Epoch 36/100\n",
            "48/48 [==============================] - 1s 25ms/step - loss: 0.0746\n",
            "Epoch 37/100\n",
            "48/48 [==============================] - 1s 16ms/step - loss: 0.0752\n",
            "Epoch 38/100\n",
            "48/48 [==============================] - 1s 12ms/step - loss: 0.0787\n",
            "Epoch 39/100\n",
            "48/48 [==============================] - 1s 14ms/step - loss: 0.1180\n",
            "Epoch 40/100\n",
            "48/48 [==============================] - 1s 14ms/step - loss: 0.0896\n",
            "Epoch 41/100\n",
            "48/48 [==============================] - 1s 13ms/step - loss: 0.0781\n",
            "Epoch 42/100\n",
            "48/48 [==============================] - 1s 13ms/step - loss: 0.0815\n",
            "Epoch 43/100\n",
            "48/48 [==============================] - 1s 13ms/step - loss: 0.0896\n",
            "Epoch 44/100\n",
            "48/48 [==============================] - 1s 13ms/step - loss: 0.0669\n",
            "Epoch 45/100\n",
            "48/48 [==============================] - 1s 13ms/step - loss: 0.0652\n",
            "Epoch 46/100\n",
            "48/48 [==============================] - 1s 13ms/step - loss: 0.0673\n",
            "Epoch 47/100\n",
            "48/48 [==============================] - 1s 13ms/step - loss: 0.0631\n",
            "Epoch 48/100\n",
            "48/48 [==============================] - 1s 13ms/step - loss: 0.0570\n",
            "Epoch 49/100\n",
            "48/48 [==============================] - 1s 13ms/step - loss: 0.0634\n",
            "Epoch 50/100\n",
            "48/48 [==============================] - 1s 13ms/step - loss: 0.0576\n",
            "Epoch 51/100\n",
            "48/48 [==============================] - 1s 13ms/step - loss: 0.0894\n",
            "Epoch 52/100\n",
            "48/48 [==============================] - 1s 13ms/step - loss: 0.0678\n",
            "Epoch 53/100\n",
            "48/48 [==============================] - 1s 13ms/step - loss: 0.0612\n",
            "Epoch 54/100\n",
            "48/48 [==============================] - 1s 13ms/step - loss: 0.0585\n",
            "Epoch 55/100\n",
            "48/48 [==============================] - 1s 13ms/step - loss: 0.0601\n",
            "Epoch 56/100\n",
            "48/48 [==============================] - 1s 12ms/step - loss: 0.0542\n",
            "Epoch 57/100\n",
            "48/48 [==============================] - 1s 11ms/step - loss: 0.0586\n",
            "Epoch 58/100\n",
            "48/48 [==============================] - 1s 11ms/step - loss: 0.0539\n",
            "Epoch 59/100\n",
            "48/48 [==============================] - 1s 12ms/step - loss: 0.0517\n",
            "Epoch 60/100\n",
            "48/48 [==============================] - 1s 12ms/step - loss: 0.0545\n",
            "Epoch 61/100\n",
            "48/48 [==============================] - 1s 13ms/step - loss: 0.0556\n",
            "Epoch 62/100\n",
            "48/48 [==============================] - 1s 13ms/step - loss: 0.0585\n",
            "Epoch 63/100\n",
            "48/48 [==============================] - 1s 12ms/step - loss: 0.0522\n",
            "Epoch 64/100\n",
            "48/48 [==============================] - 1s 12ms/step - loss: 0.0556\n",
            "Epoch 65/100\n",
            "48/48 [==============================] - 1s 12ms/step - loss: 0.0505\n",
            "Epoch 66/100\n",
            "48/48 [==============================] - 1s 11ms/step - loss: 0.0515\n",
            "Epoch 67/100\n",
            "48/48 [==============================] - 1s 12ms/step - loss: 0.0503\n",
            "Epoch 68/100\n",
            "48/48 [==============================] - 1s 12ms/step - loss: 0.0493\n",
            "Epoch 69/100\n",
            "48/48 [==============================] - 1s 12ms/step - loss: 0.0530\n",
            "Epoch 70/100\n",
            "48/48 [==============================] - 1s 12ms/step - loss: 0.0531\n",
            "Epoch 71/100\n",
            "48/48 [==============================] - 1s 12ms/step - loss: 0.0480\n",
            "Epoch 72/100\n",
            "48/48 [==============================] - 1s 19ms/step - loss: 0.0519\n",
            "Epoch 73/100\n",
            "48/48 [==============================] - 1s 24ms/step - loss: 0.0513\n",
            "Epoch 74/100\n",
            "48/48 [==============================] - 1s 24ms/step - loss: 0.0490\n",
            "Epoch 75/100\n",
            "48/48 [==============================] - 1s 22ms/step - loss: 0.0490\n",
            "Epoch 76/100\n",
            "48/48 [==============================] - 1s 24ms/step - loss: 0.0455\n",
            "Epoch 77/100\n",
            "48/48 [==============================] - 1s 23ms/step - loss: 0.0468\n",
            "Epoch 78/100\n",
            "48/48 [==============================] - 1s 22ms/step - loss: 0.0501\n",
            "Epoch 79/100\n",
            "48/48 [==============================] - 1s 20ms/step - loss: 0.0508\n",
            "Epoch 80/100\n",
            "48/48 [==============================] - 1s 21ms/step - loss: 0.0417\n",
            "Epoch 81/100\n",
            "48/48 [==============================] - 1s 21ms/step - loss: 0.0423\n",
            "Epoch 82/100\n",
            "48/48 [==============================] - 1s 21ms/step - loss: 0.0449\n",
            "Epoch 83/100\n",
            "48/48 [==============================] - 1s 23ms/step - loss: 0.0421\n",
            "Epoch 84/100\n",
            "48/48 [==============================] - 1s 25ms/step - loss: 0.0340\n",
            "Epoch 85/100\n",
            "48/48 [==============================] - 1s 25ms/step - loss: 0.0286\n",
            "Epoch 86/100\n",
            "48/48 [==============================] - 1s 25ms/step - loss: 0.0293\n",
            "Epoch 87/100\n",
            "48/48 [==============================] - 1s 25ms/step - loss: 0.0198\n",
            "Epoch 88/100\n",
            "48/48 [==============================] - 1s 25ms/step - loss: 0.0157\n",
            "Epoch 89/100\n",
            "48/48 [==============================] - 1s 25ms/step - loss: 0.0103\n",
            "Epoch 90/100\n",
            "48/48 [==============================] - 1s 25ms/step - loss: 0.0088\n",
            "Epoch 91/100\n",
            "48/48 [==============================] - 1s 26ms/step - loss: 0.0105\n",
            "Epoch 92/100\n",
            "48/48 [==============================] - 1s 26ms/step - loss: 0.0082\n",
            "Epoch 93/100\n",
            "48/48 [==============================] - 1s 24ms/step - loss: 0.0107\n",
            "Epoch 94/100\n",
            "48/48 [==============================] - 1s 25ms/step - loss: 0.0121\n",
            "Epoch 95/100\n",
            "48/48 [==============================] - 1s 24ms/step - loss: 0.0077\n",
            "Epoch 96/100\n",
            "48/48 [==============================] - 1s 25ms/step - loss: 0.0089\n",
            "Epoch 97/100\n",
            "48/48 [==============================] - 1s 24ms/step - loss: 0.0084\n",
            "Epoch 98/100\n",
            "48/48 [==============================] - 1s 25ms/step - loss: 0.0084\n",
            "Epoch 99/100\n",
            "48/48 [==============================] - 1s 24ms/step - loss: 0.0097\n",
            "Epoch 100/100\n",
            "48/48 [==============================] - 1s 25ms/step - loss: 0.0080\n"
          ],
          "name": "stdout"
        },
        {
          "output_type": "execute_result",
          "data": {
            "text/plain": [
              "<keras.callbacks.History at 0x7fc5c5c22208>"
            ]
          },
          "metadata": {
            "tags": []
          },
          "execution_count": 60
        }
      ]
    },
    {
      "metadata": {
        "id": "qwcyiSfRKqvW",
        "colab_type": "code",
        "colab": {}
      },
      "cell_type": "code",
      "source": [
        "predicted_value= model.predict(X_test)\n"
      ],
      "execution_count": 0,
      "outputs": []
    },
    {
      "metadata": {
        "id": "C9lKUAVJKwqe",
        "colab_type": "code",
        "outputId": "29fd5b0a-cd38-4375-e305-359ccc8a0cb0",
        "colab": {
          "base_uri": "https://localhost:8080/",
          "height": 294
        }
      },
      "cell_type": "code",
      "source": [
        "plt.plot(predicted_value, color= 'red')\n",
        "plt.plot(input_data[:20,1], color='green')\n",
        "plt.title(\"Seasonal Temp&Snow cover\")\n",
        "plt.xlabel(\"Time (latest-> oldest)\")\n",
        "plt.ylabel(\"Snow cover\")\n",
        "plt.show()"
      ],
      "execution_count": 0,
      "outputs": [
        {
          "output_type": "display_data",
          "data": {
            "image/png": "[encoded data removed]",
            "text/plain": [
              "<Figure size 432x288 with 1 Axes>"
            ]
          },
          "metadata": {
            "tags": []
          }
        }
      ]
    },
    {
      "metadata": {
        "id": "xqYyx9gETN8J",
        "colab_type": "code",
        "outputId": "06443b2d-e7c5-4a13-81ef-8cab77e441f0",
        "colab": {
          "base_uri": "https://localhost:8080/",
          "height": 85
        }
      },
      "cell_type": "code",
      "source": [
        "print(input_data[:20,1])"
      ],
      "execution_count": 0,
      "outputs": [
        {
          "output_type": "stream",
          "text": [
            "[0.88220326 0.71822495 0.04179248 0.28337317 1.         0.80815334\n",
            " 0.05806495 0.348669   0.62807736 0.80538668 0.02279136 0.21077265\n",
            " 0.90848277 0.66140412 0.03350222 0.44211316 0.8767095  0.84166749\n",
            " 0.18088477 0.2289778 ]\n"
          ],
          "name": "stdout"
        }
      ]
    },
    {
      "metadata": {
        "id": "HnMVgSvPn1W8",
        "colab_type": "code",
        "outputId": "e47011aa-0e48-4683-ab17-2aece850f8a0",
        "colab": {
          "base_uri": "https://localhost:8080/",
          "height": 357
        }
      },
      "cell_type": "code",
      "source": [
        "predicted_value"
      ],
      "execution_count": 0,
      "outputs": [
        {
          "output_type": "execute_result",
          "data": {
            "text/plain": [
              "array([[0.8118627 ],\n",
              "       [0.73062915],\n",
              "       [0.05951636],\n",
              "       [0.39744318],\n",
              "       [0.9631863 ],\n",
              "       [0.7926452 ],\n",
              "       [0.05842061],\n",
              "       [0.33239132],\n",
              "       [0.9078516 ],\n",
              "       [0.8122577 ],\n",
              "       [0.05502224],\n",
              "       [0.40358388],\n",
              "       [0.9370385 ],\n",
              "       [0.71234643],\n",
              "       [0.0613298 ],\n",
              "       [0.5041538 ],\n",
              "       [0.9697392 ],\n",
              "       [0.7815091 ],\n",
              "       [0.06059502],\n",
              "       [0.35343182]], dtype=float32)"
            ]
          },
          "metadata": {
            "tags": []
          },
          "execution_count": 64
        }
      ]
    },
    {
      "metadata": {
        "id": "5dXLWSl6URek",
        "colab_type": "code",
        "colab": {}
      },
      "cell_type": "code",
      "source": [
        "rmse_test=np.sqrt(np.mean(np.power((np.array(input_data[:20,1])-np.array(predicted_value)),2)))"
      ],
      "execution_count": 0,
      "outputs": []
    },
    {
      "metadata": {
        "id": "i7QqgSQRVQbg",
        "colab_type": "code",
        "outputId": "fdc720ab-1514-4532-9fdc-5122e35a7f6b",
        "colab": {
          "base_uri": "https://localhost:8080/",
          "height": 34
        }
      },
      "cell_type": "code",
      "source": [
        "rmse_test"
      ],
      "execution_count": 0,
      "outputs": [
        {
          "output_type": "execute_result",
          "data": {
            "text/plain": [
              "0.4783483723388139"
            ]
          },
          "metadata": {
            "tags": []
          },
          "execution_count": 66
        }
      ]
    },
    {
      "metadata": {
        "id": "dkUQVOKwHvOX",
        "colab_type": "code",
        "outputId": "2b446960-5685-4943-a984-831fd2aeca6b",
        "colab": {
          "base_uri": "https://localhost:8080/",
          "height": 34
        }
      },
      "cell_type": "code",
      "source": [
        "import sklearn\n",
        "from sklearn import metrics\n",
        "sklearn.metrics.r2_score(input_data[:20,1], predicted_value, sample_weight=None, multioutput='uniform_average')"
      ],
      "execution_count": 0,
      "outputs": [
        {
          "output_type": "execute_result",
          "data": {
            "text/plain": [
              "0.9180359838327001"
            ]
          },
          "metadata": {
            "tags": []
          },
          "execution_count": 67
        }
      ]
    },
    {
      "metadata": {
        "id": "UF60f6ApHyUN",
        "colab_type": "code",
        "outputId": "86f5e4bf-dabf-45f9-9953-13d36c9557ec",
        "colab": {
          "base_uri": "https://localhost:8080/",
          "height": 282
        }
      },
      "cell_type": "code",
      "source": [
        "plt.scatter(input_data[:20,1],predicted_value)"
      ],
      "execution_count": 0,
      "outputs": [
        {
          "output_type": "execute_result",
          "data": {
            "text/plain": [
              "<matplotlib.collections.PathCollection at 0x7fc5c59e1be0>"
            ]
          },
          "metadata": {
            "tags": []
          },
          "execution_count": 68
        },
        {
          "output_type": "display_data",
          "data": {
            "image/png": "[encoded data removed]",
            "text/plain": [
              "<Figure size 432x288 with 1 Axes>"
            ]
          },
          "metadata": {
            "tags": []
          }
        }
      ]
    },
    {
      "metadata": {
        "id": "lWDNd4Xv2tUc",
        "colab_type": "code",
        "colab": {}
      },
      "cell_type": "code",
      "source": [
        ""
      ],
      "execution_count": 0,
      "outputs": []
    }
  ]
}