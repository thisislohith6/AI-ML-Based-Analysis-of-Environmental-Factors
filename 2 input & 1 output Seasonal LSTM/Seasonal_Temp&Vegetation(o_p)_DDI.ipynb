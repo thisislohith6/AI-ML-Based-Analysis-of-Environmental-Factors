{
  "nbformat": 4,
  "nbformat_minor": 0,
  "metadata": {
    "colab": {
      "name": "Seasonal Temp&Vegetation(o/p) DDI.ipynb",
      "version": "0.3.2",
      "provenance": []
    },
    "kernelspec": {
      "name": "python3",
      "display_name": "Python 3"
    }
  },
  "cells": [
    {
      "metadata": {
        "id": "-UXGf39gFI34",
        "colab_type": "code",
        "colab": {}
      },
      "cell_type": "code",
      "source": [
        "#https://medium.com/datadriveninvestor/multivariate-time-series-using-rnn-with-keras-7f78f4488679"
      ],
      "execution_count": 0,
      "outputs": []
    },
    {
      "metadata": {
        "id": "e1CLoOq0FUXs",
        "colab_type": "code",
        "colab": {}
      },
      "cell_type": "code",
      "source": [
        "import numpy as np\n",
        "import pandas as pd\n",
        "import matplotlib.pyplot as plt\n",
        "%matplotlib inline\n",
        "weather_data = pd.read_excel(\"/content/seasonal.xlsx\")"
      ],
      "execution_count": 0,
      "outputs": []
    },
    {
      "metadata": {
        "id": "LBIs3NphGGTG",
        "colab_type": "code",
        "outputId": "eee1cf29-fa59-4f23-932c-d929758218e3",
        "colab": {
          "base_uri": "https://localhost:8080/",
          "height": 111
        }
      },
      "cell_type": "code",
      "source": [
        "weather_data.head(2)"
      ],
      "execution_count": 0,
      "outputs": [
        {
          "output_type": "execute_result",
          "data": {
            "text/html": [
              "<div>\n",
              "<style scoped>\n",
              "    .dataframe tbody tr th:only-of-type {\n",
              "        vertical-align: middle;\n",
              "    }\n",
              "\n",
              "    .dataframe tbody tr th {\n",
              "        vertical-align: top;\n",
              "    }\n",
              "\n",
              "    .dataframe thead th {\n",
              "        text-align: right;\n",
              "    }\n",
              "</style>\n",
              "<table border=\"1\" class=\"dataframe\">\n",
              "  <thead>\n",
              "    <tr style=\"text-align: right;\">\n",
              "      <th></th>\n",
              "      <th>Year</th>\n",
              "      <th>Temperature</th>\n",
              "      <th>NDVI</th>\n",
              "      <th>Snow Cover</th>\n",
              "    </tr>\n",
              "  </thead>\n",
              "  <tbody>\n",
              "    <tr>\n",
              "      <th>0</th>\n",
              "      <td>2001</td>\n",
              "      <td>272.6289</td>\n",
              "      <td>11208.58</td>\n",
              "      <td>6643.712500</td>\n",
              "    </tr>\n",
              "    <tr>\n",
              "      <th>1</th>\n",
              "      <td>2001</td>\n",
              "      <td>283.9209</td>\n",
              "      <td>13899.32</td>\n",
              "      <td>5613.083333</td>\n",
              "    </tr>\n",
              "  </tbody>\n",
              "</table>\n",
              "</div>"
            ],
            "text/plain": [
              "   Year  Temperature      NDVI   Snow Cover\n",
              "0  2001     272.6289  11208.58  6643.712500\n",
              "1  2001     283.9209  13899.32  5613.083333"
            ]
          },
          "metadata": {
            "tags": []
          },
          "execution_count": 69
        }
      ]
    },
    {
      "metadata": {
        "id": "jYFmD6fKG2D7",
        "colab_type": "code",
        "outputId": "b4445bd9-6eb2-4ec8-bada-5c9559280b27",
        "colab": {
          "base_uri": "https://localhost:8080/",
          "height": 170
        }
      },
      "cell_type": "code",
      "source": [
        "weather_data.info()"
      ],
      "execution_count": 0,
      "outputs": [
        {
          "output_type": "stream",
          "text": [
            "<class 'pandas.core.frame.DataFrame'>\n",
            "RangeIndex: 69 entries, 0 to 68\n",
            "Data columns (total 4 columns):\n",
            "Year           69 non-null int64\n",
            "Temperature    69 non-null float64\n",
            "NDVI           69 non-null float64\n",
            "Snow Cover     69 non-null float64\n",
            "dtypes: float64(3), int64(1)\n",
            "memory usage: 2.2 KB\n"
          ],
          "name": "stdout"
        }
      ]
    },
    {
      "metadata": {
        "id": "jrmuDYxrHGxo",
        "colab_type": "code",
        "colab": {}
      },
      "cell_type": "code",
      "source": [
        "input_feature= weather_data.iloc[:,[1,2]].values\n",
        "input_data = input_feature"
      ],
      "execution_count": 0,
      "outputs": []
    },
    {
      "metadata": {
        "id": "jFW05QDSHHwg",
        "colab_type": "code",
        "outputId": "ee8cb6ee-3cf8-4410-bd39-6fc15b135fe7",
        "colab": {
          "base_uri": "https://localhost:8080/",
          "height": 294
        }
      },
      "cell_type": "code",
      "source": [
        "plt.plot(input_feature[:,0])\n",
        "plt.title(\"Temperature\")\n",
        "plt.xlabel(\"Time (latest-> oldest)\")\n",
        "plt.ylabel(\"Volume of stocks traded\")\n",
        "plt.show()"
      ],
      "execution_count": 0,
      "outputs": [
        {
          "output_type": "display_data",
          "data": {
            "image/png": "[encoded data removed]",
            "text/plain": [
              "<Figure size 432x288 with 1 Axes>"
            ]
          },
          "metadata": {
            "tags": []
          }
        }
      ]
    },
    {
      "metadata": {
        "id": "L8-HAyaRHIXx",
        "colab_type": "code",
        "outputId": "c4e4bd11-772f-4be4-9b14-0183c7f18b07",
        "colab": {
          "base_uri": "https://localhost:8080/",
          "height": 294
        }
      },
      "cell_type": "code",
      "source": [
        "plt.plot(input_feature[:,1], color='blue')\n",
        "plt.title(\"Vegetation\")\n",
        "plt.xlabel(\"Time (latest-> oldest)\")\n",
        "plt.ylabel(\"Stock Opening Price\")\n",
        "plt.show()"
      ],
      "execution_count": 0,
      "outputs": [
        {
          "output_type": "display_data",
          "data": {
            "image/png": "[encoded data removed]",
            "text/plain": [
              "<Figure size 432x288 with 1 Axes>"
            ]
          },
          "metadata": {
            "tags": []
          }
        }
      ]
    },
    {
      "metadata": {
        "id": "9oYXI2gjHI_p",
        "colab_type": "code",
        "colab": {}
      },
      "cell_type": "code",
      "source": [
        "from sklearn.preprocessing import MinMaxScaler\n",
        "sc= MinMaxScaler(feature_range=(0,1))\n",
        "input_data[:,0:2] = sc.fit_transform(input_feature[:,:])"
      ],
      "execution_count": 0,
      "outputs": []
    },
    {
      "metadata": {
        "id": "Uy_0R7yrHJxp",
        "colab_type": "code",
        "colab": {}
      },
      "cell_type": "code",
      "source": [
        "lookback= 21\n",
        "test_size=int(.3 * len(weather_data))\n",
        "X=[]\n",
        "y=[]\n",
        "for i in range(0, len(weather_data)-lookback):\n",
        "    t=[]\n",
        "    for j in range(0,lookback):\n",
        "        \n",
        "        t.append(input_data[[(i+j)], :])\n",
        "    X.append(t)\n",
        "    y.append(input_data[i,1])"
      ],
      "execution_count": 0,
      "outputs": []
    },
    {
      "metadata": {
        "id": "4xXEL05fHKg5",
        "colab_type": "code",
        "outputId": "e89a15e2-c094-4cee-fa77-394891a3d269",
        "colab": {
          "base_uri": "https://localhost:8080/",
          "height": 51
        }
      },
      "cell_type": "code",
      "source": [
        "X, y= np.array(X), np.array(y)\n",
        "X_test = X[:test_size]\n",
        "\n",
        "X = X.reshape(X.shape[0],lookback, 2)\n",
        "X_test = X_test.reshape(X_test.shape[0],lookback, 2)\n",
        "print(X.shape)\n",
        "print(X_test.shape)"
      ],
      "execution_count": 0,
      "outputs": [
        {
          "output_type": "stream",
          "text": [
            "(48, 21, 2)\n",
            "(20, 21, 2)\n"
          ],
          "name": "stdout"
        }
      ]
    },
    {
      "metadata": {
        "id": "V_RtsmpmKaeA",
        "colab_type": "code",
        "colab": {}
      },
      "cell_type": "code",
      "source": [
        "from keras import optimizers\n",
        "from keras import Sequential\n",
        "from keras.layers import Dense, LSTM"
      ],
      "execution_count": 0,
      "outputs": []
    },
    {
      "metadata": {
        "id": "h91UQk6sKfLl",
        "colab_type": "code",
        "outputId": "5fbb69c3-23d8-44c6-d78c-410981e9f386",
        "colab": {
          "base_uri": "https://localhost:8080/",
          "height": 272
        }
      },
      "cell_type": "code",
      "source": [
        "model = Sequential()\n",
        "model.add(LSTM(units=110, return_sequences= True, input_shape=(X.shape[1],2)))\n",
        "model.add(LSTM(units=110, return_sequences=True))\n",
        "model.add(LSTM(units=110))\n",
        "model.add(Dense(units=1))\n",
        "model.summary()"
      ],
      "execution_count": 0,
      "outputs": [
        {
          "output_type": "stream",
          "text": [
            "_________________________________________________________________\n",
            "Layer (type)                 Output Shape              Param #   \n",
            "=================================================================\n",
            "lstm_10 (LSTM)               (None, 21, 110)           49720     \n",
            "_________________________________________________________________\n",
            "lstm_11 (LSTM)               (None, 21, 110)           97240     \n",
            "_________________________________________________________________\n",
            "lstm_12 (LSTM)               (None, 110)               97240     \n",
            "_________________________________________________________________\n",
            "dense_4 (Dense)              (None, 1)                 111       \n",
            "=================================================================\n",
            "Total params: 244,311\n",
            "Trainable params: 244,311\n",
            "Non-trainable params: 0\n",
            "_________________________________________________________________\n"
          ],
          "name": "stdout"
        }
      ]
    },
    {
      "metadata": {
        "id": "6iUdvvZiKkz5",
        "colab_type": "code",
        "colab": {}
      },
      "cell_type": "code",
      "source": [
        "model.compile(optimizer='rmsprop', loss='mean_squared_error')\n"
      ],
      "execution_count": 0,
      "outputs": []
    },
    {
      "metadata": {
        "id": "OqITyQp0Kox1",
        "colab_type": "code",
        "outputId": "4e1623cc-d882-4004-d1fb-1ff0310d769c",
        "colab": {
          "base_uri": "https://localhost:8080/",
          "height": 3434
        }
      },
      "cell_type": "code",
      "source": [
        "model.fit(X, y, epochs=100, batch_size=4)\n"
      ],
      "execution_count": 0,
      "outputs": [
        {
          "output_type": "stream",
          "text": [
            "Epoch 1/100\n",
            "48/48 [==============================] - 7s 140ms/step - loss: 0.1623\n",
            "Epoch 2/100\n",
            "48/48 [==============================] - 1s 25ms/step - loss: 0.0848\n",
            "Epoch 3/100\n",
            "48/48 [==============================] - 1s 26ms/step - loss: 0.0767\n",
            "Epoch 4/100\n",
            "48/48 [==============================] - 1s 27ms/step - loss: 0.0946\n",
            "Epoch 5/100\n",
            "48/48 [==============================] - 1s 24ms/step - loss: 0.0789\n",
            "Epoch 6/100\n",
            "48/48 [==============================] - 1s 25ms/step - loss: 0.0825\n",
            "Epoch 7/100\n",
            "48/48 [==============================] - 1s 24ms/step - loss: 0.0724\n",
            "Epoch 8/100\n",
            "48/48 [==============================] - 1s 24ms/step - loss: 0.0768\n",
            "Epoch 9/100\n",
            "48/48 [==============================] - 1s 25ms/step - loss: 0.0671\n",
            "Epoch 10/100\n",
            "48/48 [==============================] - 1s 25ms/step - loss: 0.0469\n",
            "Epoch 11/100\n",
            "48/48 [==============================] - 1s 25ms/step - loss: 0.0741\n",
            "Epoch 12/100\n",
            "48/48 [==============================] - 1s 26ms/step - loss: 0.0619\n",
            "Epoch 13/100\n",
            "48/48 [==============================] - 1s 27ms/step - loss: 0.0764\n",
            "Epoch 14/100\n",
            "48/48 [==============================] - 1s 25ms/step - loss: 0.0674\n",
            "Epoch 15/100\n",
            "48/48 [==============================] - 1s 25ms/step - loss: 0.0682\n",
            "Epoch 16/100\n",
            "48/48 [==============================] - 1s 25ms/step - loss: 0.0697\n",
            "Epoch 17/100\n",
            "48/48 [==============================] - 1s 26ms/step - loss: 0.0635\n",
            "Epoch 18/100\n",
            "48/48 [==============================] - 1s 25ms/step - loss: 0.0730\n",
            "Epoch 19/100\n",
            "48/48 [==============================] - 1s 25ms/step - loss: 0.0711\n",
            "Epoch 20/100\n",
            "48/48 [==============================] - 1s 25ms/step - loss: 0.0740\n",
            "Epoch 21/100\n",
            "48/48 [==============================] - 1s 25ms/step - loss: 0.0580\n",
            "Epoch 22/100\n",
            "48/48 [==============================] - 1s 26ms/step - loss: 0.0519\n",
            "Epoch 23/100\n",
            "48/48 [==============================] - 1s 25ms/step - loss: 0.0453\n",
            "Epoch 24/100\n",
            "48/48 [==============================] - 1s 25ms/step - loss: 0.0264\n",
            "Epoch 25/100\n",
            "48/48 [==============================] - 1s 25ms/step - loss: 0.0228\n",
            "Epoch 26/100\n",
            "48/48 [==============================] - 1s 24ms/step - loss: 0.0240\n",
            "Epoch 27/100\n",
            "48/48 [==============================] - 1s 25ms/step - loss: 0.0199\n",
            "Epoch 28/100\n",
            "48/48 [==============================] - 1s 25ms/step - loss: 0.0171\n",
            "Epoch 29/100\n",
            "48/48 [==============================] - 1s 25ms/step - loss: 0.0251\n",
            "Epoch 30/100\n",
            "48/48 [==============================] - 1s 24ms/step - loss: 0.0167\n",
            "Epoch 31/100\n",
            "48/48 [==============================] - 1s 26ms/step - loss: 0.0234\n",
            "Epoch 32/100\n",
            "48/48 [==============================] - 1s 25ms/step - loss: 0.0179\n",
            "Epoch 33/100\n",
            "48/48 [==============================] - 1s 23ms/step - loss: 0.0182\n",
            "Epoch 34/100\n",
            "48/48 [==============================] - 1s 23ms/step - loss: 0.0138\n",
            "Epoch 35/100\n",
            "48/48 [==============================] - 1s 24ms/step - loss: 0.0238\n",
            "Epoch 36/100\n",
            "48/48 [==============================] - 1s 24ms/step - loss: 0.0163\n",
            "Epoch 37/100\n",
            "48/48 [==============================] - 1s 24ms/step - loss: 0.0163\n",
            "Epoch 38/100\n",
            "48/48 [==============================] - 1s 24ms/step - loss: 0.0174\n",
            "Epoch 39/100\n",
            "48/48 [==============================] - 1s 23ms/step - loss: 0.0180\n",
            "Epoch 40/100\n",
            "48/48 [==============================] - 1s 25ms/step - loss: 0.0179\n",
            "Epoch 41/100\n",
            "48/48 [==============================] - 1s 25ms/step - loss: 0.0156\n",
            "Epoch 42/100\n",
            "48/48 [==============================] - 1s 23ms/step - loss: 0.0182\n",
            "Epoch 43/100\n",
            "48/48 [==============================] - 1s 25ms/step - loss: 0.0155\n",
            "Epoch 44/100\n",
            "48/48 [==============================] - 1s 24ms/step - loss: 0.0178\n",
            "Epoch 45/100\n",
            "48/48 [==============================] - 1s 24ms/step - loss: 0.0173\n",
            "Epoch 46/100\n",
            "48/48 [==============================] - 1s 24ms/step - loss: 0.0171\n",
            "Epoch 47/100\n",
            "48/48 [==============================] - 1s 24ms/step - loss: 0.0161\n",
            "Epoch 48/100\n",
            "48/48 [==============================] - 1s 26ms/step - loss: 0.0153\n",
            "Epoch 49/100\n",
            "48/48 [==============================] - 1s 24ms/step - loss: 0.0137\n",
            "Epoch 50/100\n",
            "48/48 [==============================] - 1s 25ms/step - loss: 0.0178\n",
            "Epoch 51/100\n",
            "48/48 [==============================] - 1s 25ms/step - loss: 0.0148\n",
            "Epoch 52/100\n",
            "48/48 [==============================] - 1s 25ms/step - loss: 0.0156\n",
            "Epoch 53/100\n",
            "48/48 [==============================] - 1s 26ms/step - loss: 0.0142\n",
            "Epoch 54/100\n",
            "48/48 [==============================] - 1s 25ms/step - loss: 0.0161\n",
            "Epoch 55/100\n",
            "48/48 [==============================] - 1s 25ms/step - loss: 0.0131\n",
            "Epoch 56/100\n",
            "48/48 [==============================] - 1s 25ms/step - loss: 0.0156\n",
            "Epoch 57/100\n",
            "48/48 [==============================] - 1s 25ms/step - loss: 0.0137\n",
            "Epoch 58/100\n",
            "48/48 [==============================] - 1s 24ms/step - loss: 0.0137\n",
            "Epoch 59/100\n",
            "48/48 [==============================] - 1s 25ms/step - loss: 0.0115\n",
            "Epoch 60/100\n",
            "48/48 [==============================] - 1s 23ms/step - loss: 0.0120\n",
            "Epoch 61/100\n",
            "48/48 [==============================] - 1s 24ms/step - loss: 0.0120\n",
            "Epoch 62/100\n",
            "48/48 [==============================] - 1s 25ms/step - loss: 0.0153\n",
            "Epoch 63/100\n",
            "48/48 [==============================] - 1s 25ms/step - loss: 0.0122\n",
            "Epoch 64/100\n",
            "48/48 [==============================] - 1s 23ms/step - loss: 0.0115\n",
            "Epoch 65/100\n",
            "48/48 [==============================] - 1s 25ms/step - loss: 0.0108\n",
            "Epoch 66/100\n",
            "48/48 [==============================] - 1s 26ms/step - loss: 0.0153\n",
            "Epoch 67/100\n",
            "48/48 [==============================] - 1s 24ms/step - loss: 0.0097\n",
            "Epoch 68/100\n",
            "48/48 [==============================] - 1s 26ms/step - loss: 0.0125\n",
            "Epoch 69/100\n",
            "48/48 [==============================] - 1s 25ms/step - loss: 0.0121\n",
            "Epoch 70/100\n",
            "48/48 [==============================] - 1s 25ms/step - loss: 0.0099\n",
            "Epoch 71/100\n",
            "48/48 [==============================] - 1s 26ms/step - loss: 0.0089\n",
            "Epoch 72/100\n",
            "48/48 [==============================] - 1s 26ms/step - loss: 0.0134\n",
            "Epoch 73/100\n",
            "48/48 [==============================] - 1s 26ms/step - loss: 0.0094\n",
            "Epoch 74/100\n",
            "48/48 [==============================] - 1s 26ms/step - loss: 0.0116\n",
            "Epoch 75/100\n",
            "48/48 [==============================] - 1s 24ms/step - loss: 0.0085\n",
            "Epoch 76/100\n",
            "48/48 [==============================] - 1s 26ms/step - loss: 0.0098\n",
            "Epoch 77/100\n",
            "48/48 [==============================] - 1s 24ms/step - loss: 0.0108\n",
            "Epoch 78/100\n",
            "48/48 [==============================] - 1s 24ms/step - loss: 0.0092\n",
            "Epoch 79/100\n",
            "48/48 [==============================] - 1s 25ms/step - loss: 0.0100\n",
            "Epoch 80/100\n",
            "48/48 [==============================] - 1s 26ms/step - loss: 0.0101\n",
            "Epoch 81/100\n",
            "48/48 [==============================] - 1s 25ms/step - loss: 0.0111\n",
            "Epoch 82/100\n",
            "48/48 [==============================] - 1s 25ms/step - loss: 0.0070\n",
            "Epoch 83/100\n",
            "48/48 [==============================] - 1s 24ms/step - loss: 0.0141\n",
            "Epoch 84/100\n",
            "48/48 [==============================] - 1s 24ms/step - loss: 0.0081\n",
            "Epoch 85/100\n",
            "48/48 [==============================] - 1s 25ms/step - loss: 0.0094\n",
            "Epoch 86/100\n",
            "48/48 [==============================] - 1s 24ms/step - loss: 0.0124\n",
            "Epoch 87/100\n",
            "48/48 [==============================] - 1s 24ms/step - loss: 0.0075\n",
            "Epoch 88/100\n",
            "48/48 [==============================] - 1s 25ms/step - loss: 0.0090\n",
            "Epoch 89/100\n",
            "48/48 [==============================] - 1s 24ms/step - loss: 0.0070\n",
            "Epoch 90/100\n",
            "48/48 [==============================] - 1s 25ms/step - loss: 0.0085\n",
            "Epoch 91/100\n",
            "48/48 [==============================] - 1s 22ms/step - loss: 0.0104\n",
            "Epoch 92/100\n",
            "48/48 [==============================] - 1s 25ms/step - loss: 0.0080\n",
            "Epoch 93/100\n",
            "48/48 [==============================] - 1s 18ms/step - loss: 0.0102\n",
            "Epoch 94/100\n",
            "48/48 [==============================] - 1s 13ms/step - loss: 0.0083\n",
            "Epoch 95/100\n",
            "48/48 [==============================] - 1s 13ms/step - loss: 0.0101\n",
            "Epoch 96/100\n",
            "48/48 [==============================] - 1s 12ms/step - loss: 0.0060\n",
            "Epoch 97/100\n",
            "48/48 [==============================] - 1s 12ms/step - loss: 0.0099\n",
            "Epoch 98/100\n",
            "48/48 [==============================] - 1s 12ms/step - loss: 0.0081\n",
            "Epoch 99/100\n",
            "48/48 [==============================] - 1s 12ms/step - loss: 0.0078\n",
            "Epoch 100/100\n",
            "48/48 [==============================] - 1s 12ms/step - loss: 0.0072\n"
          ],
          "name": "stdout"
        },
        {
          "output_type": "execute_result",
          "data": {
            "text/plain": [
              "<keras.callbacks.History at 0x7fbc0fb2acc0>"
            ]
          },
          "metadata": {
            "tags": []
          },
          "execution_count": 80
        }
      ]
    },
    {
      "metadata": {
        "id": "qwcyiSfRKqvW",
        "colab_type": "code",
        "colab": {}
      },
      "cell_type": "code",
      "source": [
        "predicted_value= model.predict(X_test)\n"
      ],
      "execution_count": 0,
      "outputs": []
    },
    {
      "metadata": {
        "id": "C9lKUAVJKwqe",
        "colab_type": "code",
        "outputId": "aac08171-22ee-454f-d044-b3ef18827b2d",
        "colab": {
          "base_uri": "https://localhost:8080/",
          "height": 294
        }
      },
      "cell_type": "code",
      "source": [
        "plt.plot(predicted_value, color= 'red')\n",
        "plt.plot(input_data[:20,1], color='green')\n",
        "plt.title(\"Seasonal Temp&Vegetation\")\n",
        "plt.xlabel(\"Time (latest-> oldest)\")\n",
        "plt.ylabel(\"Vegetation\")\n",
        "plt.show()"
      ],
      "execution_count": 0,
      "outputs": [
        {
          "output_type": "display_data",
          "data": {
            "image/png": "[encoded data removed]",
            "text/plain": [
              "<Figure size 432x288 with 1 Axes>"
            ]
          },
          "metadata": {
            "tags": []
          }
        }
      ]
    },
    {
      "metadata": {
        "id": "t57qpPETOtTO",
        "colab_type": "code",
        "outputId": "d45d914d-2b12-4fcf-a384-584523fd06c3",
        "colab": {
          "base_uri": "https://localhost:8080/",
          "height": 357
        }
      },
      "cell_type": "code",
      "source": [
        "predicted_value"
      ],
      "execution_count": 0,
      "outputs": [
        {
          "output_type": "execute_result",
          "data": {
            "text/plain": [
              "array([[0.14273638],\n",
              "       [0.46833175],\n",
              "       [0.72816914],\n",
              "       [0.81356883],\n",
              "       [0.65631574],\n",
              "       [0.56285   ],\n",
              "       [0.84832096],\n",
              "       [0.84801644],\n",
              "       [0.40172946],\n",
              "       [0.50917   ],\n",
              "       [0.79121083],\n",
              "       [0.82582563],\n",
              "       [0.37609926],\n",
              "       [0.47749293],\n",
              "       [0.7817263 ],\n",
              "       [0.6630353 ],\n",
              "       [0.3104823 ],\n",
              "       [0.52406186],\n",
              "       [0.752409  ],\n",
              "       [0.81576264]], dtype=float32)"
            ]
          },
          "metadata": {
            "tags": []
          },
          "execution_count": 83
        }
      ]
    },
    {
      "metadata": {
        "id": "ZVQzji9pZ_pV",
        "colab_type": "code",
        "outputId": "f84bdfaf-fbbd-414f-eaaa-d8dd586bc78b",
        "colab": {
          "base_uri": "https://localhost:8080/",
          "height": 85
        }
      },
      "cell_type": "code",
      "source": [
        "input_data[:20,1]\n"
      ],
      "execution_count": 0,
      "outputs": [
        {
          "output_type": "execute_result",
          "data": {
            "text/plain": [
              "array([0.        , 0.5054751 , 0.77132697, 0.83692297, 0.76962874,\n",
              "       0.48004862, 0.93048529, 0.84086798, 0.42499704, 0.44619298,\n",
              "       0.84166637, 0.83712774, 0.30317723, 0.59034151, 0.90207   ,\n",
              "       0.77605158, 0.2110802 , 0.42606971, 0.82991402, 0.93052286])"
            ]
          },
          "metadata": {
            "tags": []
          },
          "execution_count": 84
        }
      ]
    },
    {
      "metadata": {
        "id": "yiiLrYqJamzU",
        "colab_type": "code",
        "colab": {}
      },
      "cell_type": "code",
      "source": [
        "rmse_test=np.sqrt(np.mean(np.power((np.array(input_data[:20,1])-np.array(predicted_value)),2)))"
      ],
      "execution_count": 0,
      "outputs": []
    },
    {
      "metadata": {
        "id": "BdNDJPIno67I",
        "colab_type": "code",
        "outputId": "ba3402fa-ebb9-40b0-b0fd-8bf704063ee8",
        "colab": {
          "base_uri": "https://localhost:8080/",
          "height": 34
        }
      },
      "cell_type": "code",
      "source": [
        "rmse_test"
      ],
      "execution_count": 0,
      "outputs": [
        {
          "output_type": "execute_result",
          "data": {
            "text/plain": [
              "0.3302396725958466"
            ]
          },
          "metadata": {
            "tags": []
          },
          "execution_count": 86
        }
      ]
    },
    {
      "metadata": {
        "id": "Wwbb33h_pHkB",
        "colab_type": "code",
        "outputId": "84d17317-7aae-4000-9bf0-cd2fce2fac18",
        "colab": {
          "base_uri": "https://localhost:8080/",
          "height": 34
        }
      },
      "cell_type": "code",
      "source": [
        "import sklearn\n",
        "from sklearn import metrics\n",
        "sklearn.metrics.r2_score(input_data[:20,1], predicted_value, sample_weight=None, multioutput='uniform_average')"
      ],
      "execution_count": 0,
      "outputs": [
        {
          "output_type": "execute_result",
          "data": {
            "text/plain": [
              "0.8962180823384802"
            ]
          },
          "metadata": {
            "tags": []
          },
          "execution_count": 87
        }
      ]
    },
    {
      "metadata": {
        "id": "q3Dvlww61x62",
        "colab_type": "code",
        "outputId": "af4fcc6b-ddfa-4975-a911-c85b4be34874",
        "colab": {
          "base_uri": "https://localhost:8080/",
          "height": 286
        }
      },
      "cell_type": "code",
      "source": [
        "plt.scatter(input_data[:20,1],predicted_value)"
      ],
      "execution_count": 0,
      "outputs": [
        {
          "output_type": "execute_result",
          "data": {
            "text/plain": [
              "<matplotlib.collections.PathCollection at 0x7fbc0de33be0>"
            ]
          },
          "metadata": {
            "tags": []
          },
          "execution_count": 88
        },
        {
          "output_type": "display_data",
          "data": {
            "image/png": "[encoded data removed]",
            "text/plain": [
              "<Figure size 432x288 with 1 Axes>"
            ]
          },
          "metadata": {
            "tags": []
          }
        }
      ]
    },
    {
      "metadata": {
        "id": "He_fKd8Y2rp1",
        "colab_type": "code",
        "colab": {}
      },
      "cell_type": "code",
      "source": [
        ""
      ],
      "execution_count": 0,
      "outputs": []
    }
  ]
}