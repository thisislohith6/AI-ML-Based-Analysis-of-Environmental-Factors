{
  "nbformat": 4,
  "nbformat_minor": 0,
  "metadata": {
    "colab": {
      "name": "Annual Temp&Snow cover(o/p) DDI.ipynb",
      "version": "0.3.2",
      "provenance": [],
      "collapsed_sections": []
    },
    "kernelspec": {
      "name": "python3",
      "display_name": "Python 3"
    }
  },
  "cells": [
    {
      "metadata": {
        "id": "-UXGf39gFI34",
        "colab_type": "code",
        "colab": {}
      },
      "cell_type": "code",
      "source": [
        "#https://medium.com/datadriveninvestor/multivariate-time-series-using-rnn-with-keras-7f78f4488679  #annual data own"
      ],
      "execution_count": 0,
      "outputs": []
    },
    {
      "metadata": {
        "id": "e1CLoOq0FUXs",
        "colab_type": "code",
        "colab": {}
      },
      "cell_type": "code",
      "source": [
        "import numpy as np\n",
        "import pandas as pd\n",
        "import matplotlib.pyplot as plt\n",
        "%matplotlib inline\n",
        "weather_data = pd.read_excel(\"/content/annual data.xlsx\")"
      ],
      "execution_count": 0,
      "outputs": []
    },
    {
      "metadata": {
        "id": "LBIs3NphGGTG",
        "colab_type": "code",
        "outputId": "815989fb-9d82-4062-ff77-ecbb609f81cb",
        "colab": {
          "base_uri": "https://localhost:8080/",
          "height": 111
        }
      },
      "cell_type": "code",
      "source": [
        "weather_data.head(2)"
      ],
      "execution_count": 0,
      "outputs": [
        {
          "output_type": "execute_result",
          "data": {
            "text/html": [
              "<div>\n",
              "<style scoped>\n",
              "    .dataframe tbody tr th:only-of-type {\n",
              "        vertical-align: middle;\n",
              "    }\n",
              "\n",
              "    .dataframe tbody tr th {\n",
              "        vertical-align: top;\n",
              "    }\n",
              "\n",
              "    .dataframe thead th {\n",
              "        text-align: right;\n",
              "    }\n",
              "</style>\n",
              "<table border=\"1\" class=\"dataframe\">\n",
              "  <thead>\n",
              "    <tr style=\"text-align: right;\">\n",
              "      <th></th>\n",
              "      <th>Year</th>\n",
              "      <th>Avg Temp</th>\n",
              "      <th>Avg NDVI</th>\n",
              "      <th>Avg snow cover</th>\n",
              "    </tr>\n",
              "  </thead>\n",
              "  <tbody>\n",
              "    <tr>\n",
              "      <th>0</th>\n",
              "      <td>2001</td>\n",
              "      <td>283.1725</td>\n",
              "      <td>14225.59</td>\n",
              "      <td>4099.835</td>\n",
              "    </tr>\n",
              "    <tr>\n",
              "      <th>1</th>\n",
              "      <td>2002</td>\n",
              "      <td>281.9175</td>\n",
              "      <td>15296.26</td>\n",
              "      <td>4405.566</td>\n",
              "    </tr>\n",
              "  </tbody>\n",
              "</table>\n",
              "</div>"
            ],
            "text/plain": [
              "   Year  Avg Temp  Avg NDVI  Avg snow cover\n",
              "0  2001  283.1725  14225.59        4099.835\n",
              "1  2002  281.9175  15296.26        4405.566"
            ]
          },
          "metadata": {
            "tags": []
          },
          "execution_count": 6
        }
      ]
    },
    {
      "metadata": {
        "id": "jYFmD6fKG2D7",
        "colab_type": "code",
        "outputId": "b0fb1d0a-ec8f-4211-f669-f373043a90c9",
        "colab": {
          "base_uri": "https://localhost:8080/",
          "height": 170
        }
      },
      "cell_type": "code",
      "source": [
        "weather_data.info()"
      ],
      "execution_count": 0,
      "outputs": [
        {
          "output_type": "stream",
          "text": [
            "<class 'pandas.core.frame.DataFrame'>\n",
            "RangeIndex: 17 entries, 0 to 16\n",
            "Data columns (total 4 columns):\n",
            "Year              17 non-null int64\n",
            "Avg Temp          17 non-null float64\n",
            "Avg NDVI          17 non-null float64\n",
            "Avg snow cover    17 non-null float64\n",
            "dtypes: float64(3), int64(1)\n",
            "memory usage: 624.0 bytes\n"
          ],
          "name": "stdout"
        }
      ]
    },
    {
      "metadata": {
        "id": "jrmuDYxrHGxo",
        "colab_type": "code",
        "colab": {}
      },
      "cell_type": "code",
      "source": [
        "input_feature= weather_data.iloc[:,[1,3]].values\n",
        "input_data = input_feature"
      ],
      "execution_count": 0,
      "outputs": []
    },
    {
      "metadata": {
        "id": "jFW05QDSHHwg",
        "colab_type": "code",
        "outputId": "3e4d7398-0c0c-4cc5-a07e-3eb77188986a",
        "colab": {
          "base_uri": "https://localhost:8080/",
          "height": 294
        }
      },
      "cell_type": "code",
      "source": [
        "plt.plot(input_feature[:,0])\n",
        "plt.title(\"Temperature\")\n",
        "plt.xlabel(\"Time (latest-> oldest)\")\n",
        "plt.ylabel(\"Volume of stocks traded\")\n",
        "plt.show()"
      ],
      "execution_count": 0,
      "outputs": [
        {
          "output_type": "display_data",
          "data": {
            "image/png": "[encoded data removed]",
            "text/plain": [
              "<Figure size 432x288 with 1 Axes>"
            ]
          },
          "metadata": {
            "tags": []
          }
        }
      ]
    },
    {
      "metadata": {
        "id": "L8-HAyaRHIXx",
        "colab_type": "code",
        "outputId": "8fa4f9f9-e21e-444b-d630-d3bc161472b0",
        "colab": {
          "base_uri": "https://localhost:8080/",
          "height": 294
        }
      },
      "cell_type": "code",
      "source": [
        "plt.plot(input_feature[:,1], color='blue')\n",
        "plt.title(\"Snow\")\n",
        "plt.xlabel(\"Time (latest-> oldest)\")\n",
        "plt.ylabel(\"Stock Opening Price\")\n",
        "plt.show()"
      ],
      "execution_count": 0,
      "outputs": [
        {
          "output_type": "display_data",
          "data": {
            "image/png": "[encoded data removed]",
            "text/plain": [
              "<Figure size 432x288 with 1 Axes>"
            ]
          },
          "metadata": {
            "tags": []
          }
        }
      ]
    },
    {
      "metadata": {
        "id": "9oYXI2gjHI_p",
        "colab_type": "code",
        "colab": {}
      },
      "cell_type": "code",
      "source": [
        "from sklearn.preprocessing import MinMaxScaler\n",
        "sc= MinMaxScaler(feature_range=(0,1))\n",
        "input_data[:,0:2] = sc.fit_transform(input_feature[:,:])"
      ],
      "execution_count": 0,
      "outputs": []
    },
    {
      "metadata": {
        "id": "Uy_0R7yrHJxp",
        "colab_type": "code",
        "colab": {}
      },
      "cell_type": "code",
      "source": [
        "lookback= 5\n",
        "test_size=int(.3 * len(weather_data))\n",
        "X=[]\n",
        "y=[]\n",
        "for i in range(0, len(weather_data)-lookback):\n",
        "    t=[]\n",
        "    for j in range(0,lookback):\n",
        "        \n",
        "        t.append(input_data[[(i+j)], :])\n",
        "    X.append(t)\n",
        "    y.append(input_data[i,1])"
      ],
      "execution_count": 0,
      "outputs": []
    },
    {
      "metadata": {
        "id": "4xXEL05fHKg5",
        "colab_type": "code",
        "outputId": "0b120df4-b4df-4606-ed16-306efc80236c",
        "colab": {
          "base_uri": "https://localhost:8080/",
          "height": 51
        }
      },
      "cell_type": "code",
      "source": [
        "X, y= np.array(X), np.array(y)\n",
        "X_test = X[:test_size]\n",
        "\n",
        "X = X.reshape(X.shape[0],lookback, 2)\n",
        "X_test = X_test.reshape(X_test.shape[0],lookback, 2)\n",
        "print(X.shape)\n",
        "print(X_test.shape)"
      ],
      "execution_count": 0,
      "outputs": [
        {
          "output_type": "stream",
          "text": [
            "(12, 5, 2)\n",
            "(5, 5, 2)\n"
          ],
          "name": "stdout"
        }
      ]
    },
    {
      "metadata": {
        "id": "V_RtsmpmKaeA",
        "colab_type": "code",
        "outputId": "d470c071-e044-4d17-ecc6-1361824c8852",
        "colab": {
          "base_uri": "https://localhost:8080/",
          "height": 34
        }
      },
      "cell_type": "code",
      "source": [
        "from keras import Sequential\n",
        "from keras.layers import Dense, LSTM"
      ],
      "execution_count": 0,
      "outputs": [
        {
          "output_type": "stream",
          "text": [
            "Using TensorFlow backend.\n"
          ],
          "name": "stderr"
        }
      ]
    },
    {
      "metadata": {
        "id": "h91UQk6sKfLl",
        "colab_type": "code",
        "outputId": "572ee602-7e11-4a15-f42e-5dcf4ba01e3a",
        "colab": {
          "base_uri": "https://localhost:8080/",
          "height": 343
        }
      },
      "cell_type": "code",
      "source": [
        "model = Sequential()\n",
        "model.add(LSTM(units=105, return_sequences= True, input_shape=(X.shape[1],2)))\n",
        "model.add(LSTM(units=105, return_sequences=True))\n",
        "model.add(LSTM(units=105))\n",
        "model.add(Dense(units=1))\n",
        "model.summary()"
      ],
      "execution_count": 0,
      "outputs": [
        {
          "output_type": "stream",
          "text": [
            "WARNING:tensorflow:From /usr/local/lib/python3.6/dist-packages/tensorflow/python/framework/op_def_library.py:263: colocate_with (from tensorflow.python.framework.ops) is deprecated and will be removed in a future version.\n",
            "Instructions for updating:\n",
            "Colocations handled automatically by placer.\n",
            "_________________________________________________________________\n",
            "Layer (type)                 Output Shape              Param #   \n",
            "=================================================================\n",
            "lstm_1 (LSTM)                (None, 5, 105)            45360     \n",
            "_________________________________________________________________\n",
            "lstm_2 (LSTM)                (None, 5, 105)            88620     \n",
            "_________________________________________________________________\n",
            "lstm_3 (LSTM)                (None, 105)               88620     \n",
            "_________________________________________________________________\n",
            "dense_1 (Dense)              (None, 1)                 106       \n",
            "=================================================================\n",
            "Total params: 222,706\n",
            "Trainable params: 222,706\n",
            "Non-trainable params: 0\n",
            "_________________________________________________________________\n"
          ],
          "name": "stdout"
        }
      ]
    },
    {
      "metadata": {
        "id": "6iUdvvZiKkz5",
        "colab_type": "code",
        "colab": {}
      },
      "cell_type": "code",
      "source": [
        "model.compile(optimizer='adam', loss='mean_squared_error')\n"
      ],
      "execution_count": 0,
      "outputs": []
    },
    {
      "metadata": {
        "id": "OqITyQp0Kox1",
        "colab_type": "code",
        "outputId": "0429d712-9814-45f7-c89f-53b205cb3578",
        "colab": {
          "base_uri": "https://localhost:8080/",
          "height": 3505
        }
      },
      "cell_type": "code",
      "source": [
        "model.fit(X, y, epochs=100, batch_size=1)\n"
      ],
      "execution_count": 0,
      "outputs": [
        {
          "output_type": "stream",
          "text": [
            "WARNING:tensorflow:From /usr/local/lib/python3.6/dist-packages/tensorflow/python/ops/math_ops.py:3066: to_int32 (from tensorflow.python.ops.math_ops) is deprecated and will be removed in a future version.\n",
            "Instructions for updating:\n",
            "Use tf.cast instead.\n",
            "Epoch 1/100\n",
            "12/12 [==============================] - 9s 767ms/step - loss: 0.1467\n",
            "Epoch 2/100\n",
            "12/12 [==============================] - 1s 58ms/step - loss: 0.0298\n",
            "Epoch 3/100\n",
            "12/12 [==============================] - 1s 61ms/step - loss: 0.0236\n",
            "Epoch 4/100\n",
            "12/12 [==============================] - 1s 43ms/step - loss: 0.0213\n",
            "Epoch 5/100\n",
            "12/12 [==============================] - 1s 55ms/step - loss: 0.0174\n",
            "Epoch 6/100\n",
            "12/12 [==============================] - 1s 51ms/step - loss: 0.0205\n",
            "Epoch 7/100\n",
            "12/12 [==============================] - 1s 59ms/step - loss: 0.0149\n",
            "Epoch 8/100\n",
            "12/12 [==============================] - 1s 59ms/step - loss: 0.0149\n",
            "Epoch 9/100\n",
            "12/12 [==============================] - 1s 53ms/step - loss: 0.0144\n",
            "Epoch 10/100\n",
            "12/12 [==============================] - 1s 56ms/step - loss: 0.0153\n",
            "Epoch 11/100\n",
            "12/12 [==============================] - 1s 50ms/step - loss: 0.0189\n",
            "Epoch 12/100\n",
            "12/12 [==============================] - 1s 53ms/step - loss: 0.0213\n",
            "Epoch 13/100\n",
            "12/12 [==============================] - 1s 55ms/step - loss: 0.0199\n",
            "Epoch 14/100\n",
            "12/12 [==============================] - 1s 59ms/step - loss: 0.0174\n",
            "Epoch 15/100\n",
            "12/12 [==============================] - 1s 59ms/step - loss: 0.0124\n",
            "Epoch 16/100\n",
            "12/12 [==============================] - 1s 57ms/step - loss: 0.0140\n",
            "Epoch 17/100\n",
            "12/12 [==============================] - 1s 59ms/step - loss: 0.0165\n",
            "Epoch 18/100\n",
            "12/12 [==============================] - 1s 57ms/step - loss: 0.0163\n",
            "Epoch 19/100\n",
            "12/12 [==============================] - 1s 58ms/step - loss: 0.0159\n",
            "Epoch 20/100\n",
            "12/12 [==============================] - 1s 51ms/step - loss: 0.0254\n",
            "Epoch 21/100\n",
            "12/12 [==============================] - 1s 52ms/step - loss: 0.0202\n",
            "Epoch 22/100\n",
            "12/12 [==============================] - 1s 60ms/step - loss: 0.0153\n",
            "Epoch 23/100\n",
            "12/12 [==============================] - 1s 57ms/step - loss: 0.0210\n",
            "Epoch 24/100\n",
            "12/12 [==============================] - 1s 64ms/step - loss: 0.0185\n",
            "Epoch 25/100\n",
            "12/12 [==============================] - 1s 56ms/step - loss: 0.0180\n",
            "Epoch 26/100\n",
            "12/12 [==============================] - 1s 58ms/step - loss: 0.0159\n",
            "Epoch 27/100\n",
            "12/12 [==============================] - 1s 58ms/step - loss: 0.0188\n",
            "Epoch 28/100\n",
            "12/12 [==============================] - 1s 50ms/step - loss: 0.0123\n",
            "Epoch 29/100\n",
            "12/12 [==============================] - 1s 47ms/step - loss: 0.0115\n",
            "Epoch 30/100\n",
            "12/12 [==============================] - 1s 52ms/step - loss: 0.0137\n",
            "Epoch 31/100\n",
            "12/12 [==============================] - 1s 52ms/step - loss: 0.0135\n",
            "Epoch 32/100\n",
            "12/12 [==============================] - 1s 51ms/step - loss: 0.0121\n",
            "Epoch 33/100\n",
            "12/12 [==============================] - 1s 44ms/step - loss: 0.0124\n",
            "Epoch 34/100\n",
            "12/12 [==============================] - 0s 35ms/step - loss: 0.0136\n",
            "Epoch 35/100\n",
            "12/12 [==============================] - 0s 32ms/step - loss: 0.0117\n",
            "Epoch 36/100\n",
            "12/12 [==============================] - 0s 31ms/step - loss: 0.0126\n",
            "Epoch 37/100\n",
            "12/12 [==============================] - 0s 32ms/step - loss: 0.0114\n",
            "Epoch 38/100\n",
            "12/12 [==============================] - 0s 33ms/step - loss: 0.0115\n",
            "Epoch 39/100\n",
            "12/12 [==============================] - 0s 30ms/step - loss: 0.0103\n",
            "Epoch 40/100\n",
            "12/12 [==============================] - 0s 30ms/step - loss: 0.0090\n",
            "Epoch 41/100\n",
            "12/12 [==============================] - 0s 29ms/step - loss: 0.0089\n",
            "Epoch 42/100\n",
            "12/12 [==============================] - 0s 30ms/step - loss: 0.0125\n",
            "Epoch 43/100\n",
            "12/12 [==============================] - 0s 29ms/step - loss: 0.0101\n",
            "Epoch 44/100\n",
            "12/12 [==============================] - 0s 31ms/step - loss: 0.0115\n",
            "Epoch 45/100\n",
            "12/12 [==============================] - 0s 32ms/step - loss: 0.0194\n",
            "Epoch 46/100\n",
            "12/12 [==============================] - 0s 34ms/step - loss: 0.0065\n",
            "Epoch 47/100\n",
            "12/12 [==============================] - 0s 32ms/step - loss: 0.0072\n",
            "Epoch 48/100\n",
            "12/12 [==============================] - 0s 32ms/step - loss: 0.0067\n",
            "Epoch 49/100\n",
            "12/12 [==============================] - 0s 33ms/step - loss: 0.0105\n",
            "Epoch 50/100\n",
            "12/12 [==============================] - 0s 32ms/step - loss: 0.0053\n",
            "Epoch 51/100\n",
            "12/12 [==============================] - 0s 33ms/step - loss: 0.0052\n",
            "Epoch 52/100\n",
            "12/12 [==============================] - 0s 35ms/step - loss: 0.0066\n",
            "Epoch 53/100\n",
            "12/12 [==============================] - 0s 35ms/step - loss: 0.0071\n",
            "Epoch 54/100\n",
            "12/12 [==============================] - 0s 35ms/step - loss: 0.0039\n",
            "Epoch 55/100\n",
            "12/12 [==============================] - 0s 34ms/step - loss: 0.0047\n",
            "Epoch 56/100\n",
            "12/12 [==============================] - 0s 35ms/step - loss: 0.0043\n",
            "Epoch 57/100\n",
            "12/12 [==============================] - 0s 35ms/step - loss: 0.0074\n",
            "Epoch 58/100\n",
            "12/12 [==============================] - 0s 35ms/step - loss: 0.0026\n",
            "Epoch 59/100\n",
            "12/12 [==============================] - 0s 34ms/step - loss: 0.0024\n",
            "Epoch 60/100\n",
            "12/12 [==============================] - 0s 33ms/step - loss: 0.0049\n",
            "Epoch 61/100\n",
            "12/12 [==============================] - 0s 34ms/step - loss: 0.0035\n",
            "Epoch 62/100\n",
            "12/12 [==============================] - 0s 32ms/step - loss: 0.0047\n",
            "Epoch 63/100\n",
            "12/12 [==============================] - 0s 34ms/step - loss: 0.0052\n",
            "Epoch 64/100\n",
            "12/12 [==============================] - 0s 34ms/step - loss: 0.0062\n",
            "Epoch 65/100\n",
            "12/12 [==============================] - 0s 37ms/step - loss: 0.0132\n",
            "Epoch 66/100\n",
            "12/12 [==============================] - 0s 33ms/step - loss: 0.0071\n",
            "Epoch 67/100\n",
            "12/12 [==============================] - 0s 34ms/step - loss: 0.0033\n",
            "Epoch 68/100\n",
            "12/12 [==============================] - 0s 36ms/step - loss: 0.0029\n",
            "Epoch 69/100\n",
            "12/12 [==============================] - 0s 36ms/step - loss: 0.0019\n",
            "Epoch 70/100\n",
            "12/12 [==============================] - 0s 33ms/step - loss: 0.0029\n",
            "Epoch 71/100\n",
            "12/12 [==============================] - 0s 30ms/step - loss: 0.0034\n",
            "Epoch 72/100\n",
            "12/12 [==============================] - 0s 31ms/step - loss: 0.0065\n",
            "Epoch 73/100\n",
            "12/12 [==============================] - 0s 29ms/step - loss: 0.0032\n",
            "Epoch 74/100\n",
            "12/12 [==============================] - 0s 32ms/step - loss: 0.0029\n",
            "Epoch 75/100\n",
            "12/12 [==============================] - 0s 33ms/step - loss: 0.0058\n",
            "Epoch 76/100\n",
            "12/12 [==============================] - 0s 30ms/step - loss: 0.0060\n",
            "Epoch 77/100\n",
            "12/12 [==============================] - 0s 31ms/step - loss: 0.0047\n",
            "Epoch 78/100\n",
            "12/12 [==============================] - 0s 40ms/step - loss: 0.0043\n",
            "Epoch 79/100\n",
            "12/12 [==============================] - 0s 23ms/step - loss: 0.0080\n",
            "Epoch 80/100\n",
            "12/12 [==============================] - 0s 17ms/step - loss: 0.0034\n",
            "Epoch 81/100\n",
            "12/12 [==============================] - 0s 16ms/step - loss: 0.0038\n",
            "Epoch 82/100\n",
            "12/12 [==============================] - 0s 18ms/step - loss: 0.0036\n",
            "Epoch 83/100\n",
            "12/12 [==============================] - 0s 16ms/step - loss: 0.0038\n",
            "Epoch 84/100\n",
            "12/12 [==============================] - 0s 16ms/step - loss: 0.0076\n",
            "Epoch 85/100\n",
            "12/12 [==============================] - 0s 16ms/step - loss: 0.0018\n",
            "Epoch 86/100\n",
            "12/12 [==============================] - 0s 16ms/step - loss: 0.0025\n",
            "Epoch 87/100\n",
            "12/12 [==============================] - 0s 18ms/step - loss: 0.0021\n",
            "Epoch 88/100\n",
            "12/12 [==============================] - 0s 16ms/step - loss: 0.0019\n",
            "Epoch 89/100\n",
            "12/12 [==============================] - 0s 17ms/step - loss: 0.0023\n",
            "Epoch 90/100\n",
            "12/12 [==============================] - 0s 16ms/step - loss: 0.0016\n",
            "Epoch 91/100\n",
            "12/12 [==============================] - 0s 16ms/step - loss: 0.0016\n",
            "Epoch 92/100\n",
            "12/12 [==============================] - 0s 18ms/step - loss: 0.0016\n",
            "Epoch 93/100\n",
            "12/12 [==============================] - 0s 21ms/step - loss: 0.0060\n",
            "Epoch 94/100\n",
            "12/12 [==============================] - 0s 16ms/step - loss: 0.0022\n",
            "Epoch 95/100\n",
            "12/12 [==============================] - 0s 16ms/step - loss: 0.0020\n",
            "Epoch 96/100\n",
            "12/12 [==============================] - 0s 16ms/step - loss: 0.0030\n",
            "Epoch 97/100\n",
            "12/12 [==============================] - 0s 16ms/step - loss: 0.0016\n",
            "Epoch 98/100\n",
            "12/12 [==============================] - 0s 15ms/step - loss: 0.0011\n",
            "Epoch 99/100\n",
            "12/12 [==============================] - 0s 15ms/step - loss: 0.0012\n",
            "Epoch 100/100\n",
            "12/12 [==============================] - 0s 16ms/step - loss: 0.0016\n"
          ],
          "name": "stdout"
        },
        {
          "output_type": "execute_result",
          "data": {
            "text/plain": [
              "<keras.callbacks.History at 0x7f8789a1b7f0>"
            ]
          },
          "metadata": {
            "tags": []
          },
          "execution_count": 17
        }
      ]
    },
    {
      "metadata": {
        "id": "qwcyiSfRKqvW",
        "colab_type": "code",
        "colab": {}
      },
      "cell_type": "code",
      "source": [
        "predicted_value= model.predict(X_test)\n"
      ],
      "execution_count": 0,
      "outputs": []
    },
    {
      "metadata": {
        "id": "C9lKUAVJKwqe",
        "colab_type": "code",
        "outputId": "d21967c3-cbf4-4eb5-949a-077782d43542",
        "colab": {
          "base_uri": "https://localhost:8080/",
          "height": 294
        }
      },
      "cell_type": "code",
      "source": [
        "plt.plot(predicted_value, color= 'red')\n",
        "plt.plot(input_data[:5,1], color='green')\n",
        "plt.title(\"Annual Temp&Snow cover\")\n",
        "plt.xlabel(\"Time (latest-> oldest)\")\n",
        "plt.ylabel(\"Snow cover\")\n",
        "plt.show()"
      ],
      "execution_count": 0,
      "outputs": [
        {
          "output_type": "display_data",
          "data": {
            "image/png": "[encoded data removed]",
            "text/plain": [
              "<Figure size 432x288 with 1 Axes>"
            ]
          },
          "metadata": {
            "tags": []
          }
        }
      ]
    },
    {
      "metadata": {
        "id": "t57qpPETOtTO",
        "colab_type": "code",
        "outputId": "3a09ca61-c92c-42ca-8ae9-e7e9974d9d77",
        "colab": {
          "base_uri": "https://localhost:8080/",
          "height": 102
        }
      },
      "cell_type": "code",
      "source": [
        "predicted_value"
      ],
      "execution_count": 0,
      "outputs": [
        {
          "output_type": "execute_result",
          "data": {
            "text/plain": [
              "array([[0.45082042],\n",
              "       [0.555798  ],\n",
              "       [0.2529075 ],\n",
              "       [0.5487566 ],\n",
              "       [0.54022056]], dtype=float32)"
            ]
          },
          "metadata": {
            "tags": []
          },
          "execution_count": 20
        }
      ]
    },
    {
      "metadata": {
        "id": "DiBarqSp1ija",
        "colab_type": "code",
        "outputId": "3e863664-38ad-42b9-d7b9-81a26be6b253",
        "colab": {
          "base_uri": "https://localhost:8080/",
          "height": 34
        }
      },
      "cell_type": "code",
      "source": [
        "input_data[:5,1]"
      ],
      "execution_count": 0,
      "outputs": [
        {
          "output_type": "execute_result",
          "data": {
            "text/plain": [
              "array([0.40948805, 0.58508714, 0.2370623 , 0.52866564, 0.53481989])"
            ]
          },
          "metadata": {
            "tags": []
          },
          "execution_count": 21
        }
      ]
    },
    {
      "metadata": {
        "id": "Zwlior2k2VJ7",
        "colab_type": "code",
        "outputId": "84b1cd88-37f1-4b78-988a-6d8a03aa4868",
        "colab": {
          "base_uri": "https://localhost:8080/",
          "height": 34
        }
      },
      "cell_type": "code",
      "source": [
        "import sklearn\n",
        "from sklearn import metrics\n",
        "sklearn.metrics.r2_score(input_data[:5,1], predicted_value, sample_weight=None, multioutput='uniform_average')"
      ],
      "execution_count": 0,
      "outputs": [
        {
          "output_type": "execute_result",
          "data": {
            "text/plain": [
              "0.9584426702132438"
            ]
          },
          "metadata": {
            "tags": []
          },
          "execution_count": 22
        }
      ]
    },
    {
      "metadata": {
        "id": "E-K5Gj9WDTuW",
        "colab_type": "code",
        "outputId": "9b8fb063-1ef9-4c7e-ee5b-affd080cdfc7",
        "colab": {
          "base_uri": "https://localhost:8080/",
          "height": 34
        }
      },
      "cell_type": "code",
      "source": [
        "rmse_test=np.sqrt(np.mean(np.power((np.array(input_data[:5,1])-np.array(predicted_value)),2)))\n",
        "print(rmse_test)"
      ],
      "execution_count": 0,
      "outputs": [
        {
          "output_type": "stream",
          "text": [
            "0.17015814024523182\n"
          ],
          "name": "stdout"
        }
      ]
    },
    {
      "metadata": {
        "id": "G3Sq0yn6bK0l",
        "colab_type": "code",
        "outputId": "02cc1c09-1ea3-4811-fe8f-44b78c43a39b",
        "colab": {
          "base_uri": "https://localhost:8080/",
          "height": 282
        }
      },
      "cell_type": "code",
      "source": [
        "plt.scatter(input_data[:5,1],predicted_value)"
      ],
      "execution_count": 0,
      "outputs": [
        {
          "output_type": "execute_result",
          "data": {
            "text/plain": [
              "<matplotlib.collections.PathCollection at 0x7f8781b317f0>"
            ]
          },
          "metadata": {
            "tags": []
          },
          "execution_count": 24
        },
        {
          "output_type": "display_data",
          "data": {
            "image/png": "[encoded data removed]",
            "text/plain": [
              "<Figure size 432x288 with 1 Axes>"
            ]
          },
          "metadata": {
            "tags": []
          }
        }
      ]
    }
  ]
}