{
  "nbformat": 4,
  "nbformat_minor": 0,
  "metadata": {
    "colab": {
      "name": "Annual Temp&Vegetation(o/p) DDI.ipynb",
      "version": "0.3.2",
      "provenance": []
    },
    "kernelspec": {
      "name": "python3",
      "display_name": "Python 3"
    }
  },
  "cells": [
    {
      "metadata": {
        "id": "xiV1Ge6APnah",
        "colab_type": "code",
        "colab": {}
      },
      "cell_type": "code",
      "source": [
        ""
      ],
      "execution_count": 0,
      "outputs": []
    },
    {
      "metadata": {
        "id": "-UXGf39gFI34",
        "colab_type": "code",
        "colab": {}
      },
      "cell_type": "code",
      "source": [
        "#https://medium.com/datadriveninvestor/multivariate-time-series-using-rnn-with-keras-7f78f4488679"
      ],
      "execution_count": 0,
      "outputs": []
    },
    {
      "metadata": {
        "id": "e1CLoOq0FUXs",
        "colab_type": "code",
        "colab": {}
      },
      "cell_type": "code",
      "source": [
        "import numpy as np\n",
        "import pandas as pd\n",
        "import matplotlib.pyplot as plt\n",
        "%matplotlib inline\n",
        "weather_data = pd.read_excel(\"/content/annual data.xlsx\")"
      ],
      "execution_count": 0,
      "outputs": []
    },
    {
      "metadata": {
        "id": "LBIs3NphGGTG",
        "colab_type": "code",
        "outputId": "3b68e973-192f-430a-e117-3478cf108e9c",
        "colab": {
          "base_uri": "https://localhost:8080/",
          "height": 111
        }
      },
      "cell_type": "code",
      "source": [
        "weather_data.head(2)"
      ],
      "execution_count": 0,
      "outputs": [
        {
          "output_type": "execute_result",
          "data": {
            "text/html": [
              "<div>\n",
              "<style scoped>\n",
              "    .dataframe tbody tr th:only-of-type {\n",
              "        vertical-align: middle;\n",
              "    }\n",
              "\n",
              "    .dataframe tbody tr th {\n",
              "        vertical-align: top;\n",
              "    }\n",
              "\n",
              "    .dataframe thead th {\n",
              "        text-align: right;\n",
              "    }\n",
              "</style>\n",
              "<table border=\"1\" class=\"dataframe\">\n",
              "  <thead>\n",
              "    <tr style=\"text-align: right;\">\n",
              "      <th></th>\n",
              "      <th>Year</th>\n",
              "      <th>Avg Temp</th>\n",
              "      <th>Avg NDVI</th>\n",
              "      <th>Avg snow cover</th>\n",
              "    </tr>\n",
              "  </thead>\n",
              "  <tbody>\n",
              "    <tr>\n",
              "      <th>0</th>\n",
              "      <td>2001</td>\n",
              "      <td>283.1725</td>\n",
              "      <td>14225.59</td>\n",
              "      <td>4099.835</td>\n",
              "    </tr>\n",
              "    <tr>\n",
              "      <th>1</th>\n",
              "      <td>2002</td>\n",
              "      <td>281.9175</td>\n",
              "      <td>15296.26</td>\n",
              "      <td>4405.566</td>\n",
              "    </tr>\n",
              "  </tbody>\n",
              "</table>\n",
              "</div>"
            ],
            "text/plain": [
              "   Year  Avg Temp  Avg NDVI  Avg snow cover\n",
              "0  2001  283.1725  14225.59        4099.835\n",
              "1  2002  281.9175  15296.26        4405.566"
            ]
          },
          "metadata": {
            "tags": []
          },
          "execution_count": 5
        }
      ]
    },
    {
      "metadata": {
        "id": "jYFmD6fKG2D7",
        "colab_type": "code",
        "outputId": "1765fea3-6a5c-45b6-cc80-b955d249b7d8",
        "colab": {
          "base_uri": "https://localhost:8080/",
          "height": 170
        }
      },
      "cell_type": "code",
      "source": [
        "weather_data.info()"
      ],
      "execution_count": 0,
      "outputs": [
        {
          "output_type": "stream",
          "text": [
            "<class 'pandas.core.frame.DataFrame'>\n",
            "RangeIndex: 17 entries, 0 to 16\n",
            "Data columns (total 4 columns):\n",
            "Year              17 non-null int64\n",
            "Avg Temp          17 non-null float64\n",
            "Avg NDVI          17 non-null float64\n",
            "Avg snow cover    17 non-null float64\n",
            "dtypes: float64(3), int64(1)\n",
            "memory usage: 624.0 bytes\n"
          ],
          "name": "stdout"
        }
      ]
    },
    {
      "metadata": {
        "id": "jrmuDYxrHGxo",
        "colab_type": "code",
        "colab": {}
      },
      "cell_type": "code",
      "source": [
        "input_feature= weather_data.iloc[:,[1,2]].values\n",
        "input_data = input_feature"
      ],
      "execution_count": 0,
      "outputs": []
    },
    {
      "metadata": {
        "id": "jFW05QDSHHwg",
        "colab_type": "code",
        "outputId": "e1211e01-16fa-40b0-c384-8f5be7149ebe",
        "colab": {
          "base_uri": "https://localhost:8080/",
          "height": 294
        }
      },
      "cell_type": "code",
      "source": [
        "plt.plot(input_feature[:,0])\n",
        "plt.title(\"Temperature\")\n",
        "plt.xlabel(\"Time (latest-> oldest)\")\n",
        "plt.ylabel(\"Volume of stocks traded\")\n",
        "plt.show()"
      ],
      "execution_count": 0,
      "outputs": [
        {
          "output_type": "display_data",
          "data": {
            "image/png": "[encoded data removed]",
            "text/plain": [
              "<Figure size 432x288 with 1 Axes>"
            ]
          },
          "metadata": {
            "tags": []
          }
        }
      ]
    },
    {
      "metadata": {
        "id": "L8-HAyaRHIXx",
        "colab_type": "code",
        "outputId": "c618e410-f26f-4fb4-e34f-ed1a8fa7984a",
        "colab": {
          "base_uri": "https://localhost:8080/",
          "height": 294
        }
      },
      "cell_type": "code",
      "source": [
        "plt.plot(input_feature[:,1], color='blue')\n",
        "plt.title(\"Vegetation\")\n",
        "plt.xlabel(\"Time (latest-> oldest)\")\n",
        "plt.ylabel(\"Stock Opening Price\")\n",
        "plt.show()"
      ],
      "execution_count": 0,
      "outputs": [
        {
          "output_type": "display_data",
          "data": {
            "image/png": "[encoded data removed]",
            "text/plain": [
              "<Figure size 432x288 with 1 Axes>"
            ]
          },
          "metadata": {
            "tags": []
          }
        }
      ]
    },
    {
      "metadata": {
        "id": "9oYXI2gjHI_p",
        "colab_type": "code",
        "colab": {}
      },
      "cell_type": "code",
      "source": [
        "from sklearn.preprocessing import MinMaxScaler\n",
        "sc= MinMaxScaler(feature_range=(0,1))\n",
        "input_data[:,0:2] = sc.fit_transform(input_feature[:,:])"
      ],
      "execution_count": 0,
      "outputs": []
    },
    {
      "metadata": {
        "id": "Uy_0R7yrHJxp",
        "colab_type": "code",
        "colab": {}
      },
      "cell_type": "code",
      "source": [
        "lookback= 5\n",
        "test_size=int(.3 * len(weather_data))\n",
        "X=[]\n",
        "y=[]\n",
        "for i in range(0, len(weather_data)-lookback):\n",
        "    t=[]\n",
        "    for j in range(0,lookback):\n",
        "        \n",
        "        t.append(input_data[[(i+j)], :])\n",
        "    X.append(t)\n",
        "    y.append(input_data[i,1])"
      ],
      "execution_count": 0,
      "outputs": []
    },
    {
      "metadata": {
        "id": "4xXEL05fHKg5",
        "colab_type": "code",
        "outputId": "1df6ee5c-8471-4510-dabe-25ff9c1e7fe3",
        "colab": {
          "base_uri": "https://localhost:8080/",
          "height": 51
        }
      },
      "cell_type": "code",
      "source": [
        "X, y= np.array(X), np.array(y)\n",
        "X_test = X[:test_size]\n",
        "\n",
        "X = X.reshape(X.shape[0],lookback, 2)\n",
        "X_test = X_test.reshape(X_test.shape[0],lookback, 2)\n",
        "print(X.shape)\n",
        "print(X_test.shape)"
      ],
      "execution_count": 0,
      "outputs": [
        {
          "output_type": "stream",
          "text": [
            "(12, 5, 2)\n",
            "(5, 5, 2)\n"
          ],
          "name": "stdout"
        }
      ]
    },
    {
      "metadata": {
        "id": "V_RtsmpmKaeA",
        "colab_type": "code",
        "outputId": "35546910-0d40-4edd-9bfe-d7e54723ebf8",
        "colab": {
          "base_uri": "https://localhost:8080/",
          "height": 34
        }
      },
      "cell_type": "code",
      "source": [
        "from keras import Sequential\n",
        "from keras.layers import Dense, LSTM"
      ],
      "execution_count": 0,
      "outputs": [
        {
          "output_type": "stream",
          "text": [
            "Using TensorFlow backend.\n"
          ],
          "name": "stderr"
        }
      ]
    },
    {
      "metadata": {
        "id": "h91UQk6sKfLl",
        "colab_type": "code",
        "outputId": "1f45ae03-3f22-4cd3-9430-19b04b4b7d8d",
        "colab": {
          "base_uri": "https://localhost:8080/",
          "height": 343
        }
      },
      "cell_type": "code",
      "source": [
        "model = Sequential()\n",
        "model.add(LSTM(units=105, return_sequences= True, input_shape=(X.shape[1],2)))\n",
        "model.add(LSTM(units=105, return_sequences=True))\n",
        "model.add(LSTM(units=105))\n",
        "model.add(Dense(units=1))\n",
        "model.summary()"
      ],
      "execution_count": 0,
      "outputs": [
        {
          "output_type": "stream",
          "text": [
            "WARNING:tensorflow:From /usr/local/lib/python3.6/dist-packages/tensorflow/python/framework/op_def_library.py:263: colocate_with (from tensorflow.python.framework.ops) is deprecated and will be removed in a future version.\n",
            "Instructions for updating:\n",
            "Colocations handled automatically by placer.\n",
            "_________________________________________________________________\n",
            "Layer (type)                 Output Shape              Param #   \n",
            "=================================================================\n",
            "lstm_1 (LSTM)                (None, 5, 105)            45360     \n",
            "_________________________________________________________________\n",
            "lstm_2 (LSTM)                (None, 5, 105)            88620     \n",
            "_________________________________________________________________\n",
            "lstm_3 (LSTM)                (None, 105)               88620     \n",
            "_________________________________________________________________\n",
            "dense_1 (Dense)              (None, 1)                 106       \n",
            "=================================================================\n",
            "Total params: 222,706\n",
            "Trainable params: 222,706\n",
            "Non-trainable params: 0\n",
            "_________________________________________________________________\n"
          ],
          "name": "stdout"
        }
      ]
    },
    {
      "metadata": {
        "id": "6iUdvvZiKkz5",
        "colab_type": "code",
        "colab": {}
      },
      "cell_type": "code",
      "source": [
        "model.compile(optimizer='adam', loss='mean_squared_error')\n"
      ],
      "execution_count": 0,
      "outputs": []
    },
    {
      "metadata": {
        "id": "OqITyQp0Kox1",
        "colab_type": "code",
        "outputId": "df0bff05-c9e9-460e-fa30-48fe77dfa5ca",
        "colab": {
          "base_uri": "https://localhost:8080/",
          "height": 3505
        }
      },
      "cell_type": "code",
      "source": [
        "model.fit(X, y, epochs=100, batch_size=1)\n"
      ],
      "execution_count": 0,
      "outputs": [
        {
          "output_type": "stream",
          "text": [
            "WARNING:tensorflow:From /usr/local/lib/python3.6/dist-packages/tensorflow/python/ops/math_ops.py:3066: to_int32 (from tensorflow.python.ops.math_ops) is deprecated and will be removed in a future version.\n",
            "Instructions for updating:\n",
            "Use tf.cast instead.\n",
            "Epoch 1/100\n",
            "12/12 [==============================] - 7s 547ms/step - loss: 0.1356\n",
            "Epoch 2/100\n",
            "12/12 [==============================] - 1s 47ms/step - loss: 0.0925\n",
            "Epoch 3/100\n",
            "12/12 [==============================] - 1s 47ms/step - loss: 0.0612\n",
            "Epoch 4/100\n",
            "12/12 [==============================] - 1s 47ms/step - loss: 0.0706\n",
            "Epoch 5/100\n",
            "12/12 [==============================] - 1s 46ms/step - loss: 0.0626\n",
            "Epoch 6/100\n",
            "12/12 [==============================] - 1s 46ms/step - loss: 0.0597\n",
            "Epoch 7/100\n",
            "12/12 [==============================] - 1s 51ms/step - loss: 0.0664\n",
            "Epoch 8/100\n",
            "12/12 [==============================] - 0s 38ms/step - loss: 0.0555\n",
            "Epoch 9/100\n",
            "12/12 [==============================] - 0s 40ms/step - loss: 0.0498\n",
            "Epoch 10/100\n",
            "12/12 [==============================] - 0s 36ms/step - loss: 0.0458\n",
            "Epoch 11/100\n",
            "12/12 [==============================] - 0s 37ms/step - loss: 0.0405\n",
            "Epoch 12/100\n",
            "12/12 [==============================] - 1s 42ms/step - loss: 0.0317\n",
            "Epoch 13/100\n",
            "12/12 [==============================] - 1s 43ms/step - loss: 0.0403\n",
            "Epoch 14/100\n",
            "12/12 [==============================] - 0s 40ms/step - loss: 0.0313\n",
            "Epoch 15/100\n",
            "12/12 [==============================] - 0s 38ms/step - loss: 0.0215\n",
            "Epoch 16/100\n",
            "12/12 [==============================] - 1s 45ms/step - loss: 0.0216\n",
            "Epoch 17/100\n",
            "12/12 [==============================] - 1s 48ms/step - loss: 0.0163\n",
            "Epoch 18/100\n",
            "12/12 [==============================] - 0s 40ms/step - loss: 0.0233\n",
            "Epoch 19/100\n",
            "12/12 [==============================] - 0s 38ms/step - loss: 0.0215\n",
            "Epoch 20/100\n",
            "12/12 [==============================] - 0s 38ms/step - loss: 0.0168\n",
            "Epoch 21/100\n",
            "12/12 [==============================] - 0s 38ms/step - loss: 0.0269\n",
            "Epoch 22/100\n",
            "12/12 [==============================] - 0s 38ms/step - loss: 0.0174\n",
            "Epoch 23/100\n",
            "12/12 [==============================] - 1s 44ms/step - loss: 0.0330\n",
            "Epoch 24/100\n",
            "12/12 [==============================] - 0s 41ms/step - loss: 0.0246\n",
            "Epoch 25/100\n",
            "12/12 [==============================] - 1s 51ms/step - loss: 0.0260\n",
            "Epoch 26/100\n",
            "12/12 [==============================] - 1s 54ms/step - loss: 0.0232\n",
            "Epoch 27/100\n",
            "12/12 [==============================] - 1s 53ms/step - loss: 0.0192\n",
            "Epoch 28/100\n",
            "12/12 [==============================] - 1s 58ms/step - loss: 0.0162\n",
            "Epoch 29/100\n",
            "12/12 [==============================] - 1s 47ms/step - loss: 0.0193\n",
            "Epoch 30/100\n",
            "12/12 [==============================] - 1s 57ms/step - loss: 0.0281\n",
            "Epoch 31/100\n",
            "12/12 [==============================] - 1s 50ms/step - loss: 0.0284\n",
            "Epoch 32/100\n",
            "12/12 [==============================] - 1s 52ms/step - loss: 0.0162\n",
            "Epoch 33/100\n",
            "12/12 [==============================] - 1s 48ms/step - loss: 0.0150\n",
            "Epoch 34/100\n",
            "12/12 [==============================] - 1s 58ms/step - loss: 0.0138\n",
            "Epoch 35/100\n",
            "12/12 [==============================] - 1s 56ms/step - loss: 0.0158\n",
            "Epoch 36/100\n",
            "12/12 [==============================] - 1s 56ms/step - loss: 0.0220\n",
            "Epoch 37/100\n",
            "12/12 [==============================] - 1s 55ms/step - loss: 0.0234\n",
            "Epoch 38/100\n",
            "12/12 [==============================] - 1s 57ms/step - loss: 0.0168\n",
            "Epoch 39/100\n",
            "12/12 [==============================] - 1s 44ms/step - loss: 0.0151\n",
            "Epoch 40/100\n",
            "12/12 [==============================] - 1s 52ms/step - loss: 0.0129\n",
            "Epoch 41/100\n",
            "12/12 [==============================] - 1s 52ms/step - loss: 0.0161\n",
            "Epoch 42/100\n",
            "12/12 [==============================] - 1s 46ms/step - loss: 0.0177\n",
            "Epoch 43/100\n",
            "12/12 [==============================] - 1s 53ms/step - loss: 0.0149\n",
            "Epoch 44/100\n",
            "12/12 [==============================] - 1s 63ms/step - loss: 0.0182\n",
            "Epoch 45/100\n",
            "12/12 [==============================] - 1s 66ms/step - loss: 0.0133\n",
            "Epoch 46/100\n",
            "12/12 [==============================] - 1s 53ms/step - loss: 0.0166\n",
            "Epoch 47/100\n",
            "12/12 [==============================] - 1s 55ms/step - loss: 0.0119\n",
            "Epoch 48/100\n",
            "12/12 [==============================] - 1s 53ms/step - loss: 0.0107\n",
            "Epoch 49/100\n",
            "12/12 [==============================] - 1s 53ms/step - loss: 0.0186\n",
            "Epoch 50/100\n",
            "12/12 [==============================] - 1s 51ms/step - loss: 0.0265\n",
            "Epoch 51/100\n",
            "12/12 [==============================] - 1s 52ms/step - loss: 0.0147\n",
            "Epoch 52/100\n",
            "12/12 [==============================] - 1s 54ms/step - loss: 0.0127\n",
            "Epoch 53/100\n",
            "12/12 [==============================] - 1s 56ms/step - loss: 0.0119\n",
            "Epoch 54/100\n",
            "12/12 [==============================] - 1s 45ms/step - loss: 0.0123\n",
            "Epoch 55/100\n",
            "12/12 [==============================] - 1s 45ms/step - loss: 0.0114\n",
            "Epoch 56/100\n",
            "12/12 [==============================] - 1s 44ms/step - loss: 0.0066\n",
            "Epoch 57/100\n",
            "12/12 [==============================] - 1s 52ms/step - loss: 0.0096\n",
            "Epoch 58/100\n",
            "12/12 [==============================] - 1s 46ms/step - loss: 0.0252\n",
            "Epoch 59/100\n",
            "12/12 [==============================] - 1s 49ms/step - loss: 0.0116\n",
            "Epoch 60/100\n",
            "12/12 [==============================] - 0s 36ms/step - loss: 0.0185\n",
            "Epoch 61/100\n",
            "12/12 [==============================] - 0s 37ms/step - loss: 0.0166\n",
            "Epoch 62/100\n",
            "12/12 [==============================] - 0s 37ms/step - loss: 0.0082\n",
            "Epoch 63/100\n",
            "12/12 [==============================] - 1s 44ms/step - loss: 0.0111\n",
            "Epoch 64/100\n",
            "12/12 [==============================] - 0s 36ms/step - loss: 0.0080\n",
            "Epoch 65/100\n",
            "12/12 [==============================] - 0s 37ms/step - loss: 0.0069\n",
            "Epoch 66/100\n",
            "12/12 [==============================] - 0s 38ms/step - loss: 0.0081\n",
            "Epoch 67/100\n",
            "12/12 [==============================] - 0s 37ms/step - loss: 0.0088\n",
            "Epoch 68/100\n",
            "12/12 [==============================] - 0s 35ms/step - loss: 0.0065\n",
            "Epoch 69/100\n",
            "12/12 [==============================] - 0s 33ms/step - loss: 0.0054\n",
            "Epoch 70/100\n",
            "12/12 [==============================] - 0s 33ms/step - loss: 0.0062\n",
            "Epoch 71/100\n",
            "12/12 [==============================] - 0s 32ms/step - loss: 0.0072\n",
            "Epoch 72/100\n",
            "12/12 [==============================] - 0s 34ms/step - loss: 0.0119\n",
            "Epoch 73/100\n",
            "12/12 [==============================] - 0s 34ms/step - loss: 0.0060\n",
            "Epoch 74/100\n",
            "12/12 [==============================] - 0s 35ms/step - loss: 0.0052\n",
            "Epoch 75/100\n",
            "12/12 [==============================] - 0s 31ms/step - loss: 0.0044\n",
            "Epoch 76/100\n",
            "12/12 [==============================] - 0s 29ms/step - loss: 0.0041\n",
            "Epoch 77/100\n",
            "12/12 [==============================] - 0s 33ms/step - loss: 0.0051\n",
            "Epoch 78/100\n",
            "12/12 [==============================] - 0s 32ms/step - loss: 0.0057\n",
            "Epoch 79/100\n",
            "12/12 [==============================] - 0s 31ms/step - loss: 0.0075\n",
            "Epoch 80/100\n",
            "12/12 [==============================] - 0s 29ms/step - loss: 0.0109\n",
            "Epoch 81/100\n",
            "12/12 [==============================] - 0s 31ms/step - loss: 0.0141\n",
            "Epoch 82/100\n",
            "12/12 [==============================] - 0s 31ms/step - loss: 0.0140\n",
            "Epoch 83/100\n",
            "12/12 [==============================] - 0s 31ms/step - loss: 0.0343\n",
            "Epoch 84/100\n",
            "12/12 [==============================] - 0s 30ms/step - loss: 0.0077\n",
            "Epoch 85/100\n",
            "12/12 [==============================] - 0s 31ms/step - loss: 0.0071\n",
            "Epoch 86/100\n",
            "12/12 [==============================] - 0s 30ms/step - loss: 0.0129\n",
            "Epoch 87/100\n",
            "12/12 [==============================] - 0s 32ms/step - loss: 0.0154\n",
            "Epoch 88/100\n",
            "12/12 [==============================] - 0s 31ms/step - loss: 0.0066\n",
            "Epoch 89/100\n",
            "12/12 [==============================] - 0s 32ms/step - loss: 0.0065\n",
            "Epoch 90/100\n",
            "12/12 [==============================] - 0s 31ms/step - loss: 0.0061\n",
            "Epoch 91/100\n",
            "12/12 [==============================] - 0s 31ms/step - loss: 0.0074\n",
            "Epoch 92/100\n",
            "12/12 [==============================] - 0s 34ms/step - loss: 0.0042\n",
            "Epoch 93/100\n",
            "12/12 [==============================] - 0s 32ms/step - loss: 0.0046\n",
            "Epoch 94/100\n",
            "12/12 [==============================] - 0s 29ms/step - loss: 0.0033\n",
            "Epoch 95/100\n",
            "12/12 [==============================] - 0s 33ms/step - loss: 0.0038\n",
            "Epoch 96/100\n",
            "12/12 [==============================] - 0s 35ms/step - loss: 0.0061\n",
            "Epoch 97/100\n",
            "12/12 [==============================] - 0s 35ms/step - loss: 0.0089\n",
            "Epoch 98/100\n",
            "12/12 [==============================] - 0s 36ms/step - loss: 0.0055\n",
            "Epoch 99/100\n",
            "12/12 [==============================] - 0s 32ms/step - loss: 0.0040\n",
            "Epoch 100/100\n",
            "12/12 [==============================] - 0s 31ms/step - loss: 0.0054\n"
          ],
          "name": "stdout"
        },
        {
          "output_type": "execute_result",
          "data": {
            "text/plain": [
              "<keras.callbacks.History at 0x7f7f1e9d1908>"
            ]
          },
          "metadata": {
            "tags": []
          },
          "execution_count": 16
        }
      ]
    },
    {
      "metadata": {
        "id": "qwcyiSfRKqvW",
        "colab_type": "code",
        "colab": {}
      },
      "cell_type": "code",
      "source": [
        "predicted_value= model.predict(X_test)\n"
      ],
      "execution_count": 0,
      "outputs": []
    },
    {
      "metadata": {
        "id": "C9lKUAVJKwqe",
        "colab_type": "code",
        "outputId": "bcb24bea-2d91-41e0-92d8-9f646774788e",
        "colab": {
          "base_uri": "https://localhost:8080/",
          "height": 294
        }
      },
      "cell_type": "code",
      "source": [
        "plt.plot(predicted_value, color= 'red')\n",
        "plt.plot(input_data[:5,1], color='green')\n",
        "plt.title(\"Annual Temp&Vegetation\")\n",
        "plt.xlabel(\"Time (latest-> oldest)\")\n",
        "plt.ylabel(\"Vegetation\")\n",
        "plt.show()"
      ],
      "execution_count": 0,
      "outputs": [
        {
          "output_type": "display_data",
          "data": {
            "image/png": "[encoded data removed]",
            "text/plain": [
              "<Figure size 432x288 with 1 Axes>"
            ]
          },
          "metadata": {
            "tags": []
          }
        }
      ]
    },
    {
      "metadata": {
        "id": "t57qpPETOtTO",
        "colab_type": "code",
        "outputId": "66ed358b-bcf1-4f5f-df9f-4595c7312618",
        "colab": {
          "base_uri": "https://localhost:8080/",
          "height": 102
        }
      },
      "cell_type": "code",
      "source": [
        "predicted_value"
      ],
      "execution_count": 0,
      "outputs": [
        {
          "output_type": "execute_result",
          "data": {
            "text/plain": [
              "array([[0.12860474],\n",
              "       [0.7867095 ],\n",
              "       [0.28377488],\n",
              "       [0.36459327],\n",
              "       [0.24832784]], dtype=float32)"
            ]
          },
          "metadata": {
            "tags": []
          },
          "execution_count": 19
        }
      ]
    },
    {
      "metadata": {
        "id": "ZVQzji9pZ_pV",
        "colab_type": "code",
        "outputId": "3971f48f-bed2-440a-8093-0de28c1d26e4",
        "colab": {
          "base_uri": "https://localhost:8080/",
          "height": 34
        }
      },
      "cell_type": "code",
      "source": [
        "input_data[:5,1]\n"
      ],
      "execution_count": 0,
      "outputs": [
        {
          "output_type": "execute_result",
          "data": {
            "text/plain": [
              "array([0.13358689, 1.        , 0.39038641, 0.48542181, 0.31764515])"
            ]
          },
          "metadata": {
            "tags": []
          },
          "execution_count": 20
        }
      ]
    },
    {
      "metadata": {
        "id": "yiiLrYqJamzU",
        "colab_type": "code",
        "outputId": "25361e48-36a0-4e96-fa15-0db28d9c31ba",
        "colab": {
          "base_uri": "https://localhost:8080/",
          "height": 34
        }
      },
      "cell_type": "code",
      "source": [
        "import sklearn\n",
        "from sklearn import metrics\n",
        "sklearn.metrics.r2_score(input_data[:5,1], predicted_value, sample_weight=None, multioutput='uniform_average')"
      ],
      "execution_count": 0,
      "outputs": [
        {
          "output_type": "execute_result",
          "data": {
            "text/plain": [
              "0.8199718299615444"
            ]
          },
          "metadata": {
            "tags": []
          },
          "execution_count": 21
        }
      ]
    },
    {
      "metadata": {
        "id": "q35ioFj4LMD3",
        "colab_type": "code",
        "colab": {}
      },
      "cell_type": "code",
      "source": [
        ""
      ],
      "execution_count": 0,
      "outputs": []
    },
    {
      "metadata": {
        "id": "mrjCh877LLAR",
        "colab_type": "text"
      },
      "cell_type": "markdown",
      "source": [
        ""
      ]
    },
    {
      "metadata": {
        "id": "N7dFeAWWDRma",
        "colab_type": "code",
        "outputId": "874e9249-354d-4a60-ea46-2d4a393e821d",
        "colab": {
          "base_uri": "https://localhost:8080/",
          "height": 34
        }
      },
      "cell_type": "code",
      "source": [
        "rmse_test=np.sqrt(np.mean(np.power((np.array(input_data[:5,1])-np.array(predicted_value)),2)))\n",
        "print(rmse_test)"
      ],
      "execution_count": 0,
      "outputs": [
        {
          "output_type": "stream",
          "text": [
            "0.3822840928140999\n"
          ],
          "name": "stdout"
        }
      ]
    },
    {
      "metadata": {
        "id": "ZoZm30BSDhIm",
        "colab_type": "code",
        "outputId": "f671e700-ff3f-499c-9741-9325ddc90ed6",
        "colab": {
          "base_uri": "https://localhost:8080/",
          "height": 282
        }
      },
      "cell_type": "code",
      "source": [
        "plt.scatter(input_data[:5,1],predicted_value)"
      ],
      "execution_count": 0,
      "outputs": [
        {
          "output_type": "execute_result",
          "data": {
            "text/plain": [
              "<matplotlib.collections.PathCollection at 0x7f7f0626ea90>"
            ]
          },
          "metadata": {
            "tags": []
          },
          "execution_count": 23
        },
        {
          "output_type": "display_data",
          "data": {
            "image/png": "[encoded data removed]",
            "text/plain": [
              "<Figure size 432x288 with 1 Axes>"
            ]
          },
          "metadata": {
            "tags": []
          }
        }
      ]
    }
  ]
}